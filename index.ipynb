{
 "cells": [
  {
   "cell_type": "markdown",
   "metadata": {},
   "source": [
    "# Nearest Neighbors Lab"
   ]
  },
  {
   "cell_type": "markdown",
   "metadata": {},
   "source": [
    "\n",
    "### Introduction\n",
    "\n",
    "In this lab, you apply nearest neighbors technique to help a taxi company predict the length of their rides.  Imagine that we are hired to consult for LiftOff, a limo and taxi service that is just opening up in NYC.  Liftoff wants it's taxi drivers to target longer rides, as the longer the ride the more money it makes.  LiftOff has the following theory:\n",
    "\n",
    "* the pickup location of a taxi ride can help predict the length of the ride.  \n",
    "\n",
    "\n",
    "\n",
    "LiftOff asks us to do some analysis to write a function that will allow it to **predict the length of a taxi ride for any given location **.\n",
    "\n",
    "Our technique will be the following:\n",
    "  * **Collect** Obtain the data containing all of the taxi information, and only select the attributes of taxi trips that we need \n",
    "  * ** Explore ** Examine the attributes of our data, and plot some of our data on a map\n",
    "  * ** Train ** Write our nearest neighbors formula, and change the number of nearby trips to predict the length of a new trip\n",
    "  * ** Predict ** Use our function to predict trip lengths of new locations"
   ]
  },
  {
   "cell_type": "markdown",
   "metadata": {},
   "source": [
    "### Collect and Explore the data"
   ]
  },
  {
   "cell_type": "markdown",
   "metadata": {},
   "source": [
    "#### Collect the Data"
   ]
  },
  {
   "cell_type": "markdown",
   "metadata": {},
   "source": [
    "Luckily for us, [NYC Open Data](https://opendata.cityofnewyork.us/) collects information about NYC taxi trips and provides this data on [its website](https://data.cityofnewyork.us/Transportation/2014-Yellow-Taxi-Trip-Data/gn7m-em8n)."
   ]
  },
  {
   "cell_type": "markdown",
   "metadata": {},
   "source": [
    "![](./nyc-taxi.png)"
   ]
  },
  {
   "cell_type": "markdown",
   "metadata": {},
   "source": [
    "For your reading pleasure, the data has already been downloaded into the [trips.json](https://github.com/learn-co-curriculum/nearest-neighbors-lab/blob/master/trips.json) file in this lab which you can find here.  We'll use Python's `json` library to take the data from the `trips.json` file and store it as a variable in our notebook."
   ]
  },
  {
   "cell_type": "code",
   "execution_count": 39,
   "metadata": {},
   "outputs": [],
   "source": [
    "import json\n",
    "# First, read the file\n",
    "trips_file = open('trips.json')\n",
    "# Then, convert contents to list of dictionaries \n",
    "trips = json.load(trips_file)"
   ]
  },
  {
   "cell_type": "markdown",
   "metadata": {},
   "source": [
    "> Press shift + enter"
   ]
  },
  {
   "cell_type": "markdown",
   "metadata": {},
   "source": [
    "#### Explore the data"
   ]
  },
  {
   "cell_type": "markdown",
   "metadata": {},
   "source": [
    "The next step is to explore the data.  First, let's see how many trips we have."
   ]
  },
  {
   "cell_type": "code",
   "execution_count": 40,
   "metadata": {},
   "outputs": [
    {
     "data": {
      "text/plain": [
       "1000"
      ]
     },
     "execution_count": 40,
     "metadata": {},
     "output_type": "execute_result"
    }
   ],
   "source": [
    "len(trips)"
   ]
  },
  {
   "cell_type": "markdown",
   "metadata": {},
   "source": [
    "Not bad at all.  Now let's see what each individual trip looks like.  Each trip is a dictionary, so we can see the attributes of each trip with the `keys` function."
   ]
  },
  {
   "cell_type": "code",
   "execution_count": 41,
   "metadata": {
    "scrolled": true
   },
   "outputs": [
    {
     "data": {
      "text/plain": [
       "dict_keys(['dropoff_datetime', 'dropoff_latitude', 'dropoff_longitude', 'fare_amount', 'imp_surcharge', 'mta_tax', 'passenger_count', 'payment_type', 'pickup_datetime', 'pickup_latitude', 'pickup_longitude', 'rate_code', 'tip_amount', 'tolls_amount', 'total_amount', 'trip_distance', 'vendor_id'])"
      ]
     },
     "execution_count": 41,
     "metadata": {},
     "output_type": "execute_result"
    }
   ],
   "source": [
    "trips[0].keys()"
   ]
  },
  {
   "cell_type": "markdown",
   "metadata": {},
   "source": [
    "#### Limit our data"
   ]
  },
  {
   "cell_type": "markdown",
   "metadata": {},
   "source": [
    "Ok, now that we have explored some of our data, let's begin to think through what data is relevant for our task."
   ]
  },
  {
   "cell_type": "markdown",
   "metadata": {
    "collapsed": true
   },
   "source": [
    "Remember that our task is to **use the trip location to predict the length of a trip**.  So let's select the `pickup_latitude`, `pickup_longitude`, and `trip_distance` from each trip.  That will give us the trip location and related `trip_distance` for each trip.  Then based on these **actual** trip distances we can use nearest neighbors to predict an **expected** trip distance for a trip, provided an **actual** location."
   ]
  },
  {
   "cell_type": "markdown",
   "metadata": {},
   "source": [
    "** Add in about trip distance ** "
   ]
  },
  {
   "cell_type": "markdown",
   "metadata": {},
   "source": [
    "Write a function called `parse_trips(trips)` that returns a list of the trips with only the following attributes: \n",
    "* `trip_distance`\n",
    "* `pickup_latitude`\n",
    "* `pickup_longitude`"
   ]
  },
  {
   "cell_type": "code",
   "execution_count": 42,
   "metadata": {},
   "outputs": [],
   "source": [
    "def parse_trips(trips):\n",
    "    return list(map(lambda x: {'trip_distance': x['trip_distance'],\n",
    "                              'pickup_latitude': x['pickup_latitude'],\n",
    "                              'pickup_longitude': x['pickup_longitude']}, trips))"
   ]
  },
  {
   "cell_type": "code",
   "execution_count": 43,
   "metadata": {},
   "outputs": [
    {
     "data": {
      "text/plain": [
       "{'trip_distance': '18.379999999999999',\n",
       " 'pickup_latitude': '40.64499',\n",
       " 'pickup_longitude': '-73.781149999999997'}"
      ]
     },
     "execution_count": 43,
     "metadata": {},
     "output_type": "execute_result"
    }
   ],
   "source": [
    "parsed_trips = parse_trips(trips)\n",
    "parsed_trips and parsed_trips[0]\n",
    "\n",
    "# {'pickup_latitude': '40.64499',\n",
    "#  'pickup_longitude': '-73.78115',\n",
    "#  'trip_distance': '18.38'}"
   ]
  },
  {
   "cell_type": "markdown",
   "metadata": {},
   "source": [
    "Now, there's just one change to make.  If you look at one of the trips, all of the values are strings.  Let's change them to be floats."
   ]
  },
  {
   "cell_type": "code",
   "execution_count": 44,
   "metadata": {},
   "outputs": [],
   "source": [
    "def float_values(trips):    \n",
    "    return list(map(lambda x: {'trip_distance': float(x['trip_distance']),\n",
    "                              'pickup_latitude': float(x['pickup_latitude']),\n",
    "                              'pickup_longitude': float(x['pickup_longitude'])}, trips))"
   ]
  },
  {
   "cell_type": "code",
   "execution_count": 45,
   "metadata": {},
   "outputs": [],
   "source": [
    "cleaned_trips = float_values(parsed_trips)"
   ]
  },
  {
   "cell_type": "code",
   "execution_count": 46,
   "metadata": {},
   "outputs": [
    {
     "data": {
      "text/plain": [
       "{'trip_distance': 18.38,\n",
       " 'pickup_latitude': 40.64499,\n",
       " 'pickup_longitude': -73.78115}"
      ]
     },
     "execution_count": 46,
     "metadata": {},
     "output_type": "execute_result"
    }
   ],
   "source": [
    "cleaned_trips[0]\n",
    "\n",
    "# {'pickup_latitude': 40.64499,\n",
    "#  'pickup_longitude': -73.78115,\n",
    "#  'trip_distance': 18.38}"
   ]
  },
  {
   "cell_type": "markdown",
   "metadata": {},
   "source": [
    "### Exploring the Data"
   ]
  },
  {
   "cell_type": "markdown",
   "metadata": {},
   "source": [
    "Now that we have paired down our data, let's get a sense of our trip data.  We can use the `folium` Python library to plot a map of Manhattan, and our data.  First we must import `folium`, and then use the `Map` function to pass through a `location`, and `zoom_start`.  If a map isn't showing up below, copy and paste the command `pip install -r requirements.txt` into your terminal to install `folium` then try again."
   ]
  },
  {
   "cell_type": "code",
   "execution_count": 47,
   "metadata": {},
   "outputs": [],
   "source": [
    "import folium\n",
    "manhattan_map = folium.Map(location=[40.7589, -73.9851], zoom_start=11)"
   ]
  },
  {
   "cell_type": "code",
   "execution_count": 48,
   "metadata": {
    "scrolled": true
   },
   "outputs": [
    {
     "data": {
      "text/html": [
       "<div style=\"width:100%;\"><div style=\"position:relative;width:100%;height:0;padding-bottom:60%;\"><iframe src=\"data:text/html;charset=utf-8;base64,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\" style=\"position:absolute;width:100%;height:100%;left:0;top:0;border:none !important;\" allowfullscreen webkitallowfullscreen mozallowfullscreen></iframe></div></div>"
      ],
      "text/plain": [
       "<folium.folium.Map at 0x7f8144f300b8>"
      ]
     },
     "execution_count": 48,
     "metadata": {},
     "output_type": "execute_result"
    }
   ],
   "source": [
    "manhattan_map"
   ]
  },
  {
   "cell_type": "markdown",
   "metadata": {},
   "source": [
    "Ok, now let's see how we could add a dot to mark a specific location.  We'll start with Times Square."
   ]
  },
  {
   "cell_type": "code",
   "execution_count": 49,
   "metadata": {},
   "outputs": [
    {
     "data": {
      "text/plain": [
       "<folium.vector_layers.CircleMarker at 0x7f8144e95d68>"
      ]
     },
     "execution_count": 49,
     "metadata": {},
     "output_type": "execute_result"
    }
   ],
   "source": [
    "marker = folium.CircleMarker(location = [40.7589, -73.9851], radius=10)\n",
    "marker.add_to(manhattan_map)"
   ]
  },
  {
   "cell_type": "markdown",
   "metadata": {},
   "source": [
    "Above, we first create a marker.  Then we add that circle marker to the `manhattan_map` we created earlier. "
   ]
  },
  {
   "cell_type": "code",
   "execution_count": 50,
   "metadata": {
    "scrolled": false
   },
   "outputs": [
    {
     "data": {
      "text/html": [
       "<div style=\"width:100%;\"><div style=\"position:relative;width:100%;height:0;padding-bottom:60%;\"><iframe src=\"data:text/html;charset=utf-8;base64,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\" style=\"position:absolute;width:100%;height:100%;left:0;top:0;border:none !important;\" allowfullscreen webkitallowfullscreen mozallowfullscreen></iframe></div></div>"
      ],
      "text/plain": [
       "<folium.folium.Map at 0x7f8144f300b8>"
      ]
     },
     "execution_count": 50,
     "metadata": {},
     "output_type": "execute_result"
    }
   ],
   "source": [
    "manhattan_map"
   ]
  },
  {
   "cell_type": "markdown",
   "metadata": {},
   "source": [
    "Do you see that blue dot near Time's Square?  That is our marker.  \n",
    "\n",
    "So now that we can plot one marker on a map, we should have a sense of how we can plot many markers on a map to display our taxi ride data.  We simply plot a map, and then we add a marker for each location of a taxi trip.\n",
    "\n",
    "Now let's write some functions to allow us to plot maps and add markers a little more easily.  "
   ]
  },
  {
   "cell_type": "markdown",
   "metadata": {},
   "source": [
    "#### Writing some map plotting functions"
   ]
  },
  {
   "cell_type": "markdown",
   "metadata": {},
   "source": [
    "As a first step towards this, note that the functions to create both a marker and map each take in a location as two element list, representing the latitude and longitude values.  Take another look:\n",
    "\n",
    "```python\n",
    "marker = folium.CircleMarker(location = [40.7589, -73.9851])\n",
    "manhattan_map = folium.Map(location=[40.7589, -73.9851])\n",
    "```\n",
    "\n",
    "So let's write a function called to create this two element list from a trip.  Write a function called `location` that  takes in a trip as an argument and returns a list where the first element is the latitude and the second is the longitude.  Remember that a location looks like the following:"
   ]
  },
  {
   "cell_type": "code",
   "execution_count": 51,
   "metadata": {},
   "outputs": [
    {
     "data": {
      "text/plain": [
       "{'pickup_latitude': 40.64499,\n",
       " 'pickup_longitude': -73.78115,\n",
       " 'trip_distance': 18.38}"
      ]
     },
     "execution_count": 51,
     "metadata": {},
     "output_type": "execute_result"
    }
   ],
   "source": [
    "first_trip = {'pickup_latitude': 40.64499, 'pickup_longitude': -73.78115,  'trip_distance': 18.38}\n",
    "first_trip"
   ]
  },
  {
   "cell_type": "code",
   "execution_count": 52,
   "metadata": {},
   "outputs": [],
   "source": [
    "def location(trip):\n",
    "    return [trip['pickup_latitude'], trip['pickup_longitude']]"
   ]
  },
  {
   "cell_type": "code",
   "execution_count": 53,
   "metadata": {},
   "outputs": [
    {
     "data": {
      "text/plain": [
       "[40.64499, -73.78115]"
      ]
     },
     "execution_count": 53,
     "metadata": {},
     "output_type": "execute_result"
    }
   ],
   "source": [
    "first_location = location(first_trip) # [40.64499, -73.78115]\n",
    "first_location # [40.64499, -73.78115]"
   ]
  },
  {
   "cell_type": "markdown",
   "metadata": {},
   "source": [
    "Ok, now that we can turn a trip into a location, let's turn a location into a marker.  Write a function called `to_marker` that takes in a location (in the form of a list) as an argument, and returns a folium `circleMarker` for that location.  The radius of the marker should always equal 6."
   ]
  },
  {
   "cell_type": "code",
   "execution_count": 59,
   "metadata": {},
   "outputs": [],
   "source": [
    "def to_marker(location):\n",
    "    return folium.CircleMarker(location)"
   ]
  },
  {
   "cell_type": "code",
   "execution_count": 56,
   "metadata": {},
   "outputs": [
    {
     "ename": "TypeError",
     "evalue": "the JSON object must be str, bytes or bytearray, not 'dict'",
     "output_type": "error",
     "traceback": [
      "\u001b[0;31m\u001b[0m",
      "\u001b[0;31mTypeError\u001b[0mTraceback (most recent call last)",
      "\u001b[0;32m<ipython-input-56-aea535683066>\u001b[0m in \u001b[0;36m<module>\u001b[0;34m\u001b[0m\n\u001b[1;32m      3\u001b[0m \u001b[0;34m\u001b[0m\u001b[0m\n\u001b[1;32m      4\u001b[0m \u001b[0mtimes_square_marker\u001b[0m \u001b[0;32mand\u001b[0m \u001b[0mtimes_square_marker\u001b[0m\u001b[0;34m.\u001b[0m\u001b[0mlocation\u001b[0m \u001b[0;31m# [40.7589, -73.9851]\u001b[0m\u001b[0;34m\u001b[0m\u001b[0;34m\u001b[0m\u001b[0m\n\u001b[0;32m----> 5\u001b[0;31m \u001b[0mtimes_square_marker\u001b[0m \u001b[0;32mand\u001b[0m \u001b[0mjson\u001b[0m\u001b[0;34m.\u001b[0m\u001b[0mloads\u001b[0m\u001b[0;34m(\u001b[0m\u001b[0mtimes_square_marker\u001b[0m\u001b[0;34m.\u001b[0m\u001b[0moptions\u001b[0m\u001b[0;34m)\u001b[0m\u001b[0;34m[\u001b[0m\u001b[0;34m'radius'\u001b[0m\u001b[0;34m]\u001b[0m \u001b[0;31m# 6\u001b[0m\u001b[0;34m\u001b[0m\u001b[0;34m\u001b[0m\u001b[0m\n\u001b[0m",
      "\u001b[0;32m/opt/conda/envs/learn-env/lib/python3.6/json/__init__.py\u001b[0m in \u001b[0;36mloads\u001b[0;34m(s, encoding, cls, object_hook, parse_float, parse_int, parse_constant, object_pairs_hook, **kw)\u001b[0m\n\u001b[1;32m    346\u001b[0m         \u001b[0;32mif\u001b[0m \u001b[0;32mnot\u001b[0m \u001b[0misinstance\u001b[0m\u001b[0;34m(\u001b[0m\u001b[0ms\u001b[0m\u001b[0;34m,\u001b[0m \u001b[0;34m(\u001b[0m\u001b[0mbytes\u001b[0m\u001b[0;34m,\u001b[0m \u001b[0mbytearray\u001b[0m\u001b[0;34m)\u001b[0m\u001b[0;34m)\u001b[0m\u001b[0;34m:\u001b[0m\u001b[0;34m\u001b[0m\u001b[0;34m\u001b[0m\u001b[0m\n\u001b[1;32m    347\u001b[0m             raise TypeError('the JSON object must be str, bytes or bytearray, '\n\u001b[0;32m--> 348\u001b[0;31m                             'not {!r}'.format(s.__class__.__name__))\n\u001b[0m\u001b[1;32m    349\u001b[0m         \u001b[0ms\u001b[0m \u001b[0;34m=\u001b[0m \u001b[0ms\u001b[0m\u001b[0;34m.\u001b[0m\u001b[0mdecode\u001b[0m\u001b[0;34m(\u001b[0m\u001b[0mdetect_encoding\u001b[0m\u001b[0;34m(\u001b[0m\u001b[0ms\u001b[0m\u001b[0;34m)\u001b[0m\u001b[0;34m,\u001b[0m \u001b[0;34m'surrogatepass'\u001b[0m\u001b[0;34m)\u001b[0m\u001b[0;34m\u001b[0m\u001b[0;34m\u001b[0m\u001b[0m\n\u001b[1;32m    350\u001b[0m \u001b[0;34m\u001b[0m\u001b[0m\n",
      "\u001b[0;31mTypeError\u001b[0m: the JSON object must be str, bytes or bytearray, not 'dict'"
     ]
    }
   ],
   "source": [
    "import json\n",
    "times_square_marker = to_marker([40.7589, -73.9851])\n",
    "\n",
    "times_square_marker and times_square_marker.location # [40.7589, -73.9851]\n",
    "times_square_marker and json.loads(times_square_marker.options)['radius'] # 6"
   ]
  },
  {
   "cell_type": "markdown",
   "metadata": {},
   "source": [
    "Ok, now that we know how to produce a single marker, let's write a function to produce lots.  We can write a function called `markers_from_trips` that takes in a list of trips, and returns a marker object for each trip.  "
   ]
  },
  {
   "cell_type": "code",
   "execution_count": 57,
   "metadata": {},
   "outputs": [],
   "source": [
    "def markers_from_trips(trips):\n",
    "    return list(map(lambda trip: to_marker(location(trip)), trips))"
   ]
  },
  {
   "cell_type": "code",
   "execution_count": 58,
   "metadata": {},
   "outputs": [
    {
     "data": {
      "text/plain": [
       "[<folium.vector_layers.CircleMarker at 0x7f8170315048>,\n",
       " <folium.vector_layers.CircleMarker at 0x7f8170315080>,\n",
       " <folium.vector_layers.CircleMarker at 0x7f81703152b0>,\n",
       " <folium.vector_layers.CircleMarker at 0x7f81703154a8>,\n",
       " <folium.vector_layers.CircleMarker at 0x7f8170315470>,\n",
       " <folium.vector_layers.CircleMarker at 0x7f8170315278>,\n",
       " <folium.vector_layers.CircleMarker at 0x7f8144e95978>,\n",
       " <folium.vector_layers.CircleMarker at 0x7f8170315390>,\n",
       " <folium.vector_layers.CircleMarker at 0x7f8170315400>,\n",
       " <folium.vector_layers.CircleMarker at 0x7f81703152e8>,\n",
       " <folium.vector_layers.CircleMarker at 0x7f8170315710>,\n",
       " <folium.vector_layers.CircleMarker at 0x7f8170315518>,\n",
       " <folium.vector_layers.CircleMarker at 0x7f8170315748>,\n",
       " <folium.vector_layers.CircleMarker at 0x7f8170315550>,\n",
       " <folium.vector_layers.CircleMarker at 0x7f81703155c0>,\n",
       " <folium.vector_layers.CircleMarker at 0x7f81703156a0>,\n",
       " <folium.vector_layers.CircleMarker at 0x7f8170315588>,\n",
       " <folium.vector_layers.CircleMarker at 0x7f8170315668>,\n",
       " <folium.vector_layers.CircleMarker at 0x7f81703155f8>,\n",
       " <folium.vector_layers.CircleMarker at 0x7f8170315780>,\n",
       " <folium.vector_layers.CircleMarker at 0x7f81703157b8>,\n",
       " <folium.vector_layers.CircleMarker at 0x7f81703157f0>,\n",
       " <folium.vector_layers.CircleMarker at 0x7f8170315828>,\n",
       " <folium.vector_layers.CircleMarker at 0x7f8170315860>,\n",
       " <folium.vector_layers.CircleMarker at 0x7f8170315898>,\n",
       " <folium.vector_layers.CircleMarker at 0x7f81703158d0>,\n",
       " <folium.vector_layers.CircleMarker at 0x7f8170315908>,\n",
       " <folium.vector_layers.CircleMarker at 0x7f8170315940>,\n",
       " <folium.vector_layers.CircleMarker at 0x7f8170315978>,\n",
       " <folium.vector_layers.CircleMarker at 0x7f81703159b0>,\n",
       " <folium.vector_layers.CircleMarker at 0x7f81703159e8>,\n",
       " <folium.vector_layers.CircleMarker at 0x7f8170315a20>,\n",
       " <folium.vector_layers.CircleMarker at 0x7f8170315a58>,\n",
       " <folium.vector_layers.CircleMarker at 0x7f8170315a90>,\n",
       " <folium.vector_layers.CircleMarker at 0x7f8170315ac8>,\n",
       " <folium.vector_layers.CircleMarker at 0x7f8170315b00>,\n",
       " <folium.vector_layers.CircleMarker at 0x7f8170315b38>,\n",
       " <folium.vector_layers.CircleMarker at 0x7f8170315b70>,\n",
       " <folium.vector_layers.CircleMarker at 0x7f8170315ba8>,\n",
       " <folium.vector_layers.CircleMarker at 0x7f8170315be0>,\n",
       " <folium.vector_layers.CircleMarker at 0x7f8170315c18>,\n",
       " <folium.vector_layers.CircleMarker at 0x7f8170315c50>,\n",
       " <folium.vector_layers.CircleMarker at 0x7f8170315c88>,\n",
       " <folium.vector_layers.CircleMarker at 0x7f8170315cc0>,\n",
       " <folium.vector_layers.CircleMarker at 0x7f8170315cf8>,\n",
       " <folium.vector_layers.CircleMarker at 0x7f8170315d30>,\n",
       " <folium.vector_layers.CircleMarker at 0x7f8170315d68>,\n",
       " <folium.vector_layers.CircleMarker at 0x7f8170315da0>,\n",
       " <folium.vector_layers.CircleMarker at 0x7f8170315dd8>,\n",
       " <folium.vector_layers.CircleMarker at 0x7f8170315e10>,\n",
       " <folium.vector_layers.CircleMarker at 0x7f8170315e48>,\n",
       " <folium.vector_layers.CircleMarker at 0x7f8170315e80>,\n",
       " <folium.vector_layers.CircleMarker at 0x7f8170315eb8>,\n",
       " <folium.vector_layers.CircleMarker at 0x7f8170315ef0>,\n",
       " <folium.vector_layers.CircleMarker at 0x7f8170315f28>,\n",
       " <folium.vector_layers.CircleMarker at 0x7f8170315f60>,\n",
       " <folium.vector_layers.CircleMarker at 0x7f8170315f98>,\n",
       " <folium.vector_layers.CircleMarker at 0x7f8170315fd0>,\n",
       " <folium.vector_layers.CircleMarker at 0x7f8170315358>,\n",
       " <folium.vector_layers.CircleMarker at 0x7f8170473080>,\n",
       " <folium.vector_layers.CircleMarker at 0x7f81704730b8>,\n",
       " <folium.vector_layers.CircleMarker at 0x7f81704730f0>,\n",
       " <folium.vector_layers.CircleMarker at 0x7f8170473128>,\n",
       " <folium.vector_layers.CircleMarker at 0x7f8170473160>,\n",
       " <folium.vector_layers.CircleMarker at 0x7f8170473198>,\n",
       " <folium.vector_layers.CircleMarker at 0x7f81704731d0>,\n",
       " <folium.vector_layers.CircleMarker at 0x7f8170473208>,\n",
       " <folium.vector_layers.CircleMarker at 0x7f8170473240>,\n",
       " <folium.vector_layers.CircleMarker at 0x7f8170473278>,\n",
       " <folium.vector_layers.CircleMarker at 0x7f81704732b0>,\n",
       " <folium.vector_layers.CircleMarker at 0x7f81704732e8>,\n",
       " <folium.vector_layers.CircleMarker at 0x7f8170473320>,\n",
       " <folium.vector_layers.CircleMarker at 0x7f8170473358>,\n",
       " <folium.vector_layers.CircleMarker at 0x7f8170473390>,\n",
       " <folium.vector_layers.CircleMarker at 0x7f81704733c8>,\n",
       " <folium.vector_layers.CircleMarker at 0x7f8170473400>,\n",
       " <folium.vector_layers.CircleMarker at 0x7f8170473438>,\n",
       " <folium.vector_layers.CircleMarker at 0x7f8170473470>,\n",
       " <folium.vector_layers.CircleMarker at 0x7f81704734a8>,\n",
       " <folium.vector_layers.CircleMarker at 0x7f81704734e0>,\n",
       " <folium.vector_layers.CircleMarker at 0x7f8170473518>,\n",
       " <folium.vector_layers.CircleMarker at 0x7f8170473550>,\n",
       " <folium.vector_layers.CircleMarker at 0x7f8170473588>,\n",
       " <folium.vector_layers.CircleMarker at 0x7f81704735c0>,\n",
       " <folium.vector_layers.CircleMarker at 0x7f81704735f8>,\n",
       " <folium.vector_layers.CircleMarker at 0x7f8170473630>,\n",
       " <folium.vector_layers.CircleMarker at 0x7f8170473668>,\n",
       " <folium.vector_layers.CircleMarker at 0x7f81704736a0>,\n",
       " <folium.vector_layers.CircleMarker at 0x7f81704736d8>,\n",
       " <folium.vector_layers.CircleMarker at 0x7f8170473710>,\n",
       " <folium.vector_layers.CircleMarker at 0x7f8170473748>,\n",
       " <folium.vector_layers.CircleMarker at 0x7f8170473780>,\n",
       " <folium.vector_layers.CircleMarker at 0x7f81704737b8>,\n",
       " <folium.vector_layers.CircleMarker at 0x7f81704737f0>,\n",
       " <folium.vector_layers.CircleMarker at 0x7f8170473828>,\n",
       " <folium.vector_layers.CircleMarker at 0x7f8170473860>,\n",
       " <folium.vector_layers.CircleMarker at 0x7f8144e95d30>,\n",
       " <folium.vector_layers.CircleMarker at 0x7f8144e95b00>,\n",
       " <folium.vector_layers.CircleMarker at 0x7f8144e95b38>,\n",
       " <folium.vector_layers.CircleMarker at 0x7f8144e95a90>,\n",
       " <folium.vector_layers.CircleMarker at 0x7f8144e958d0>,\n",
       " <folium.vector_layers.CircleMarker at 0x7f8144e959e8>,\n",
       " <folium.vector_layers.CircleMarker at 0x7f8144e95588>,\n",
       " <folium.vector_layers.CircleMarker at 0x7f8144e95780>,\n",
       " <folium.vector_layers.CircleMarker at 0x7f8144e95908>,\n",
       " <folium.vector_layers.CircleMarker at 0x7f8144e95828>,\n",
       " <folium.vector_layers.CircleMarker at 0x7f8144e957b8>,\n",
       " <folium.vector_layers.CircleMarker at 0x7f8144e95748>,\n",
       " <folium.vector_layers.CircleMarker at 0x7f8144e95710>,\n",
       " <folium.vector_layers.CircleMarker at 0x7f8144e959b0>,\n",
       " <folium.vector_layers.CircleMarker at 0x7f8170473048>,\n",
       " <folium.vector_layers.CircleMarker at 0x7f81704738d0>,\n",
       " <folium.vector_layers.CircleMarker at 0x7f8170473908>,\n",
       " <folium.vector_layers.CircleMarker at 0x7f8170473940>,\n",
       " <folium.vector_layers.CircleMarker at 0x7f8170473978>,\n",
       " <folium.vector_layers.CircleMarker at 0x7f81704739b0>,\n",
       " <folium.vector_layers.CircleMarker at 0x7f81704739e8>,\n",
       " <folium.vector_layers.CircleMarker at 0x7f8170473a20>,\n",
       " <folium.vector_layers.CircleMarker at 0x7f8170473a58>,\n",
       " <folium.vector_layers.CircleMarker at 0x7f8170473a90>,\n",
       " <folium.vector_layers.CircleMarker at 0x7f8170473ac8>,\n",
       " <folium.vector_layers.CircleMarker at 0x7f8170473b00>,\n",
       " <folium.vector_layers.CircleMarker at 0x7f8170473b38>,\n",
       " <folium.vector_layers.CircleMarker at 0x7f8170473b70>,\n",
       " <folium.vector_layers.CircleMarker at 0x7f8170473ba8>,\n",
       " <folium.vector_layers.CircleMarker at 0x7f8170473be0>,\n",
       " <folium.vector_layers.CircleMarker at 0x7f8170473c18>,\n",
       " <folium.vector_layers.CircleMarker at 0x7f8170473c50>,\n",
       " <folium.vector_layers.CircleMarker at 0x7f8170473c88>,\n",
       " <folium.vector_layers.CircleMarker at 0x7f8170473cc0>,\n",
       " <folium.vector_layers.CircleMarker at 0x7f8170473cf8>,\n",
       " <folium.vector_layers.CircleMarker at 0x7f8170473d30>,\n",
       " <folium.vector_layers.CircleMarker at 0x7f8170473d68>,\n",
       " <folium.vector_layers.CircleMarker at 0x7f8170473da0>,\n",
       " <folium.vector_layers.CircleMarker at 0x7f8170473dd8>,\n",
       " <folium.vector_layers.CircleMarker at 0x7f8170473e10>,\n",
       " <folium.vector_layers.CircleMarker at 0x7f8170473e48>,\n",
       " <folium.vector_layers.CircleMarker at 0x7f8170473e80>,\n",
       " <folium.vector_layers.CircleMarker at 0x7f8170473eb8>,\n",
       " <folium.vector_layers.CircleMarker at 0x7f8170473ef0>,\n",
       " <folium.vector_layers.CircleMarker at 0x7f8170473f28>,\n",
       " <folium.vector_layers.CircleMarker at 0x7f8170473f60>,\n",
       " <folium.vector_layers.CircleMarker at 0x7f8170473f98>,\n",
       " <folium.vector_layers.CircleMarker at 0x7f8170473fd0>,\n",
       " <folium.vector_layers.CircleMarker at 0x7f8170473898>,\n",
       " <folium.vector_layers.CircleMarker at 0x7f8170363080>,\n",
       " <folium.vector_layers.CircleMarker at 0x7f81703630b8>,\n",
       " <folium.vector_layers.CircleMarker at 0x7f81703630f0>,\n",
       " <folium.vector_layers.CircleMarker at 0x7f8170363128>,\n",
       " <folium.vector_layers.CircleMarker at 0x7f8170363160>,\n",
       " <folium.vector_layers.CircleMarker at 0x7f8170363198>,\n",
       " <folium.vector_layers.CircleMarker at 0x7f81703631d0>,\n",
       " <folium.vector_layers.CircleMarker at 0x7f8170363208>,\n",
       " <folium.vector_layers.CircleMarker at 0x7f8170363240>,\n",
       " <folium.vector_layers.CircleMarker at 0x7f8170363278>,\n",
       " <folium.vector_layers.CircleMarker at 0x7f81703632b0>,\n",
       " <folium.vector_layers.CircleMarker at 0x7f81703632e8>,\n",
       " <folium.vector_layers.CircleMarker at 0x7f8170363320>,\n",
       " <folium.vector_layers.CircleMarker at 0x7f8170363358>,\n",
       " <folium.vector_layers.CircleMarker at 0x7f8170363390>,\n",
       " <folium.vector_layers.CircleMarker at 0x7f81703633c8>,\n",
       " <folium.vector_layers.CircleMarker at 0x7f8170363400>,\n",
       " <folium.vector_layers.CircleMarker at 0x7f8170363438>,\n",
       " <folium.vector_layers.CircleMarker at 0x7f8170363470>,\n",
       " <folium.vector_layers.CircleMarker at 0x7f81703634a8>,\n",
       " <folium.vector_layers.CircleMarker at 0x7f81703634e0>,\n",
       " <folium.vector_layers.CircleMarker at 0x7f8170363518>,\n",
       " <folium.vector_layers.CircleMarker at 0x7f8170363550>,\n",
       " <folium.vector_layers.CircleMarker at 0x7f8170363588>,\n",
       " <folium.vector_layers.CircleMarker at 0x7f81703635c0>,\n",
       " <folium.vector_layers.CircleMarker at 0x7f81703635f8>,\n",
       " <folium.vector_layers.CircleMarker at 0x7f8170363630>,\n",
       " <folium.vector_layers.CircleMarker at 0x7f8170363668>,\n",
       " <folium.vector_layers.CircleMarker at 0x7f81703636a0>,\n",
       " <folium.vector_layers.CircleMarker at 0x7f81703636d8>,\n",
       " <folium.vector_layers.CircleMarker at 0x7f8170363710>,\n",
       " <folium.vector_layers.CircleMarker at 0x7f8170363748>,\n",
       " <folium.vector_layers.CircleMarker at 0x7f8170363780>,\n",
       " <folium.vector_layers.CircleMarker at 0x7f81703637b8>,\n",
       " <folium.vector_layers.CircleMarker at 0x7f81703637f0>,\n",
       " <folium.vector_layers.CircleMarker at 0x7f8170363828>,\n",
       " <folium.vector_layers.CircleMarker at 0x7f8170363860>,\n",
       " <folium.vector_layers.CircleMarker at 0x7f8170363898>,\n",
       " <folium.vector_layers.CircleMarker at 0x7f81703638d0>,\n",
       " <folium.vector_layers.CircleMarker at 0x7f8170363908>,\n",
       " <folium.vector_layers.CircleMarker at 0x7f8170363940>,\n",
       " <folium.vector_layers.CircleMarker at 0x7f8170363978>,\n",
       " <folium.vector_layers.CircleMarker at 0x7f81703639b0>,\n",
       " <folium.vector_layers.CircleMarker at 0x7f81703639e8>,\n",
       " <folium.vector_layers.CircleMarker at 0x7f8170363a20>,\n",
       " <folium.vector_layers.CircleMarker at 0x7f8170363a58>,\n",
       " <folium.vector_layers.CircleMarker at 0x7f8170363a90>,\n",
       " <folium.vector_layers.CircleMarker at 0x7f8170363ac8>,\n",
       " <folium.vector_layers.CircleMarker at 0x7f8170363b00>,\n",
       " <folium.vector_layers.CircleMarker at 0x7f8170363b38>,\n",
       " <folium.vector_layers.CircleMarker at 0x7f8170363b70>,\n",
       " <folium.vector_layers.CircleMarker at 0x7f8170363ba8>,\n",
       " <folium.vector_layers.CircleMarker at 0x7f8170363be0>,\n",
       " <folium.vector_layers.CircleMarker at 0x7f8170363c18>,\n",
       " <folium.vector_layers.CircleMarker at 0x7f8170363c50>,\n",
       " <folium.vector_layers.CircleMarker at 0x7f8170363c88>,\n",
       " <folium.vector_layers.CircleMarker at 0x7f8170363cc0>,\n",
       " <folium.vector_layers.CircleMarker at 0x7f8170363cf8>,\n",
       " <folium.vector_layers.CircleMarker at 0x7f8170363d30>,\n",
       " <folium.vector_layers.CircleMarker at 0x7f8170363d68>,\n",
       " <folium.vector_layers.CircleMarker at 0x7f8170363da0>,\n",
       " <folium.vector_layers.CircleMarker at 0x7f8170363dd8>,\n",
       " <folium.vector_layers.CircleMarker at 0x7f8170363e10>,\n",
       " <folium.vector_layers.CircleMarker at 0x7f8170363e48>,\n",
       " <folium.vector_layers.CircleMarker at 0x7f8170363e80>,\n",
       " <folium.vector_layers.CircleMarker at 0x7f8170363eb8>,\n",
       " <folium.vector_layers.CircleMarker at 0x7f8170363ef0>,\n",
       " <folium.vector_layers.CircleMarker at 0x7f8170363f28>,\n",
       " <folium.vector_layers.CircleMarker at 0x7f8170363f60>,\n",
       " <folium.vector_layers.CircleMarker at 0x7f8170363f98>,\n",
       " <folium.vector_layers.CircleMarker at 0x7f8170363fd0>,\n",
       " <folium.vector_layers.CircleMarker at 0x7f8170363048>,\n",
       " <folium.vector_layers.CircleMarker at 0x7f8170370080>,\n",
       " <folium.vector_layers.CircleMarker at 0x7f81703700b8>,\n",
       " <folium.vector_layers.CircleMarker at 0x7f81703700f0>,\n",
       " <folium.vector_layers.CircleMarker at 0x7f8170370128>,\n",
       " <folium.vector_layers.CircleMarker at 0x7f8170370160>,\n",
       " <folium.vector_layers.CircleMarker at 0x7f8170370198>,\n",
       " <folium.vector_layers.CircleMarker at 0x7f81703701d0>,\n",
       " <folium.vector_layers.CircleMarker at 0x7f8170370208>,\n",
       " <folium.vector_layers.CircleMarker at 0x7f8170370240>,\n",
       " <folium.vector_layers.CircleMarker at 0x7f8170370278>,\n",
       " <folium.vector_layers.CircleMarker at 0x7f81703702b0>,\n",
       " <folium.vector_layers.CircleMarker at 0x7f81703702e8>,\n",
       " <folium.vector_layers.CircleMarker at 0x7f8170370320>,\n",
       " <folium.vector_layers.CircleMarker at 0x7f8170370358>,\n",
       " <folium.vector_layers.CircleMarker at 0x7f8170370390>,\n",
       " <folium.vector_layers.CircleMarker at 0x7f81703703c8>,\n",
       " <folium.vector_layers.CircleMarker at 0x7f8170370400>,\n",
       " <folium.vector_layers.CircleMarker at 0x7f8170370438>,\n",
       " <folium.vector_layers.CircleMarker at 0x7f8170370470>,\n",
       " <folium.vector_layers.CircleMarker at 0x7f81703704a8>,\n",
       " <folium.vector_layers.CircleMarker at 0x7f81703704e0>,\n",
       " <folium.vector_layers.CircleMarker at 0x7f8170370518>,\n",
       " <folium.vector_layers.CircleMarker at 0x7f8170370550>,\n",
       " <folium.vector_layers.CircleMarker at 0x7f8170370588>,\n",
       " <folium.vector_layers.CircleMarker at 0x7f81703705c0>,\n",
       " <folium.vector_layers.CircleMarker at 0x7f81703705f8>,\n",
       " <folium.vector_layers.CircleMarker at 0x7f8170370630>,\n",
       " <folium.vector_layers.CircleMarker at 0x7f8170370668>,\n",
       " <folium.vector_layers.CircleMarker at 0x7f81703706a0>,\n",
       " <folium.vector_layers.CircleMarker at 0x7f81703706d8>,\n",
       " <folium.vector_layers.CircleMarker at 0x7f8170370710>,\n",
       " <folium.vector_layers.CircleMarker at 0x7f8170370748>,\n",
       " <folium.vector_layers.CircleMarker at 0x7f8170370780>,\n",
       " <folium.vector_layers.CircleMarker at 0x7f81703707b8>,\n",
       " <folium.vector_layers.CircleMarker at 0x7f81703707f0>,\n",
       " <folium.vector_layers.CircleMarker at 0x7f8170370828>,\n",
       " <folium.vector_layers.CircleMarker at 0x7f8170370860>,\n",
       " <folium.vector_layers.CircleMarker at 0x7f8170370898>,\n",
       " <folium.vector_layers.CircleMarker at 0x7f81703708d0>,\n",
       " <folium.vector_layers.CircleMarker at 0x7f8170370908>,\n",
       " <folium.vector_layers.CircleMarker at 0x7f8170370940>,\n",
       " <folium.vector_layers.CircleMarker at 0x7f8170370978>,\n",
       " <folium.vector_layers.CircleMarker at 0x7f81703709b0>,\n",
       " <folium.vector_layers.CircleMarker at 0x7f81703709e8>,\n",
       " <folium.vector_layers.CircleMarker at 0x7f8170370a20>,\n",
       " <folium.vector_layers.CircleMarker at 0x7f8170370a58>,\n",
       " <folium.vector_layers.CircleMarker at 0x7f8170370a90>,\n",
       " <folium.vector_layers.CircleMarker at 0x7f8170370ac8>,\n",
       " <folium.vector_layers.CircleMarker at 0x7f8170370b00>,\n",
       " <folium.vector_layers.CircleMarker at 0x7f8170370b38>,\n",
       " <folium.vector_layers.CircleMarker at 0x7f8170370b70>,\n",
       " <folium.vector_layers.CircleMarker at 0x7f8170370ba8>,\n",
       " <folium.vector_layers.CircleMarker at 0x7f8170370be0>,\n",
       " <folium.vector_layers.CircleMarker at 0x7f8170370c18>,\n",
       " <folium.vector_layers.CircleMarker at 0x7f8170370c50>,\n",
       " <folium.vector_layers.CircleMarker at 0x7f8170370c88>,\n",
       " <folium.vector_layers.CircleMarker at 0x7f8170370cc0>,\n",
       " <folium.vector_layers.CircleMarker at 0x7f8170370cf8>,\n",
       " <folium.vector_layers.CircleMarker at 0x7f8170370d30>,\n",
       " <folium.vector_layers.CircleMarker at 0x7f8170370d68>,\n",
       " <folium.vector_layers.CircleMarker at 0x7f8170370da0>,\n",
       " <folium.vector_layers.CircleMarker at 0x7f8170370dd8>,\n",
       " <folium.vector_layers.CircleMarker at 0x7f8170370e10>,\n",
       " <folium.vector_layers.CircleMarker at 0x7f8170370e48>,\n",
       " <folium.vector_layers.CircleMarker at 0x7f8170370e80>,\n",
       " <folium.vector_layers.CircleMarker at 0x7f8170370eb8>,\n",
       " <folium.vector_layers.CircleMarker at 0x7f8170370ef0>,\n",
       " <folium.vector_layers.CircleMarker at 0x7f8170370f28>,\n",
       " <folium.vector_layers.CircleMarker at 0x7f8170370f60>,\n",
       " <folium.vector_layers.CircleMarker at 0x7f8170370f98>,\n",
       " <folium.vector_layers.CircleMarker at 0x7f8170370fd0>,\n",
       " <folium.vector_layers.CircleMarker at 0x7f8170370048>,\n",
       " <folium.vector_layers.CircleMarker at 0x7f817037e080>,\n",
       " <folium.vector_layers.CircleMarker at 0x7f817037e0b8>,\n",
       " <folium.vector_layers.CircleMarker at 0x7f817037e0f0>,\n",
       " <folium.vector_layers.CircleMarker at 0x7f817037e128>,\n",
       " <folium.vector_layers.CircleMarker at 0x7f817037e160>,\n",
       " <folium.vector_layers.CircleMarker at 0x7f817037e198>,\n",
       " <folium.vector_layers.CircleMarker at 0x7f817037e1d0>,\n",
       " <folium.vector_layers.CircleMarker at 0x7f817037e208>,\n",
       " <folium.vector_layers.CircleMarker at 0x7f817037e240>,\n",
       " <folium.vector_layers.CircleMarker at 0x7f817037e278>,\n",
       " <folium.vector_layers.CircleMarker at 0x7f817037e2b0>,\n",
       " <folium.vector_layers.CircleMarker at 0x7f817037e2e8>,\n",
       " <folium.vector_layers.CircleMarker at 0x7f817037e320>,\n",
       " <folium.vector_layers.CircleMarker at 0x7f817037e358>,\n",
       " <folium.vector_layers.CircleMarker at 0x7f817037e390>,\n",
       " <folium.vector_layers.CircleMarker at 0x7f817037e3c8>,\n",
       " <folium.vector_layers.CircleMarker at 0x7f817037e400>,\n",
       " <folium.vector_layers.CircleMarker at 0x7f817037e438>,\n",
       " <folium.vector_layers.CircleMarker at 0x7f817037e470>,\n",
       " <folium.vector_layers.CircleMarker at 0x7f817037e4a8>,\n",
       " <folium.vector_layers.CircleMarker at 0x7f817037e4e0>,\n",
       " <folium.vector_layers.CircleMarker at 0x7f817037e518>,\n",
       " <folium.vector_layers.CircleMarker at 0x7f817037e550>,\n",
       " <folium.vector_layers.CircleMarker at 0x7f817037e588>,\n",
       " <folium.vector_layers.CircleMarker at 0x7f817037e5c0>,\n",
       " <folium.vector_layers.CircleMarker at 0x7f817037e5f8>,\n",
       " <folium.vector_layers.CircleMarker at 0x7f817037e630>,\n",
       " <folium.vector_layers.CircleMarker at 0x7f817037e668>,\n",
       " <folium.vector_layers.CircleMarker at 0x7f817037e6a0>,\n",
       " <folium.vector_layers.CircleMarker at 0x7f817037e6d8>,\n",
       " <folium.vector_layers.CircleMarker at 0x7f817037e710>,\n",
       " <folium.vector_layers.CircleMarker at 0x7f817037e748>,\n",
       " <folium.vector_layers.CircleMarker at 0x7f817037e780>,\n",
       " <folium.vector_layers.CircleMarker at 0x7f817037e7b8>,\n",
       " <folium.vector_layers.CircleMarker at 0x7f817037e7f0>,\n",
       " <folium.vector_layers.CircleMarker at 0x7f817037e828>,\n",
       " <folium.vector_layers.CircleMarker at 0x7f817037e860>,\n",
       " <folium.vector_layers.CircleMarker at 0x7f817037e898>,\n",
       " <folium.vector_layers.CircleMarker at 0x7f817037e8d0>,\n",
       " <folium.vector_layers.CircleMarker at 0x7f817037e908>,\n",
       " <folium.vector_layers.CircleMarker at 0x7f817037e940>,\n",
       " <folium.vector_layers.CircleMarker at 0x7f817037e978>,\n",
       " <folium.vector_layers.CircleMarker at 0x7f817037e9b0>,\n",
       " <folium.vector_layers.CircleMarker at 0x7f817037e9e8>,\n",
       " <folium.vector_layers.CircleMarker at 0x7f817037ea20>,\n",
       " <folium.vector_layers.CircleMarker at 0x7f817037ea58>,\n",
       " <folium.vector_layers.CircleMarker at 0x7f817037ea90>,\n",
       " <folium.vector_layers.CircleMarker at 0x7f817037eac8>,\n",
       " <folium.vector_layers.CircleMarker at 0x7f817037eb00>,\n",
       " <folium.vector_layers.CircleMarker at 0x7f817037eb38>,\n",
       " <folium.vector_layers.CircleMarker at 0x7f817037eb70>,\n",
       " <folium.vector_layers.CircleMarker at 0x7f817037eba8>,\n",
       " <folium.vector_layers.CircleMarker at 0x7f817037ebe0>,\n",
       " <folium.vector_layers.CircleMarker at 0x7f817037ec18>,\n",
       " <folium.vector_layers.CircleMarker at 0x7f817037ec50>,\n",
       " <folium.vector_layers.CircleMarker at 0x7f817037ec88>,\n",
       " <folium.vector_layers.CircleMarker at 0x7f817037ecc0>,\n",
       " <folium.vector_layers.CircleMarker at 0x7f817037ecf8>,\n",
       " <folium.vector_layers.CircleMarker at 0x7f817037ed30>,\n",
       " <folium.vector_layers.CircleMarker at 0x7f817037ed68>,\n",
       " <folium.vector_layers.CircleMarker at 0x7f817037eda0>,\n",
       " <folium.vector_layers.CircleMarker at 0x7f817037edd8>,\n",
       " <folium.vector_layers.CircleMarker at 0x7f817037ee10>,\n",
       " <folium.vector_layers.CircleMarker at 0x7f817037ee48>,\n",
       " <folium.vector_layers.CircleMarker at 0x7f817037ee80>,\n",
       " <folium.vector_layers.CircleMarker at 0x7f817037eeb8>,\n",
       " <folium.vector_layers.CircleMarker at 0x7f817037eef0>,\n",
       " <folium.vector_layers.CircleMarker at 0x7f817037ef28>,\n",
       " <folium.vector_layers.CircleMarker at 0x7f817037ef60>,\n",
       " <folium.vector_layers.CircleMarker at 0x7f817037ef98>,\n",
       " <folium.vector_layers.CircleMarker at 0x7f817037efd0>,\n",
       " <folium.vector_layers.CircleMarker at 0x7f817037e048>,\n",
       " <folium.vector_layers.CircleMarker at 0x7f817038c080>,\n",
       " <folium.vector_layers.CircleMarker at 0x7f817038c0b8>,\n",
       " <folium.vector_layers.CircleMarker at 0x7f817038c0f0>,\n",
       " <folium.vector_layers.CircleMarker at 0x7f817038c128>,\n",
       " <folium.vector_layers.CircleMarker at 0x7f817038c160>,\n",
       " <folium.vector_layers.CircleMarker at 0x7f817038c198>,\n",
       " <folium.vector_layers.CircleMarker at 0x7f817038c1d0>,\n",
       " <folium.vector_layers.CircleMarker at 0x7f817038c208>,\n",
       " <folium.vector_layers.CircleMarker at 0x7f817038c240>,\n",
       " <folium.vector_layers.CircleMarker at 0x7f817038c278>,\n",
       " <folium.vector_layers.CircleMarker at 0x7f817038c2b0>,\n",
       " <folium.vector_layers.CircleMarker at 0x7f817038c2e8>,\n",
       " <folium.vector_layers.CircleMarker at 0x7f817038c320>,\n",
       " <folium.vector_layers.CircleMarker at 0x7f817038c358>,\n",
       " <folium.vector_layers.CircleMarker at 0x7f817038c390>,\n",
       " <folium.vector_layers.CircleMarker at 0x7f817038c3c8>,\n",
       " <folium.vector_layers.CircleMarker at 0x7f817038c400>,\n",
       " <folium.vector_layers.CircleMarker at 0x7f817038c438>,\n",
       " <folium.vector_layers.CircleMarker at 0x7f817038c470>,\n",
       " <folium.vector_layers.CircleMarker at 0x7f817038c4a8>,\n",
       " <folium.vector_layers.CircleMarker at 0x7f817038c4e0>,\n",
       " <folium.vector_layers.CircleMarker at 0x7f817038c518>,\n",
       " <folium.vector_layers.CircleMarker at 0x7f817038c550>,\n",
       " <folium.vector_layers.CircleMarker at 0x7f817038c588>,\n",
       " <folium.vector_layers.CircleMarker at 0x7f817038c5c0>,\n",
       " <folium.vector_layers.CircleMarker at 0x7f817038c5f8>,\n",
       " <folium.vector_layers.CircleMarker at 0x7f817038c630>,\n",
       " <folium.vector_layers.CircleMarker at 0x7f817038c668>,\n",
       " <folium.vector_layers.CircleMarker at 0x7f817038c6a0>,\n",
       " <folium.vector_layers.CircleMarker at 0x7f817038c6d8>,\n",
       " <folium.vector_layers.CircleMarker at 0x7f817038c710>,\n",
       " <folium.vector_layers.CircleMarker at 0x7f817038c748>,\n",
       " <folium.vector_layers.CircleMarker at 0x7f817038c780>,\n",
       " <folium.vector_layers.CircleMarker at 0x7f817038c7b8>,\n",
       " <folium.vector_layers.CircleMarker at 0x7f817038c7f0>,\n",
       " <folium.vector_layers.CircleMarker at 0x7f817038c828>,\n",
       " <folium.vector_layers.CircleMarker at 0x7f817038c860>,\n",
       " <folium.vector_layers.CircleMarker at 0x7f817038c898>,\n",
       " <folium.vector_layers.CircleMarker at 0x7f817038c8d0>,\n",
       " <folium.vector_layers.CircleMarker at 0x7f817038c908>,\n",
       " <folium.vector_layers.CircleMarker at 0x7f817038c940>,\n",
       " <folium.vector_layers.CircleMarker at 0x7f817038c978>,\n",
       " <folium.vector_layers.CircleMarker at 0x7f817038c9b0>,\n",
       " <folium.vector_layers.CircleMarker at 0x7f817038c9e8>,\n",
       " <folium.vector_layers.CircleMarker at 0x7f817038ca20>,\n",
       " <folium.vector_layers.CircleMarker at 0x7f817038ca58>,\n",
       " <folium.vector_layers.CircleMarker at 0x7f817038ca90>,\n",
       " <folium.vector_layers.CircleMarker at 0x7f817038cac8>,\n",
       " <folium.vector_layers.CircleMarker at 0x7f817038cb00>,\n",
       " <folium.vector_layers.CircleMarker at 0x7f817038cb38>,\n",
       " <folium.vector_layers.CircleMarker at 0x7f817038cb70>,\n",
       " <folium.vector_layers.CircleMarker at 0x7f817038cba8>,\n",
       " <folium.vector_layers.CircleMarker at 0x7f817038cbe0>,\n",
       " <folium.vector_layers.CircleMarker at 0x7f817038cc18>,\n",
       " <folium.vector_layers.CircleMarker at 0x7f817038cc50>,\n",
       " <folium.vector_layers.CircleMarker at 0x7f817038cc88>,\n",
       " <folium.vector_layers.CircleMarker at 0x7f817038ccc0>,\n",
       " <folium.vector_layers.CircleMarker at 0x7f817038ccf8>,\n",
       " <folium.vector_layers.CircleMarker at 0x7f817038cd30>,\n",
       " <folium.vector_layers.CircleMarker at 0x7f817038cd68>,\n",
       " <folium.vector_layers.CircleMarker at 0x7f817038cda0>,\n",
       " <folium.vector_layers.CircleMarker at 0x7f817038cdd8>,\n",
       " <folium.vector_layers.CircleMarker at 0x7f817038ce10>,\n",
       " <folium.vector_layers.CircleMarker at 0x7f817038ce48>,\n",
       " <folium.vector_layers.CircleMarker at 0x7f817038ce80>,\n",
       " <folium.vector_layers.CircleMarker at 0x7f817038ceb8>,\n",
       " <folium.vector_layers.CircleMarker at 0x7f817038cef0>,\n",
       " <folium.vector_layers.CircleMarker at 0x7f817038cf28>,\n",
       " <folium.vector_layers.CircleMarker at 0x7f817038cf60>,\n",
       " <folium.vector_layers.CircleMarker at 0x7f817038cf98>,\n",
       " <folium.vector_layers.CircleMarker at 0x7f817038cfd0>,\n",
       " <folium.vector_layers.CircleMarker at 0x7f817038c048>,\n",
       " <folium.vector_layers.CircleMarker at 0x7f8144df7048>,\n",
       " <folium.vector_layers.CircleMarker at 0x7f8144df70b8>,\n",
       " <folium.vector_layers.CircleMarker at 0x7f8144df70f0>,\n",
       " <folium.vector_layers.CircleMarker at 0x7f8144df7128>,\n",
       " <folium.vector_layers.CircleMarker at 0x7f8144df7160>,\n",
       " <folium.vector_layers.CircleMarker at 0x7f8144df7198>,\n",
       " <folium.vector_layers.CircleMarker at 0x7f8144df71d0>,\n",
       " <folium.vector_layers.CircleMarker at 0x7f8144df7208>,\n",
       " <folium.vector_layers.CircleMarker at 0x7f8144df7240>,\n",
       " <folium.vector_layers.CircleMarker at 0x7f8144df7278>,\n",
       " <folium.vector_layers.CircleMarker at 0x7f8144df72b0>,\n",
       " <folium.vector_layers.CircleMarker at 0x7f8144df72e8>,\n",
       " <folium.vector_layers.CircleMarker at 0x7f8144df7320>,\n",
       " <folium.vector_layers.CircleMarker at 0x7f8144df7358>,\n",
       " <folium.vector_layers.CircleMarker at 0x7f8144df7390>,\n",
       " <folium.vector_layers.CircleMarker at 0x7f8144df73c8>,\n",
       " <folium.vector_layers.CircleMarker at 0x7f8144df7400>,\n",
       " <folium.vector_layers.CircleMarker at 0x7f8144df7438>,\n",
       " <folium.vector_layers.CircleMarker at 0x7f8144df7470>,\n",
       " <folium.vector_layers.CircleMarker at 0x7f8144df74a8>,\n",
       " <folium.vector_layers.CircleMarker at 0x7f8144df74e0>,\n",
       " <folium.vector_layers.CircleMarker at 0x7f8144df7518>,\n",
       " <folium.vector_layers.CircleMarker at 0x7f8144df7550>,\n",
       " <folium.vector_layers.CircleMarker at 0x7f8144df7588>,\n",
       " <folium.vector_layers.CircleMarker at 0x7f8144df75c0>,\n",
       " <folium.vector_layers.CircleMarker at 0x7f8144df75f8>,\n",
       " <folium.vector_layers.CircleMarker at 0x7f8144df7630>,\n",
       " <folium.vector_layers.CircleMarker at 0x7f8144df7668>,\n",
       " <folium.vector_layers.CircleMarker at 0x7f8144df76a0>,\n",
       " <folium.vector_layers.CircleMarker at 0x7f8144df76d8>,\n",
       " <folium.vector_layers.CircleMarker at 0x7f8144df7710>,\n",
       " <folium.vector_layers.CircleMarker at 0x7f8144df7748>,\n",
       " <folium.vector_layers.CircleMarker at 0x7f8144df7780>,\n",
       " <folium.vector_layers.CircleMarker at 0x7f8144df77b8>,\n",
       " <folium.vector_layers.CircleMarker at 0x7f8144df77f0>,\n",
       " <folium.vector_layers.CircleMarker at 0x7f8144df7828>,\n",
       " <folium.vector_layers.CircleMarker at 0x7f8144df7860>,\n",
       " <folium.vector_layers.CircleMarker at 0x7f8144df7898>,\n",
       " <folium.vector_layers.CircleMarker at 0x7f8144df78d0>,\n",
       " <folium.vector_layers.CircleMarker at 0x7f8144df7908>,\n",
       " <folium.vector_layers.CircleMarker at 0x7f8144df7940>,\n",
       " <folium.vector_layers.CircleMarker at 0x7f8144df7978>,\n",
       " <folium.vector_layers.CircleMarker at 0x7f8144df79b0>,\n",
       " <folium.vector_layers.CircleMarker at 0x7f8144df79e8>,\n",
       " <folium.vector_layers.CircleMarker at 0x7f8144df7a20>,\n",
       " <folium.vector_layers.CircleMarker at 0x7f8144df7a58>,\n",
       " <folium.vector_layers.CircleMarker at 0x7f8144df7a90>,\n",
       " <folium.vector_layers.CircleMarker at 0x7f8144df7ac8>,\n",
       " <folium.vector_layers.CircleMarker at 0x7f8144df7b00>,\n",
       " <folium.vector_layers.CircleMarker at 0x7f8144df7b38>,\n",
       " <folium.vector_layers.CircleMarker at 0x7f8144df7b70>,\n",
       " <folium.vector_layers.CircleMarker at 0x7f8144df7ba8>,\n",
       " <folium.vector_layers.CircleMarker at 0x7f8144df7be0>,\n",
       " <folium.vector_layers.CircleMarker at 0x7f8144df7c18>,\n",
       " <folium.vector_layers.CircleMarker at 0x7f8144df7c50>,\n",
       " <folium.vector_layers.CircleMarker at 0x7f8144df7c88>,\n",
       " <folium.vector_layers.CircleMarker at 0x7f8144df7cc0>,\n",
       " <folium.vector_layers.CircleMarker at 0x7f8144df7cf8>,\n",
       " <folium.vector_layers.CircleMarker at 0x7f8144df7d30>,\n",
       " <folium.vector_layers.CircleMarker at 0x7f8144df7d68>,\n",
       " <folium.vector_layers.CircleMarker at 0x7f8144df7da0>,\n",
       " <folium.vector_layers.CircleMarker at 0x7f8144df7dd8>,\n",
       " <folium.vector_layers.CircleMarker at 0x7f8144df7e10>,\n",
       " <folium.vector_layers.CircleMarker at 0x7f8144df7e48>,\n",
       " <folium.vector_layers.CircleMarker at 0x7f8144df7e80>,\n",
       " <folium.vector_layers.CircleMarker at 0x7f8144df7eb8>,\n",
       " <folium.vector_layers.CircleMarker at 0x7f8144df7ef0>,\n",
       " <folium.vector_layers.CircleMarker at 0x7f8144df7f28>,\n",
       " <folium.vector_layers.CircleMarker at 0x7f8144df7f60>,\n",
       " <folium.vector_layers.CircleMarker at 0x7f8144df7f98>,\n",
       " <folium.vector_layers.CircleMarker at 0x7f8144df7fd0>,\n",
       " <folium.vector_layers.CircleMarker at 0x7f8144df7080>,\n",
       " <folium.vector_layers.CircleMarker at 0x7f8144e06048>,\n",
       " <folium.vector_layers.CircleMarker at 0x7f8144e060b8>,\n",
       " <folium.vector_layers.CircleMarker at 0x7f8144e060f0>,\n",
       " <folium.vector_layers.CircleMarker at 0x7f8144e06128>,\n",
       " <folium.vector_layers.CircleMarker at 0x7f8144e06160>,\n",
       " <folium.vector_layers.CircleMarker at 0x7f8144e06198>,\n",
       " <folium.vector_layers.CircleMarker at 0x7f8144e061d0>,\n",
       " <folium.vector_layers.CircleMarker at 0x7f8144e06208>,\n",
       " <folium.vector_layers.CircleMarker at 0x7f8144e06240>,\n",
       " <folium.vector_layers.CircleMarker at 0x7f8144e06278>,\n",
       " <folium.vector_layers.CircleMarker at 0x7f8144e062b0>,\n",
       " <folium.vector_layers.CircleMarker at 0x7f8144e062e8>,\n",
       " <folium.vector_layers.CircleMarker at 0x7f8144e06320>,\n",
       " <folium.vector_layers.CircleMarker at 0x7f8144e06358>,\n",
       " <folium.vector_layers.CircleMarker at 0x7f8144e06390>,\n",
       " <folium.vector_layers.CircleMarker at 0x7f8144e063c8>,\n",
       " <folium.vector_layers.CircleMarker at 0x7f8144e06400>,\n",
       " <folium.vector_layers.CircleMarker at 0x7f8144e06438>,\n",
       " <folium.vector_layers.CircleMarker at 0x7f8144e06470>,\n",
       " <folium.vector_layers.CircleMarker at 0x7f8144e064a8>,\n",
       " <folium.vector_layers.CircleMarker at 0x7f8144e064e0>,\n",
       " <folium.vector_layers.CircleMarker at 0x7f8144e06518>,\n",
       " <folium.vector_layers.CircleMarker at 0x7f8144e06550>,\n",
       " <folium.vector_layers.CircleMarker at 0x7f8144e06588>,\n",
       " <folium.vector_layers.CircleMarker at 0x7f8144e065c0>,\n",
       " <folium.vector_layers.CircleMarker at 0x7f8144e065f8>,\n",
       " <folium.vector_layers.CircleMarker at 0x7f8144e06630>,\n",
       " <folium.vector_layers.CircleMarker at 0x7f8144e06668>,\n",
       " <folium.vector_layers.CircleMarker at 0x7f8144e066a0>,\n",
       " <folium.vector_layers.CircleMarker at 0x7f8144e066d8>,\n",
       " <folium.vector_layers.CircleMarker at 0x7f8144e06710>,\n",
       " <folium.vector_layers.CircleMarker at 0x7f8144e06748>,\n",
       " <folium.vector_layers.CircleMarker at 0x7f8144e06780>,\n",
       " <folium.vector_layers.CircleMarker at 0x7f8144e067b8>,\n",
       " <folium.vector_layers.CircleMarker at 0x7f8144e067f0>,\n",
       " <folium.vector_layers.CircleMarker at 0x7f8144e06828>,\n",
       " <folium.vector_layers.CircleMarker at 0x7f8144e06860>,\n",
       " <folium.vector_layers.CircleMarker at 0x7f8144e06898>,\n",
       " <folium.vector_layers.CircleMarker at 0x7f8144e068d0>,\n",
       " <folium.vector_layers.CircleMarker at 0x7f8144e06908>,\n",
       " <folium.vector_layers.CircleMarker at 0x7f8144e06940>,\n",
       " <folium.vector_layers.CircleMarker at 0x7f8144e06978>,\n",
       " <folium.vector_layers.CircleMarker at 0x7f8144e069b0>,\n",
       " <folium.vector_layers.CircleMarker at 0x7f8144e069e8>,\n",
       " <folium.vector_layers.CircleMarker at 0x7f8144e06a20>,\n",
       " <folium.vector_layers.CircleMarker at 0x7f8144e06a58>,\n",
       " <folium.vector_layers.CircleMarker at 0x7f8144e06a90>,\n",
       " <folium.vector_layers.CircleMarker at 0x7f8144e06ac8>,\n",
       " <folium.vector_layers.CircleMarker at 0x7f8144e06b00>,\n",
       " <folium.vector_layers.CircleMarker at 0x7f8144e06b38>,\n",
       " <folium.vector_layers.CircleMarker at 0x7f8144e06b70>,\n",
       " <folium.vector_layers.CircleMarker at 0x7f8144e06ba8>,\n",
       " <folium.vector_layers.CircleMarker at 0x7f8144e06be0>,\n",
       " <folium.vector_layers.CircleMarker at 0x7f8144e06c18>,\n",
       " <folium.vector_layers.CircleMarker at 0x7f8144e06c50>,\n",
       " <folium.vector_layers.CircleMarker at 0x7f8144e06c88>,\n",
       " <folium.vector_layers.CircleMarker at 0x7f8144e06cc0>,\n",
       " <folium.vector_layers.CircleMarker at 0x7f8144e06cf8>,\n",
       " <folium.vector_layers.CircleMarker at 0x7f8144e06d30>,\n",
       " <folium.vector_layers.CircleMarker at 0x7f8144e06d68>,\n",
       " <folium.vector_layers.CircleMarker at 0x7f8144e06da0>,\n",
       " <folium.vector_layers.CircleMarker at 0x7f8144e06dd8>,\n",
       " <folium.vector_layers.CircleMarker at 0x7f8144e06e10>,\n",
       " <folium.vector_layers.CircleMarker at 0x7f8144e06e48>,\n",
       " <folium.vector_layers.CircleMarker at 0x7f8144e06e80>,\n",
       " <folium.vector_layers.CircleMarker at 0x7f8144e06eb8>,\n",
       " <folium.vector_layers.CircleMarker at 0x7f8144e06ef0>,\n",
       " <folium.vector_layers.CircleMarker at 0x7f8144e06f28>,\n",
       " <folium.vector_layers.CircleMarker at 0x7f8144e06f60>,\n",
       " <folium.vector_layers.CircleMarker at 0x7f8144e06f98>,\n",
       " <folium.vector_layers.CircleMarker at 0x7f8144e06fd0>,\n",
       " <folium.vector_layers.CircleMarker at 0x7f8144e06080>,\n",
       " <folium.vector_layers.CircleMarker at 0x7f8144e12080>,\n",
       " <folium.vector_layers.CircleMarker at 0x7f8144e120b8>,\n",
       " <folium.vector_layers.CircleMarker at 0x7f8144e120f0>,\n",
       " <folium.vector_layers.CircleMarker at 0x7f8144e12128>,\n",
       " <folium.vector_layers.CircleMarker at 0x7f8144e12160>,\n",
       " <folium.vector_layers.CircleMarker at 0x7f8144e12198>,\n",
       " <folium.vector_layers.CircleMarker at 0x7f8144e121d0>,\n",
       " <folium.vector_layers.CircleMarker at 0x7f8144e12208>,\n",
       " <folium.vector_layers.CircleMarker at 0x7f8144e12240>,\n",
       " <folium.vector_layers.CircleMarker at 0x7f8144e12278>,\n",
       " <folium.vector_layers.CircleMarker at 0x7f8144e122b0>,\n",
       " <folium.vector_layers.CircleMarker at 0x7f8144e122e8>,\n",
       " <folium.vector_layers.CircleMarker at 0x7f8144e12320>,\n",
       " <folium.vector_layers.CircleMarker at 0x7f8144e12358>,\n",
       " <folium.vector_layers.CircleMarker at 0x7f8144e12390>,\n",
       " <folium.vector_layers.CircleMarker at 0x7f8144e123c8>,\n",
       " <folium.vector_layers.CircleMarker at 0x7f8144e12400>,\n",
       " <folium.vector_layers.CircleMarker at 0x7f8144e12438>,\n",
       " <folium.vector_layers.CircleMarker at 0x7f8144e12470>,\n",
       " <folium.vector_layers.CircleMarker at 0x7f8144e124a8>,\n",
       " <folium.vector_layers.CircleMarker at 0x7f8144e124e0>,\n",
       " <folium.vector_layers.CircleMarker at 0x7f8144e12518>,\n",
       " <folium.vector_layers.CircleMarker at 0x7f8144e12550>,\n",
       " <folium.vector_layers.CircleMarker at 0x7f8144e12588>,\n",
       " <folium.vector_layers.CircleMarker at 0x7f8144e125c0>,\n",
       " <folium.vector_layers.CircleMarker at 0x7f8144e125f8>,\n",
       " <folium.vector_layers.CircleMarker at 0x7f8144e12630>,\n",
       " <folium.vector_layers.CircleMarker at 0x7f8144e12668>,\n",
       " <folium.vector_layers.CircleMarker at 0x7f8144e126a0>,\n",
       " <folium.vector_layers.CircleMarker at 0x7f8144e126d8>,\n",
       " <folium.vector_layers.CircleMarker at 0x7f8144e12710>,\n",
       " <folium.vector_layers.CircleMarker at 0x7f8144e12748>,\n",
       " <folium.vector_layers.CircleMarker at 0x7f8144e12780>,\n",
       " <folium.vector_layers.CircleMarker at 0x7f8144e127b8>,\n",
       " <folium.vector_layers.CircleMarker at 0x7f8144e127f0>,\n",
       " <folium.vector_layers.CircleMarker at 0x7f8144e12828>,\n",
       " <folium.vector_layers.CircleMarker at 0x7f8144e12860>,\n",
       " <folium.vector_layers.CircleMarker at 0x7f8144e12898>,\n",
       " <folium.vector_layers.CircleMarker at 0x7f8144e128d0>,\n",
       " <folium.vector_layers.CircleMarker at 0x7f8144e12908>,\n",
       " <folium.vector_layers.CircleMarker at 0x7f8144e12940>,\n",
       " <folium.vector_layers.CircleMarker at 0x7f8144e12978>,\n",
       " <folium.vector_layers.CircleMarker at 0x7f8144e129b0>,\n",
       " <folium.vector_layers.CircleMarker at 0x7f8144e129e8>,\n",
       " <folium.vector_layers.CircleMarker at 0x7f8144e12a20>,\n",
       " <folium.vector_layers.CircleMarker at 0x7f8144e12a58>,\n",
       " <folium.vector_layers.CircleMarker at 0x7f8144e12a90>,\n",
       " <folium.vector_layers.CircleMarker at 0x7f8144e12ac8>,\n",
       " <folium.vector_layers.CircleMarker at 0x7f8144e12b00>,\n",
       " <folium.vector_layers.CircleMarker at 0x7f8144e12b38>,\n",
       " <folium.vector_layers.CircleMarker at 0x7f8144e12b70>,\n",
       " <folium.vector_layers.CircleMarker at 0x7f8144e12ba8>,\n",
       " <folium.vector_layers.CircleMarker at 0x7f8144e12be0>,\n",
       " <folium.vector_layers.CircleMarker at 0x7f8144e12c18>,\n",
       " <folium.vector_layers.CircleMarker at 0x7f8144e12c50>,\n",
       " <folium.vector_layers.CircleMarker at 0x7f8144e12c88>,\n",
       " <folium.vector_layers.CircleMarker at 0x7f8144e12cc0>,\n",
       " <folium.vector_layers.CircleMarker at 0x7f8144e12cf8>,\n",
       " <folium.vector_layers.CircleMarker at 0x7f8144e12d30>,\n",
       " <folium.vector_layers.CircleMarker at 0x7f8144e12d68>,\n",
       " <folium.vector_layers.CircleMarker at 0x7f8144e12da0>,\n",
       " <folium.vector_layers.CircleMarker at 0x7f8144e12dd8>,\n",
       " <folium.vector_layers.CircleMarker at 0x7f8144e12e10>,\n",
       " <folium.vector_layers.CircleMarker at 0x7f8144e12e48>,\n",
       " <folium.vector_layers.CircleMarker at 0x7f8144e12e80>,\n",
       " <folium.vector_layers.CircleMarker at 0x7f8144e12eb8>,\n",
       " <folium.vector_layers.CircleMarker at 0x7f8144e12ef0>,\n",
       " <folium.vector_layers.CircleMarker at 0x7f8144e12f28>,\n",
       " <folium.vector_layers.CircleMarker at 0x7f8144e12f60>,\n",
       " <folium.vector_layers.CircleMarker at 0x7f8144e12f98>,\n",
       " <folium.vector_layers.CircleMarker at 0x7f8144e12fd0>,\n",
       " <folium.vector_layers.CircleMarker at 0x7f8144e12048>,\n",
       " <folium.vector_layers.CircleMarker at 0x7f8144e21048>,\n",
       " <folium.vector_layers.CircleMarker at 0x7f8144e210b8>,\n",
       " <folium.vector_layers.CircleMarker at 0x7f8144e210f0>,\n",
       " <folium.vector_layers.CircleMarker at 0x7f8144e21128>,\n",
       " <folium.vector_layers.CircleMarker at 0x7f8144e21160>,\n",
       " <folium.vector_layers.CircleMarker at 0x7f8144e21198>,\n",
       " <folium.vector_layers.CircleMarker at 0x7f8144e211d0>,\n",
       " <folium.vector_layers.CircleMarker at 0x7f8144e21208>,\n",
       " <folium.vector_layers.CircleMarker at 0x7f8144e21240>,\n",
       " <folium.vector_layers.CircleMarker at 0x7f8144e21278>,\n",
       " <folium.vector_layers.CircleMarker at 0x7f8144e212b0>,\n",
       " <folium.vector_layers.CircleMarker at 0x7f8144e212e8>,\n",
       " <folium.vector_layers.CircleMarker at 0x7f8144e21320>,\n",
       " <folium.vector_layers.CircleMarker at 0x7f8144e21358>,\n",
       " <folium.vector_layers.CircleMarker at 0x7f8144e21390>,\n",
       " <folium.vector_layers.CircleMarker at 0x7f8144e213c8>,\n",
       " <folium.vector_layers.CircleMarker at 0x7f8144e21400>,\n",
       " <folium.vector_layers.CircleMarker at 0x7f8144e21438>,\n",
       " <folium.vector_layers.CircleMarker at 0x7f8144e21470>,\n",
       " <folium.vector_layers.CircleMarker at 0x7f8144e214a8>,\n",
       " <folium.vector_layers.CircleMarker at 0x7f8144e214e0>,\n",
       " <folium.vector_layers.CircleMarker at 0x7f8144e21518>,\n",
       " <folium.vector_layers.CircleMarker at 0x7f8144e21550>,\n",
       " <folium.vector_layers.CircleMarker at 0x7f8144e21588>,\n",
       " <folium.vector_layers.CircleMarker at 0x7f8144e215c0>,\n",
       " <folium.vector_layers.CircleMarker at 0x7f8144e215f8>,\n",
       " <folium.vector_layers.CircleMarker at 0x7f8144e21630>,\n",
       " <folium.vector_layers.CircleMarker at 0x7f8144e21668>,\n",
       " <folium.vector_layers.CircleMarker at 0x7f8144e216a0>,\n",
       " <folium.vector_layers.CircleMarker at 0x7f8144e216d8>,\n",
       " <folium.vector_layers.CircleMarker at 0x7f8144e21710>,\n",
       " <folium.vector_layers.CircleMarker at 0x7f8144e21748>,\n",
       " <folium.vector_layers.CircleMarker at 0x7f8144e21780>,\n",
       " <folium.vector_layers.CircleMarker at 0x7f8144e217b8>,\n",
       " <folium.vector_layers.CircleMarker at 0x7f8144e217f0>,\n",
       " <folium.vector_layers.CircleMarker at 0x7f8144e21828>,\n",
       " <folium.vector_layers.CircleMarker at 0x7f8144e21860>,\n",
       " <folium.vector_layers.CircleMarker at 0x7f8144e21898>,\n",
       " <folium.vector_layers.CircleMarker at 0x7f8144e218d0>,\n",
       " <folium.vector_layers.CircleMarker at 0x7f8144e21908>,\n",
       " <folium.vector_layers.CircleMarker at 0x7f8144e21940>,\n",
       " <folium.vector_layers.CircleMarker at 0x7f8144e21978>,\n",
       " <folium.vector_layers.CircleMarker at 0x7f8144e219b0>,\n",
       " <folium.vector_layers.CircleMarker at 0x7f8144e219e8>,\n",
       " <folium.vector_layers.CircleMarker at 0x7f8144e21a20>,\n",
       " <folium.vector_layers.CircleMarker at 0x7f8144e21a58>,\n",
       " <folium.vector_layers.CircleMarker at 0x7f8144e21a90>,\n",
       " <folium.vector_layers.CircleMarker at 0x7f8144e21ac8>,\n",
       " <folium.vector_layers.CircleMarker at 0x7f8144e21b00>,\n",
       " <folium.vector_layers.CircleMarker at 0x7f8144e21b38>,\n",
       " <folium.vector_layers.CircleMarker at 0x7f8144e21b70>,\n",
       " <folium.vector_layers.CircleMarker at 0x7f8144e21ba8>,\n",
       " <folium.vector_layers.CircleMarker at 0x7f8144e21be0>,\n",
       " <folium.vector_layers.CircleMarker at 0x7f8144e21c18>,\n",
       " <folium.vector_layers.CircleMarker at 0x7f8144e21c50>,\n",
       " <folium.vector_layers.CircleMarker at 0x7f8144e21c88>,\n",
       " <folium.vector_layers.CircleMarker at 0x7f8144e21cc0>,\n",
       " <folium.vector_layers.CircleMarker at 0x7f8144e21cf8>,\n",
       " <folium.vector_layers.CircleMarker at 0x7f8144e21d30>,\n",
       " <folium.vector_layers.CircleMarker at 0x7f8144e21d68>,\n",
       " <folium.vector_layers.CircleMarker at 0x7f8144e21da0>,\n",
       " <folium.vector_layers.CircleMarker at 0x7f8144e21dd8>,\n",
       " <folium.vector_layers.CircleMarker at 0x7f8144e21e10>,\n",
       " <folium.vector_layers.CircleMarker at 0x7f8144e21e48>,\n",
       " <folium.vector_layers.CircleMarker at 0x7f8144e21e80>,\n",
       " <folium.vector_layers.CircleMarker at 0x7f8144e21eb8>,\n",
       " <folium.vector_layers.CircleMarker at 0x7f8144e21ef0>,\n",
       " <folium.vector_layers.CircleMarker at 0x7f8144e21f28>,\n",
       " <folium.vector_layers.CircleMarker at 0x7f8144e21f60>,\n",
       " <folium.vector_layers.CircleMarker at 0x7f8144e21f98>,\n",
       " <folium.vector_layers.CircleMarker at 0x7f8144e21fd0>,\n",
       " <folium.vector_layers.CircleMarker at 0x7f8144e21080>,\n",
       " <folium.vector_layers.CircleMarker at 0x7f8144e2e080>,\n",
       " <folium.vector_layers.CircleMarker at 0x7f8144e2e0b8>,\n",
       " <folium.vector_layers.CircleMarker at 0x7f8144e2e0f0>,\n",
       " <folium.vector_layers.CircleMarker at 0x7f8144e2e128>,\n",
       " <folium.vector_layers.CircleMarker at 0x7f8144e2e160>,\n",
       " <folium.vector_layers.CircleMarker at 0x7f8144e2e198>,\n",
       " <folium.vector_layers.CircleMarker at 0x7f8144e2e1d0>,\n",
       " <folium.vector_layers.CircleMarker at 0x7f8144e2e208>,\n",
       " <folium.vector_layers.CircleMarker at 0x7f8144e2e240>,\n",
       " <folium.vector_layers.CircleMarker at 0x7f8144e2e278>,\n",
       " <folium.vector_layers.CircleMarker at 0x7f8144e2e2b0>,\n",
       " <folium.vector_layers.CircleMarker at 0x7f8144e2e2e8>,\n",
       " <folium.vector_layers.CircleMarker at 0x7f8144e2e320>,\n",
       " <folium.vector_layers.CircleMarker at 0x7f8144e2e358>,\n",
       " <folium.vector_layers.CircleMarker at 0x7f8144e2e390>,\n",
       " <folium.vector_layers.CircleMarker at 0x7f8144e2e3c8>,\n",
       " <folium.vector_layers.CircleMarker at 0x7f8144e2e400>,\n",
       " <folium.vector_layers.CircleMarker at 0x7f8144e2e438>,\n",
       " <folium.vector_layers.CircleMarker at 0x7f8144e2e470>,\n",
       " <folium.vector_layers.CircleMarker at 0x7f8144e2e4a8>,\n",
       " <folium.vector_layers.CircleMarker at 0x7f8144e2e4e0>,\n",
       " <folium.vector_layers.CircleMarker at 0x7f8144e2e518>,\n",
       " <folium.vector_layers.CircleMarker at 0x7f8144e2e550>,\n",
       " <folium.vector_layers.CircleMarker at 0x7f8144e2e588>,\n",
       " <folium.vector_layers.CircleMarker at 0x7f8144e2e5c0>,\n",
       " <folium.vector_layers.CircleMarker at 0x7f8144e2e5f8>,\n",
       " <folium.vector_layers.CircleMarker at 0x7f8144e2e630>,\n",
       " <folium.vector_layers.CircleMarker at 0x7f8144e2e668>,\n",
       " <folium.vector_layers.CircleMarker at 0x7f8144e2e6a0>,\n",
       " <folium.vector_layers.CircleMarker at 0x7f8144e2e6d8>,\n",
       " <folium.vector_layers.CircleMarker at 0x7f8144e2e710>,\n",
       " <folium.vector_layers.CircleMarker at 0x7f8144e2e748>,\n",
       " <folium.vector_layers.CircleMarker at 0x7f8144e2e780>,\n",
       " <folium.vector_layers.CircleMarker at 0x7f8144e2e7b8>,\n",
       " <folium.vector_layers.CircleMarker at 0x7f8144e2e7f0>,\n",
       " <folium.vector_layers.CircleMarker at 0x7f8144e2e828>,\n",
       " <folium.vector_layers.CircleMarker at 0x7f8144e2e860>,\n",
       " <folium.vector_layers.CircleMarker at 0x7f8144e2e898>,\n",
       " <folium.vector_layers.CircleMarker at 0x7f8144e2e8d0>,\n",
       " <folium.vector_layers.CircleMarker at 0x7f8144e2e908>,\n",
       " <folium.vector_layers.CircleMarker at 0x7f8144e2e940>,\n",
       " <folium.vector_layers.CircleMarker at 0x7f8144e2e978>,\n",
       " <folium.vector_layers.CircleMarker at 0x7f8144e2e9b0>,\n",
       " <folium.vector_layers.CircleMarker at 0x7f8144e2e9e8>,\n",
       " <folium.vector_layers.CircleMarker at 0x7f8144e2ea20>,\n",
       " <folium.vector_layers.CircleMarker at 0x7f8144e2ea58>,\n",
       " <folium.vector_layers.CircleMarker at 0x7f8144e2ea90>,\n",
       " <folium.vector_layers.CircleMarker at 0x7f8144e2eac8>,\n",
       " <folium.vector_layers.CircleMarker at 0x7f8144e2eb00>,\n",
       " <folium.vector_layers.CircleMarker at 0x7f8144e2eb38>,\n",
       " <folium.vector_layers.CircleMarker at 0x7f8144e2eb70>,\n",
       " <folium.vector_layers.CircleMarker at 0x7f8144e2eba8>,\n",
       " <folium.vector_layers.CircleMarker at 0x7f8144e2ebe0>,\n",
       " <folium.vector_layers.CircleMarker at 0x7f8144e2ec18>,\n",
       " <folium.vector_layers.CircleMarker at 0x7f8144e2ec50>,\n",
       " <folium.vector_layers.CircleMarker at 0x7f8144e2ec88>,\n",
       " <folium.vector_layers.CircleMarker at 0x7f8144e2ecc0>,\n",
       " <folium.vector_layers.CircleMarker at 0x7f8144e2ecf8>,\n",
       " <folium.vector_layers.CircleMarker at 0x7f8144e2ed30>,\n",
       " <folium.vector_layers.CircleMarker at 0x7f8144e2ed68>,\n",
       " <folium.vector_layers.CircleMarker at 0x7f8144e2eda0>,\n",
       " <folium.vector_layers.CircleMarker at 0x7f8144e2edd8>,\n",
       " <folium.vector_layers.CircleMarker at 0x7f8144e2ee10>,\n",
       " <folium.vector_layers.CircleMarker at 0x7f8144e2ee48>,\n",
       " <folium.vector_layers.CircleMarker at 0x7f8144e2ee80>,\n",
       " <folium.vector_layers.CircleMarker at 0x7f8144e2eeb8>,\n",
       " <folium.vector_layers.CircleMarker at 0x7f8144e2eef0>,\n",
       " <folium.vector_layers.CircleMarker at 0x7f8144e2ef28>,\n",
       " <folium.vector_layers.CircleMarker at 0x7f8144e2ef60>,\n",
       " <folium.vector_layers.CircleMarker at 0x7f8144e2ef98>,\n",
       " <folium.vector_layers.CircleMarker at 0x7f8144e2efd0>,\n",
       " <folium.vector_layers.CircleMarker at 0x7f8144e2e048>,\n",
       " <folium.vector_layers.CircleMarker at 0x7f8144dbc080>,\n",
       " <folium.vector_layers.CircleMarker at 0x7f8144dbc0b8>,\n",
       " <folium.vector_layers.CircleMarker at 0x7f8144dbc0f0>,\n",
       " <folium.vector_layers.CircleMarker at 0x7f8144dbc128>,\n",
       " <folium.vector_layers.CircleMarker at 0x7f8144dbc160>,\n",
       " <folium.vector_layers.CircleMarker at 0x7f8144dbc198>,\n",
       " <folium.vector_layers.CircleMarker at 0x7f8144dbc1d0>,\n",
       " <folium.vector_layers.CircleMarker at 0x7f8144dbc208>,\n",
       " <folium.vector_layers.CircleMarker at 0x7f8144dbc240>,\n",
       " <folium.vector_layers.CircleMarker at 0x7f8144dbc278>,\n",
       " <folium.vector_layers.CircleMarker at 0x7f8144dbc2b0>,\n",
       " <folium.vector_layers.CircleMarker at 0x7f8144dbc2e8>,\n",
       " <folium.vector_layers.CircleMarker at 0x7f8144dbc320>,\n",
       " <folium.vector_layers.CircleMarker at 0x7f8144dbc358>,\n",
       " <folium.vector_layers.CircleMarker at 0x7f8144dbc390>,\n",
       " <folium.vector_layers.CircleMarker at 0x7f8144dbc3c8>,\n",
       " <folium.vector_layers.CircleMarker at 0x7f8144dbc400>,\n",
       " <folium.vector_layers.CircleMarker at 0x7f8144dbc438>,\n",
       " <folium.vector_layers.CircleMarker at 0x7f8144dbc470>,\n",
       " <folium.vector_layers.CircleMarker at 0x7f8144dbc4a8>,\n",
       " <folium.vector_layers.CircleMarker at 0x7f8144dbc4e0>,\n",
       " <folium.vector_layers.CircleMarker at 0x7f8144dbc518>,\n",
       " <folium.vector_layers.CircleMarker at 0x7f8144dbc550>,\n",
       " <folium.vector_layers.CircleMarker at 0x7f8144dbc588>,\n",
       " <folium.vector_layers.CircleMarker at 0x7f8144dbc5c0>,\n",
       " <folium.vector_layers.CircleMarker at 0x7f8144dbc5f8>,\n",
       " <folium.vector_layers.CircleMarker at 0x7f8144dbc630>,\n",
       " <folium.vector_layers.CircleMarker at 0x7f8144dbc668>,\n",
       " <folium.vector_layers.CircleMarker at 0x7f8144dbc6a0>,\n",
       " <folium.vector_layers.CircleMarker at 0x7f8144dbc6d8>,\n",
       " <folium.vector_layers.CircleMarker at 0x7f8144dbc710>,\n",
       " <folium.vector_layers.CircleMarker at 0x7f8144dbc748>,\n",
       " <folium.vector_layers.CircleMarker at 0x7f8144dbc780>,\n",
       " <folium.vector_layers.CircleMarker at 0x7f8144dbc7b8>,\n",
       " <folium.vector_layers.CircleMarker at 0x7f8144dbc7f0>,\n",
       " <folium.vector_layers.CircleMarker at 0x7f8144dbc828>,\n",
       " <folium.vector_layers.CircleMarker at 0x7f8144dbc860>,\n",
       " <folium.vector_layers.CircleMarker at 0x7f8144dbc898>,\n",
       " <folium.vector_layers.CircleMarker at 0x7f8144dbc8d0>,\n",
       " <folium.vector_layers.CircleMarker at 0x7f8144dbc908>,\n",
       " <folium.vector_layers.CircleMarker at 0x7f8144dbc940>,\n",
       " <folium.vector_layers.CircleMarker at 0x7f8144dbc978>,\n",
       " <folium.vector_layers.CircleMarker at 0x7f8144dbc9b0>,\n",
       " <folium.vector_layers.CircleMarker at 0x7f8144dbc9e8>,\n",
       " <folium.vector_layers.CircleMarker at 0x7f8144dbca20>,\n",
       " <folium.vector_layers.CircleMarker at 0x7f8144dbca58>,\n",
       " <folium.vector_layers.CircleMarker at 0x7f8144dbca90>,\n",
       " <folium.vector_layers.CircleMarker at 0x7f8144dbcac8>,\n",
       " <folium.vector_layers.CircleMarker at 0x7f8144dbcb00>,\n",
       " <folium.vector_layers.CircleMarker at 0x7f8144dbcb38>,\n",
       " <folium.vector_layers.CircleMarker at 0x7f8144dbcb70>,\n",
       " <folium.vector_layers.CircleMarker at 0x7f8144dbcba8>,\n",
       " <folium.vector_layers.CircleMarker at 0x7f8144dbcbe0>,\n",
       " <folium.vector_layers.CircleMarker at 0x7f8144dbcc18>,\n",
       " <folium.vector_layers.CircleMarker at 0x7f8144dbcc50>,\n",
       " <folium.vector_layers.CircleMarker at 0x7f8144dbcc88>,\n",
       " <folium.vector_layers.CircleMarker at 0x7f8144dbccc0>,\n",
       " <folium.vector_layers.CircleMarker at 0x7f8144dbccf8>,\n",
       " <folium.vector_layers.CircleMarker at 0x7f8144dbcd30>,\n",
       " <folium.vector_layers.CircleMarker at 0x7f8144dbcd68>,\n",
       " <folium.vector_layers.CircleMarker at 0x7f8144dbcda0>,\n",
       " <folium.vector_layers.CircleMarker at 0x7f8144dbcdd8>,\n",
       " <folium.vector_layers.CircleMarker at 0x7f8144dbce10>,\n",
       " <folium.vector_layers.CircleMarker at 0x7f8144dbce48>,\n",
       " <folium.vector_layers.CircleMarker at 0x7f8144dbce80>,\n",
       " <folium.vector_layers.CircleMarker at 0x7f8144dbceb8>,\n",
       " <folium.vector_layers.CircleMarker at 0x7f8144dbcef0>,\n",
       " <folium.vector_layers.CircleMarker at 0x7f8144dbcf28>,\n",
       " <folium.vector_layers.CircleMarker at 0x7f8144dbcf60>,\n",
       " <folium.vector_layers.CircleMarker at 0x7f8144dbcf98>,\n",
       " <folium.vector_layers.CircleMarker at 0x7f8144dbcfd0>,\n",
       " <folium.vector_layers.CircleMarker at 0x7f8144dbc048>,\n",
       " <folium.vector_layers.CircleMarker at 0x7f8144dc9080>,\n",
       " <folium.vector_layers.CircleMarker at 0x7f8144dc90b8>,\n",
       " <folium.vector_layers.CircleMarker at 0x7f8144dc90f0>,\n",
       " <folium.vector_layers.CircleMarker at 0x7f8144dc9128>,\n",
       " <folium.vector_layers.CircleMarker at 0x7f8144dc9160>,\n",
       " <folium.vector_layers.CircleMarker at 0x7f8144dc9198>,\n",
       " <folium.vector_layers.CircleMarker at 0x7f8144dc91d0>,\n",
       " <folium.vector_layers.CircleMarker at 0x7f8144dc9208>,\n",
       " <folium.vector_layers.CircleMarker at 0x7f8144dc9240>,\n",
       " <folium.vector_layers.CircleMarker at 0x7f8144dc9278>,\n",
       " <folium.vector_layers.CircleMarker at 0x7f8144dc92b0>,\n",
       " <folium.vector_layers.CircleMarker at 0x7f8144dc92e8>,\n",
       " <folium.vector_layers.CircleMarker at 0x7f8144dc9320>,\n",
       " <folium.vector_layers.CircleMarker at 0x7f8144dc9358>,\n",
       " <folium.vector_layers.CircleMarker at 0x7f8144dc9390>,\n",
       " <folium.vector_layers.CircleMarker at 0x7f8144dc93c8>,\n",
       " <folium.vector_layers.CircleMarker at 0x7f8144dc9400>,\n",
       " <folium.vector_layers.CircleMarker at 0x7f8144dc9438>,\n",
       " <folium.vector_layers.CircleMarker at 0x7f8144dc9470>,\n",
       " <folium.vector_layers.CircleMarker at 0x7f8144dc94a8>,\n",
       " <folium.vector_layers.CircleMarker at 0x7f8144dc94e0>,\n",
       " <folium.vector_layers.CircleMarker at 0x7f8144dc9518>,\n",
       " <folium.vector_layers.CircleMarker at 0x7f8144dc9550>,\n",
       " <folium.vector_layers.CircleMarker at 0x7f8144dc9588>,\n",
       " <folium.vector_layers.CircleMarker at 0x7f8144dc95c0>,\n",
       " <folium.vector_layers.CircleMarker at 0x7f8144dc95f8>,\n",
       " <folium.vector_layers.CircleMarker at 0x7f8144dc9630>,\n",
       " <folium.vector_layers.CircleMarker at 0x7f8144dc9668>,\n",
       " <folium.vector_layers.CircleMarker at 0x7f8144dc96a0>,\n",
       " <folium.vector_layers.CircleMarker at 0x7f8144dc96d8>,\n",
       " <folium.vector_layers.CircleMarker at 0x7f8144dc9710>,\n",
       " <folium.vector_layers.CircleMarker at 0x7f8144dc9748>,\n",
       " <folium.vector_layers.CircleMarker at 0x7f8144dc9780>,\n",
       " <folium.vector_layers.CircleMarker at 0x7f8144dc97b8>,\n",
       " <folium.vector_layers.CircleMarker at 0x7f8144dc97f0>,\n",
       " <folium.vector_layers.CircleMarker at 0x7f8144dc9828>,\n",
       " <folium.vector_layers.CircleMarker at 0x7f8144dc9860>,\n",
       " <folium.vector_layers.CircleMarker at 0x7f8144dc9898>,\n",
       " <folium.vector_layers.CircleMarker at 0x7f8144dc98d0>,\n",
       " <folium.vector_layers.CircleMarker at 0x7f8144dc9908>,\n",
       " <folium.vector_layers.CircleMarker at 0x7f8144dc9940>,\n",
       " <folium.vector_layers.CircleMarker at 0x7f8144dc9978>,\n",
       " <folium.vector_layers.CircleMarker at 0x7f8144dc99b0>,\n",
       " <folium.vector_layers.CircleMarker at 0x7f8144dc99e8>,\n",
       " <folium.vector_layers.CircleMarker at 0x7f8144dc9a20>,\n",
       " <folium.vector_layers.CircleMarker at 0x7f8144dc9a58>,\n",
       " <folium.vector_layers.CircleMarker at 0x7f8144dc9a90>,\n",
       " <folium.vector_layers.CircleMarker at 0x7f8144dc9ac8>,\n",
       " <folium.vector_layers.CircleMarker at 0x7f8144dc9b00>,\n",
       " <folium.vector_layers.CircleMarker at 0x7f8144dc9b38>,\n",
       " <folium.vector_layers.CircleMarker at 0x7f8144dc9b70>,\n",
       " <folium.vector_layers.CircleMarker at 0x7f8144dc9ba8>,\n",
       " <folium.vector_layers.CircleMarker at 0x7f8144dc9be0>,\n",
       " <folium.vector_layers.CircleMarker at 0x7f8144dc9c18>,\n",
       " <folium.vector_layers.CircleMarker at 0x7f8144dc9c50>,\n",
       " <folium.vector_layers.CircleMarker at 0x7f8144dc9c88>,\n",
       " <folium.vector_layers.CircleMarker at 0x7f8144dc9cc0>,\n",
       " <folium.vector_layers.CircleMarker at 0x7f8144dc9cf8>,\n",
       " <folium.vector_layers.CircleMarker at 0x7f8144dc9d30>,\n",
       " <folium.vector_layers.CircleMarker at 0x7f8144dc9d68>,\n",
       " <folium.vector_layers.CircleMarker at 0x7f8144dc9da0>,\n",
       " <folium.vector_layers.CircleMarker at 0x7f8144dc9dd8>,\n",
       " <folium.vector_layers.CircleMarker at 0x7f8144dc9e10>,\n",
       " <folium.vector_layers.CircleMarker at 0x7f8144dc9e48>,\n",
       " <folium.vector_layers.CircleMarker at 0x7f8144dc9e80>,\n",
       " <folium.vector_layers.CircleMarker at 0x7f8144dc9eb8>,\n",
       " <folium.vector_layers.CircleMarker at 0x7f8144dc9ef0>,\n",
       " <folium.vector_layers.CircleMarker at 0x7f8144dc9f28>,\n",
       " <folium.vector_layers.CircleMarker at 0x7f8144dc9f60>,\n",
       " <folium.vector_layers.CircleMarker at 0x7f8144dc9f98>,\n",
       " <folium.vector_layers.CircleMarker at 0x7f8144dc9fd0>,\n",
       " <folium.vector_layers.CircleMarker at 0x7f8144dc9048>,\n",
       " <folium.vector_layers.CircleMarker at 0x7f8144dd8080>,\n",
       " <folium.vector_layers.CircleMarker at 0x7f8144dd80b8>,\n",
       " <folium.vector_layers.CircleMarker at 0x7f8144dd80f0>,\n",
       " <folium.vector_layers.CircleMarker at 0x7f8144dd8128>,\n",
       " <folium.vector_layers.CircleMarker at 0x7f8144dd8160>,\n",
       " <folium.vector_layers.CircleMarker at 0x7f8144dd8198>,\n",
       " <folium.vector_layers.CircleMarker at 0x7f8144dd81d0>,\n",
       " <folium.vector_layers.CircleMarker at 0x7f8144dd8208>,\n",
       " <folium.vector_layers.CircleMarker at 0x7f8144dd8240>,\n",
       " <folium.vector_layers.CircleMarker at 0x7f8144dd8278>,\n",
       " <folium.vector_layers.CircleMarker at 0x7f8144dd82b0>,\n",
       " <folium.vector_layers.CircleMarker at 0x7f8144dd82e8>,\n",
       " <folium.vector_layers.CircleMarker at 0x7f8144dd8320>,\n",
       " <folium.vector_layers.CircleMarker at 0x7f8144dd8358>,\n",
       " <folium.vector_layers.CircleMarker at 0x7f8144dd8390>,\n",
       " <folium.vector_layers.CircleMarker at 0x7f8144dd83c8>,\n",
       " <folium.vector_layers.CircleMarker at 0x7f8144dd8400>,\n",
       " <folium.vector_layers.CircleMarker at 0x7f8144dd8438>,\n",
       " <folium.vector_layers.CircleMarker at 0x7f8144dd8470>,\n",
       " <folium.vector_layers.CircleMarker at 0x7f8144dd84a8>,\n",
       " <folium.vector_layers.CircleMarker at 0x7f8144dd84e0>,\n",
       " <folium.vector_layers.CircleMarker at 0x7f8144dd8518>,\n",
       " <folium.vector_layers.CircleMarker at 0x7f8144dd8550>,\n",
       " <folium.vector_layers.CircleMarker at 0x7f8144dd8588>,\n",
       " <folium.vector_layers.CircleMarker at 0x7f8144dd85c0>,\n",
       " <folium.vector_layers.CircleMarker at 0x7f8144dd85f8>,\n",
       " <folium.vector_layers.CircleMarker at 0x7f8144dd8630>,\n",
       " <folium.vector_layers.CircleMarker at 0x7f8144dd8668>,\n",
       " <folium.vector_layers.CircleMarker at 0x7f8144dd86a0>,\n",
       " <folium.vector_layers.CircleMarker at 0x7f8144dd86d8>,\n",
       " <folium.vector_layers.CircleMarker at 0x7f8144dd8710>,\n",
       " <folium.vector_layers.CircleMarker at 0x7f8144dd8748>,\n",
       " <folium.vector_layers.CircleMarker at 0x7f8144dd8780>,\n",
       " <folium.vector_layers.CircleMarker at 0x7f8144dd87b8>,\n",
       " <folium.vector_layers.CircleMarker at 0x7f8144dd87f0>,\n",
       " <folium.vector_layers.CircleMarker at 0x7f8144dd8828>,\n",
       " <folium.vector_layers.CircleMarker at 0x7f8144dd8860>,\n",
       " <folium.vector_layers.CircleMarker at 0x7f8144dd8898>,\n",
       " <folium.vector_layers.CircleMarker at 0x7f8144dd88d0>,\n",
       " <folium.vector_layers.CircleMarker at 0x7f8144dd8908>,\n",
       " <folium.vector_layers.CircleMarker at 0x7f8144dd8940>,\n",
       " <folium.vector_layers.CircleMarker at 0x7f8144dd8978>,\n",
       " <folium.vector_layers.CircleMarker at 0x7f8144dd89b0>,\n",
       " <folium.vector_layers.CircleMarker at 0x7f8144dd89e8>,\n",
       " <folium.vector_layers.CircleMarker at 0x7f8144dd8a20>,\n",
       " <folium.vector_layers.CircleMarker at 0x7f8144dd8a58>,\n",
       " <folium.vector_layers.CircleMarker at 0x7f8144dd8a90>,\n",
       " <folium.vector_layers.CircleMarker at 0x7f8144dd8ac8>,\n",
       " <folium.vector_layers.CircleMarker at 0x7f8144dd8b00>,\n",
       " <folium.vector_layers.CircleMarker at 0x7f8144dd8b38>,\n",
       " <folium.vector_layers.CircleMarker at 0x7f8144dd8b70>,\n",
       " <folium.vector_layers.CircleMarker at 0x7f8144dd8ba8>,\n",
       " <folium.vector_layers.CircleMarker at 0x7f8144dd8be0>,\n",
       " <folium.vector_layers.CircleMarker at 0x7f8144dd8c18>,\n",
       " <folium.vector_layers.CircleMarker at 0x7f8144dd8c50>,\n",
       " <folium.vector_layers.CircleMarker at 0x7f8144dd8c88>,\n",
       " <folium.vector_layers.CircleMarker at 0x7f8144dd8cc0>,\n",
       " <folium.vector_layers.CircleMarker at 0x7f8144dd8cf8>,\n",
       " <folium.vector_layers.CircleMarker at 0x7f8144dd8d30>,\n",
       " <folium.vector_layers.CircleMarker at 0x7f8144dd8d68>,\n",
       " <folium.vector_layers.CircleMarker at 0x7f8144dd8da0>,\n",
       " <folium.vector_layers.CircleMarker at 0x7f8144dd8dd8>,\n",
       " <folium.vector_layers.CircleMarker at 0x7f8144dd8e10>]"
      ]
     },
     "execution_count": 58,
     "metadata": {},
     "output_type": "execute_result"
    }
   ],
   "source": [
    "trip_markers = markers_from_trips(cleaned_trips)\n",
    "trip_markers"
   ]
  },
  {
   "cell_type": "code",
   "execution_count": 35,
   "metadata": {},
   "outputs": [
    {
     "data": {
      "text/plain": [
       "[{'trip_distance': 18.38,\n",
       "  'pickup_latitude': 40.64499,\n",
       "  'pickup_longitude': -73.78115},\n",
       " {'trip_distance': 1.3,\n",
       "  'pickup_latitude': 40.766931,\n",
       "  'pickup_longitude': -73.982098},\n",
       " {'trip_distance': 4.5,\n",
       "  'pickup_latitude': 40.77773,\n",
       "  'pickup_longitude': -73.951902},\n",
       " {'trip_distance': 2.4,\n",
       "  'pickup_latitude': 40.795678,\n",
       "  'pickup_longitude': -73.971049}]"
      ]
     },
     "execution_count": 35,
     "metadata": {},
     "output_type": "execute_result"
    }
   ],
   "source": [
    "cleaned_trips[0:4]"
   ]
  },
  {
   "cell_type": "code",
   "execution_count": 36,
   "metadata": {},
   "outputs": [
    {
     "ename": "AttributeError",
     "evalue": "'NoneType' object has no attribute 'location'",
     "output_type": "error",
     "traceback": [
      "\u001b[0;31m\u001b[0m",
      "\u001b[0;31mAttributeError\u001b[0mTraceback (most recent call last)",
      "\u001b[0;32m<ipython-input-36-26f67db15327>\u001b[0m in \u001b[0;36m<module>\u001b[0;34m\u001b[0m\n\u001b[1;32m      1\u001b[0m \u001b[0mtrip_markers\u001b[0m \u001b[0;32mand\u001b[0m \u001b[0mlen\u001b[0m\u001b[0;34m(\u001b[0m\u001b[0mtrip_markers\u001b[0m\u001b[0;34m)\u001b[0m \u001b[0;31m# 1000\u001b[0m\u001b[0;34m\u001b[0m\u001b[0;34m\u001b[0m\u001b[0m\n\u001b[1;32m      2\u001b[0m \u001b[0;34m\u001b[0m\u001b[0m\n\u001b[0;32m----> 3\u001b[0;31m \u001b[0mlist\u001b[0m\u001b[0;34m(\u001b[0m\u001b[0mmap\u001b[0m\u001b[0;34m(\u001b[0m\u001b[0;32mlambda\u001b[0m \u001b[0mmarker\u001b[0m\u001b[0;34m:\u001b[0m \u001b[0mmarker\u001b[0m\u001b[0;34m.\u001b[0m\u001b[0mlocation\u001b[0m\u001b[0;34m,\u001b[0m \u001b[0mtrip_markers\u001b[0m\u001b[0;34m[\u001b[0m\u001b[0;36m0\u001b[0m\u001b[0;34m:\u001b[0m\u001b[0;36m4\u001b[0m\u001b[0;34m]\u001b[0m\u001b[0;34m)\u001b[0m\u001b[0;34m)\u001b[0m\u001b[0;34m\u001b[0m\u001b[0;34m\u001b[0m\u001b[0m\n\u001b[0m\u001b[1;32m      4\u001b[0m \u001b[0;31m# [[40.64499, -73.78115],\u001b[0m\u001b[0;34m\u001b[0m\u001b[0;34m\u001b[0m\u001b[0;34m\u001b[0m\u001b[0m\n\u001b[1;32m      5\u001b[0m \u001b[0;31m#  [40.766931, -73.982098],\u001b[0m\u001b[0;34m\u001b[0m\u001b[0;34m\u001b[0m\u001b[0;34m\u001b[0m\u001b[0m\n",
      "\u001b[0;32m<ipython-input-36-26f67db15327>\u001b[0m in \u001b[0;36m<lambda>\u001b[0;34m(marker)\u001b[0m\n\u001b[1;32m      1\u001b[0m \u001b[0mtrip_markers\u001b[0m \u001b[0;32mand\u001b[0m \u001b[0mlen\u001b[0m\u001b[0;34m(\u001b[0m\u001b[0mtrip_markers\u001b[0m\u001b[0;34m)\u001b[0m \u001b[0;31m# 1000\u001b[0m\u001b[0;34m\u001b[0m\u001b[0;34m\u001b[0m\u001b[0m\n\u001b[1;32m      2\u001b[0m \u001b[0;34m\u001b[0m\u001b[0m\n\u001b[0;32m----> 3\u001b[0;31m \u001b[0mlist\u001b[0m\u001b[0;34m(\u001b[0m\u001b[0mmap\u001b[0m\u001b[0;34m(\u001b[0m\u001b[0;32mlambda\u001b[0m \u001b[0mmarker\u001b[0m\u001b[0;34m:\u001b[0m \u001b[0mmarker\u001b[0m\u001b[0;34m.\u001b[0m\u001b[0mlocation\u001b[0m\u001b[0;34m,\u001b[0m \u001b[0mtrip_markers\u001b[0m\u001b[0;34m[\u001b[0m\u001b[0;36m0\u001b[0m\u001b[0;34m:\u001b[0m\u001b[0;36m4\u001b[0m\u001b[0;34m]\u001b[0m\u001b[0;34m)\u001b[0m\u001b[0;34m)\u001b[0m\u001b[0;34m\u001b[0m\u001b[0;34m\u001b[0m\u001b[0m\n\u001b[0m\u001b[1;32m      4\u001b[0m \u001b[0;31m# [[40.64499, -73.78115],\u001b[0m\u001b[0;34m\u001b[0m\u001b[0;34m\u001b[0m\u001b[0;34m\u001b[0m\u001b[0m\n\u001b[1;32m      5\u001b[0m \u001b[0;31m#  [40.766931, -73.982098],\u001b[0m\u001b[0;34m\u001b[0m\u001b[0;34m\u001b[0m\u001b[0;34m\u001b[0m\u001b[0m\n",
      "\u001b[0;31mAttributeError\u001b[0m: 'NoneType' object has no attribute 'location'"
     ]
    }
   ],
   "source": [
    "trip_markers and len(trip_markers) # 1000\n",
    "\n",
    "list(map(lambda marker: marker.location, trip_markers[0:4]))\n",
    "# [[40.64499, -73.78115],\n",
    "#  [40.766931, -73.982098],\n",
    "#  [40.77773, -73.951902],\n",
    "#  [40.795678, -73.971049]]"
   ]
  },
  {
   "cell_type": "markdown",
   "metadata": {},
   "source": [
    "Ok, now that we have a function that creates locations, and a function that creates markers, it is time to write a function to plot a map. \n",
    "\n",
    "Write a function called `map_from` that, provided the first argument of a list location and second argument an integer representing the `zoom_start`, returns a `folium` map the corresponding location and `zoom_start` attributes.\n",
    "\n",
    "> Hint: The following is how to write a map with folium:\n",
    "> ```python \n",
    "    folium.Map(location=location, zoom_start=zoom_amount)\n",
    "> ```"
   ]
  },
  {
   "cell_type": "code",
   "execution_count": null,
   "metadata": {},
   "outputs": [],
   "source": [
    "def map_from(location, zoom_amount):\n",
    "    pass"
   ]
  },
  {
   "cell_type": "code",
   "execution_count": null,
   "metadata": {},
   "outputs": [],
   "source": [
    "times_square_map = map_from([40.7589, -73.9851], 15)\n",
    "times_square_map and times_square_map.location # [40.7589, -73.9851]\n",
    "times_square_map and times_square_map.zoom_start # 15"
   ]
  },
  {
   "cell_type": "code",
   "execution_count": null,
   "metadata": {
    "scrolled": true
   },
   "outputs": [],
   "source": [
    "times_square_marker and times_square_marker.add_to(times_square_map)\n",
    "times_square_map"
   ]
  },
  {
   "cell_type": "markdown",
   "metadata": {},
   "source": [
    "Now that we have a marker and a map, now let's write a function that adds a lot of markers to a map.  This function should add each marker in the list to the map object then return the updated map object."
   ]
  },
  {
   "cell_type": "code",
   "execution_count": null,
   "metadata": {},
   "outputs": [],
   "source": [
    "manhattan_map = map_from([40.7589, -73.9851], 13)"
   ]
  },
  {
   "cell_type": "code",
   "execution_count": null,
   "metadata": {},
   "outputs": [],
   "source": [
    "def add_markers(markers, map_obj):\n",
    "    pass"
   ]
  },
  {
   "cell_type": "code",
   "execution_count": null,
   "metadata": {
    "scrolled": false
   },
   "outputs": [],
   "source": [
    "map_with_markers = add_markers(trip_markers, manhattan_map)"
   ]
  },
  {
   "cell_type": "code",
   "execution_count": null,
   "metadata": {},
   "outputs": [],
   "source": [
    "map_with_markers"
   ]
  },
  {
   "cell_type": "markdown",
   "metadata": {},
   "source": [
    "### Using Nearest Neighbors"
   ]
  },
  {
   "cell_type": "markdown",
   "metadata": {},
   "source": [
    "Ok, let's write a function that given a latitude and longitude will predict the distance for us.  We'll do this by first finding the nearest trips given a latitude and longitude. "
   ]
  },
  {
   "cell_type": "markdown",
   "metadata": {},
   "source": [
    "Here we once again apply the nearest neighbors formula. As a first step, write a function named `distance_location` that calculates the distance in pickup location between two trips."
   ]
  },
  {
   "cell_type": "code",
   "execution_count": null,
   "metadata": {},
   "outputs": [],
   "source": [
    "import math\n",
    "\n",
    "def distance_location(selected_trip, neighbor_trip):\n",
    "    pass"
   ]
  },
  {
   "cell_type": "code",
   "execution_count": null,
   "metadata": {},
   "outputs": [],
   "source": [
    "first_trip = {'pickup_latitude': 40.64499, 'pickup_longitude': -73.78115, 'trip_distance': 18.38}\n",
    "second_trip = {'pickup_latitude': 40.766931, 'pickup_longitude': -73.982098, 'trip_distance': 1.3}\n",
    "distance_first_and_second = distance_location(first_trip, second_trip)\n",
    "\n",
    "distance_first_and_second and round(distance_first_and_second, 3) # 0.235"
   ]
  },
  {
   "cell_type": "markdown",
   "metadata": {},
   "source": [
    "Ok, next write a function called `distance_between_neighbors` that adds a new key-value pair, called `distance_from_selected`, that calculates the distance of the `neighbor_trip` from the `selected_trip`."
   ]
  },
  {
   "cell_type": "code",
   "execution_count": null,
   "metadata": {},
   "outputs": [],
   "source": [
    "def distance_between_neighbors(selected_trip, neighbor_trip):\n",
    "    pass"
   ]
  },
  {
   "cell_type": "code",
   "execution_count": null,
   "metadata": {},
   "outputs": [],
   "source": [
    "distance_between_neighbors(first_trip, second_trip)\n",
    "\n",
    "# {'distance_from_selected': 0.23505256047318146,\n",
    "#  'pickup_latitude': 40.766931,\n",
    "#  'pickup_longitude': -73.982098,\n",
    "#  'trip_distance': 1.3}"
   ]
  },
  {
   "cell_type": "markdown",
   "metadata": {},
   "source": [
    "Ok, now our `neighbor_trip` has another attribute called `distance_from_selected`, that indicates the distance from the `neighbor_trip`'s pickup location from the `selected_trip`."
   ]
  },
  {
   "cell_type": "markdown",
   "metadata": {},
   "source": [
    "> ** Understand the data:** Our dictionary now has a few attributes, two of which say distance.  Let's make sure we understand the difference. \n",
    "> * **`distance_from_selected`:** This is our calculation of the distance of the neighbor's pickup location from the selected trip.\n",
    "> * **`trip_distance`:** This is the attribute we were provided initially.  It tells us the length of the neighbor's taxi trip from pickup to drop-off.  "
   ]
  },
  {
   "cell_type": "markdown",
   "metadata": {},
   "source": [
    "Next, write a function called `distance_all` that provided a list of neighbors, returns each of those neighbors with their respective `distance_from_selected` numbers."
   ]
  },
  {
   "cell_type": "code",
   "execution_count": null,
   "metadata": {},
   "outputs": [],
   "source": [
    "def distance_all(selected_individual, neighbors):\n",
    "    pass"
   ]
  },
  {
   "cell_type": "code",
   "execution_count": null,
   "metadata": {},
   "outputs": [],
   "source": [
    "cleaned_trips and distance_all(first_trip, cleaned_trips[0:4])"
   ]
  },
  {
   "cell_type": "markdown",
   "metadata": {},
   "source": [
    "Now write the nearest neighbors formula to calculate the distance of the `selected_trip` from all of the `cleaned_trips` in our dataset.  If no number is provided, it should return the top 3 neighbors."
   ]
  },
  {
   "cell_type": "code",
   "execution_count": null,
   "metadata": {},
   "outputs": [],
   "source": [
    "def nearest_neighbors(selected_trip, trips, number = 3):\n",
    "    pass"
   ]
  },
  {
   "cell_type": "code",
   "execution_count": null,
   "metadata": {},
   "outputs": [],
   "source": [
    "new_trip = {'pickup_latitude': 40.64499,\n",
    "'pickup_longitude': -73.78115,\n",
    "'trip_distance': 18.38}\n",
    "\n",
    "nearest_three_neighbors = nearest_neighbors(new_trip, cleaned_trips or [], number = 3)\n",
    "nearest_three_neighbors\n",
    "# [{'distance_from_selected': 0.0004569288784918792,\n",
    "#   'pickup_latitude': 40.64483,\n",
    "#   'pickup_longitude': -73.781578,\n",
    "#   'trip_distance': 7.78},\n",
    "#  {'distance_from_selected': 0.0011292165425673159,\n",
    "#   'pickup_latitude': 40.644657,\n",
    "#   'pickup_longitude': -73.782229,\n",
    "#   'trip_distance': 12.7},\n",
    "#  {'distance_from_selected': 0.0042359798158141185,\n",
    "#   'pickup_latitude': 40.648509,\n",
    "#   'pickup_longitude': -73.783508,\n",
    "#   'trip_distance': 17.3}]"
   ]
  },
  {
   "cell_type": "markdown",
   "metadata": {},
   "source": [
    "Ok great! Now that we can provide a new trip location, and find the distances of the three nearest trips, we can take  calculate an estimate of the trip distance for that new trip location.  \n",
    "\n",
    "We do so simply by calculating the average of it's nearest neighbors."
   ]
  },
  {
   "cell_type": "code",
   "execution_count": null,
   "metadata": {},
   "outputs": [],
   "source": [
    "import statistics\n",
    "def mean_distance(neighbors):\n",
    "    nearest_distances = list(map(lambda neighbor: neighbor['trip_distance'], neighbors))\n",
    "    return round(statistics.mean(nearest_distances), 3)\n",
    "\n",
    "nearest_three_neighbors = nearest_neighbors(new_trip, cleaned_trips or [], number = 3)\n",
    "distance_estimate_of_selected_trip = mean_distance(nearest_three_neighbors) # 12.593\n",
    "distance_estimate_of_selected_trip"
   ]
  },
  {
   "cell_type": "markdown",
   "metadata": {},
   "source": [
    "### Choosing the correct number of neighbors"
   ]
  },
  {
   "cell_type": "markdown",
   "metadata": {},
   "source": [
    "Now, as we know from the last lesson, one tricky element is to determine how many neighbors to choose, our $k$ value,  before calculating the average.  We want to choose our value of $k$ such that it properly matches actual data, and so that it applies to new data.  There are fancy formulas to ensure that we **train** our algorithm so that our formula is optimized for all data, but here let's see different $k$ values manually.  This is the gist of choosing our $k$ value:\n",
    "\n",
    "* If we choose a $k$ value too low, our formula will be too heavily influenced by a single neighbor, whereas if our $k$ value is too high, we will be choosing so many neighbors that our nearest neighbors formula will not be adjust enough according to locations.\n",
    "\n",
    "Ok, let's experiment with this."
   ]
  },
  {
   "cell_type": "markdown",
   "metadata": {},
   "source": [
    "First, let's choose a midtown location, to see what the trip distance would be.  A Google search reveals the coordinates of 51st and 7th avenue to be the following."
   ]
  },
  {
   "cell_type": "code",
   "execution_count": null,
   "metadata": {},
   "outputs": [],
   "source": [
    "midtown_trip = dict(pickup_latitude=40.761710, pickup_longitude=-73.982760)"
   ]
  },
  {
   "cell_type": "code",
   "execution_count": null,
   "metadata": {},
   "outputs": [],
   "source": [
    "seven_closest = nearest_neighbors(midtown_trip, cleaned_trips, number = 7)\n",
    "seven_closest\n",
    "# [{'trip_distance': 0.58,\n",
    "#   'pickup_latitude': 40.761372,\n",
    "#   'pickup_longitude': -73.982602,\n",
    "#   'distance_from_selected': 0.00037310588309379025},\n",
    "#  {'trip_distance': 0.8,\n",
    "#   'pickup_latitude': 40.762444,\n",
    "#   'pickup_longitude': -73.98244,\n",
    "#   'distance_from_selected': 0.00080072217404248},\n",
    "#  {'trip_distance': 1.4,\n",
    "#   'pickup_latitude': 40.762767,\n",
    "#   'pickup_longitude': -73.982293,\n",
    "#   'distance_from_selected': 0.0011555682584735844},\n",
    "#  {'trip_distance': 8.3,\n",
    "#   'pickup_latitude': 40.762868,\n",
    "#   'pickup_longitude': -73.983233,\n",
    "#   'distance_from_selected': 0.0012508768924205918},\n",
    "#  {'trip_distance': 1.26,\n",
    "#   'pickup_latitude': 40.760057,\n",
    "#   'pickup_longitude': -73.983502,\n",
    "#   'distance_from_selected': 0.0018118976240381972},\n",
    "#  {'trip_distance': 0.0,\n",
    "#   'pickup_latitude': 40.760644,\n",
    "#   'pickup_longitude': -73.984531,\n",
    "#   'distance_from_selected': 0.002067074502774709},\n",
    "#  {'trip_distance': 1.72,\n",
    "#   'pickup_latitude': 40.762107,\n",
    "#   'pickup_longitude': -73.98479,\n",
    "#   'distance_from_selected': 0.0020684557041472677}]"
   ]
  },
  {
   "cell_type": "markdown",
   "metadata": {},
   "source": [
    "Looking at the `distance_from_selected` it appears that our our trips are still fairly close to our selected trip.  Notice that most of the data is within a distance of .002 away, so going to the top 7 nearest neighbors didn't seem to give us neighbors too far from each other, which is a good sign.\n",
    "\n",
    "Still, it's hard to know what distance in latitude and longitude really look like, so let's map the data. "
   ]
  },
  {
   "cell_type": "code",
   "execution_count": null,
   "metadata": {},
   "outputs": [],
   "source": [
    "midtown_location = location(midtown_trip) # [40.76171, -73.98276]\n",
    "midtown_map = map_from(midtown_location, 16)\n",
    "closest_markers = markers_from_trips(seven_closest)\n",
    "\n",
    "add_markers(closest_markers, midtown_map)"
   ]
  },
  {
   "cell_type": "markdown",
   "metadata": {},
   "source": [
    "Ok.  These locations stay fairly close to our estimated location of 51st street and 7th Avenue.  So they could be a good estimate of a trip distance."
   ]
  },
  {
   "cell_type": "code",
   "execution_count": null,
   "metadata": {},
   "outputs": [],
   "source": [
    "mean_distance(seven_closest) # 2.009"
   ]
  },
  {
   "cell_type": "markdown",
   "metadata": {},
   "source": [
    "Ok, now let's try a different location"
   ]
  },
  {
   "cell_type": "code",
   "execution_count": null,
   "metadata": {},
   "outputs": [],
   "source": [
    "charging_bull_closest = nearest_neighbors({'pickup_latitude': 40.7049, 'pickup_longitude': -74.0137}, cleaned_trips, number = 12)"
   ]
  },
  {
   "cell_type": "code",
   "execution_count": null,
   "metadata": {
    "scrolled": true
   },
   "outputs": [],
   "source": [
    "mean_distance(charging_bull_closest) # 3.145"
   ]
  },
  {
   "cell_type": "markdown",
   "metadata": {},
   "source": [
    "Ok, so there appears to be a significant difference between choosing a location near Times Square versus choosing a location at Wall Street."
   ]
  },
  {
   "cell_type": "markdown",
   "metadata": {},
   "source": [
    "### Summary"
   ]
  },
  {
   "cell_type": "markdown",
   "metadata": {},
   "source": [
    "In this lab, we used the nearest neighbors function to predict the length of a taxi ride.  To do so, we selected a location, then found a number of taxi rides closest to that location, and finally took the average trip lengths of the nearest taxi rides to find an estimate of the new ride's trip length.  You can see that even with just a little bit of math and programming we can begin to make meaningful predictions with data."
   ]
  }
 ],
 "metadata": {
  "kernelspec": {
   "display_name": "Python 3",
   "language": "python",
   "name": "python3"
  },
  "language_info": {
   "codemirror_mode": {
    "name": "ipython",
    "version": 3
   },
   "file_extension": ".py",
   "mimetype": "text/x-python",
   "name": "python",
   "nbconvert_exporter": "python",
   "pygments_lexer": "ipython3",
   "version": "3.6.9"
  }
 },
 "nbformat": 4,
 "nbformat_minor": 2
}
