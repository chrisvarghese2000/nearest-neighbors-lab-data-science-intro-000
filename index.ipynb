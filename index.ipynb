{
 "cells": [
  {
   "cell_type": "markdown",
   "metadata": {},
   "source": [
    "# Nearest Neighbors Lab"
   ]
  },
  {
   "cell_type": "markdown",
   "metadata": {},
   "source": [
    "\n",
    "### Introduction\n",
    "\n",
    "In this lab, you apply nearest neighbors technique to help a taxi company predict the length of their rides.  Imagine that we are hired to consult for LiftOff, a limo and taxi service that is just opening up in NYC.  Liftoff wants it's taxi drivers to target longer rides, as the longer the ride the more money it makes.  LiftOff has the following theory:\n",
    "\n",
    "* the pickup location of a taxi ride can help predict the length of the ride.  \n",
    "\n",
    "\n",
    "\n",
    "LiftOff asks us to do some analysis to write a function that will allow it to **predict the length of a taxi ride for any given location **.\n",
    "\n",
    "Our technique will be the following:\n",
    "  * **Collect** Obtain the data containing all of the taxi information, and only select the attributes of taxi trips that we need \n",
    "  * ** Explore ** Examine the attributes of our data, and plot some of our data on a map\n",
    "  * ** Train ** Write our nearest neighbors formula, and change the number of nearby trips to predict the length of a new trip\n",
    "  * ** Predict ** Use our function to predict trip lengths of new locations"
   ]
  },
  {
   "cell_type": "markdown",
   "metadata": {},
   "source": [
    "### Collect and Explore the data"
   ]
  },
  {
   "cell_type": "markdown",
   "metadata": {},
   "source": [
    "#### Collect the Data"
   ]
  },
  {
   "cell_type": "markdown",
   "metadata": {},
   "source": [
    "Luckily for us, [NYC Open Data](https://opendata.cityofnewyork.us/) collects information about NYC taxi trips and provides this data on [its website](https://data.cityofnewyork.us/Transportation/2014-Yellow-Taxi-Trip-Data/gn7m-em8n)."
   ]
  },
  {
   "cell_type": "markdown",
   "metadata": {},
   "source": [
    "![](./nyc-taxi.png)"
   ]
  },
  {
   "cell_type": "markdown",
   "metadata": {},
   "source": [
    "For your reading pleasure, the data has already been downloaded into the [trips.json](https://github.com/learn-co-curriculum/nearest-neighbors-lab/blob/master/trips.json) file in this lab which you can find here.  We'll use Python's `json` library to take the data from the `trips.json` file and store it as a variable in our notebook."
   ]
  },
  {
   "cell_type": "code",
   "execution_count": 39,
   "metadata": {},
   "outputs": [],
   "source": [
    "import json\n",
    "# First, read the file\n",
    "trips_file = open('trips.json')\n",
    "# Then, convert contents to list of dictionaries \n",
    "trips = json.load(trips_file)"
   ]
  },
  {
   "cell_type": "markdown",
   "metadata": {},
   "source": [
    "> Press shift + enter"
   ]
  },
  {
   "cell_type": "markdown",
   "metadata": {},
   "source": [
    "#### Explore the data"
   ]
  },
  {
   "cell_type": "markdown",
   "metadata": {},
   "source": [
    "The next step is to explore the data.  First, let's see how many trips we have."
   ]
  },
  {
   "cell_type": "code",
   "execution_count": 40,
   "metadata": {},
   "outputs": [
    {
     "data": {
      "text/plain": [
       "1000"
      ]
     },
     "execution_count": 40,
     "metadata": {},
     "output_type": "execute_result"
    }
   ],
   "source": [
    "len(trips)"
   ]
  },
  {
   "cell_type": "markdown",
   "metadata": {},
   "source": [
    "Not bad at all.  Now let's see what each individual trip looks like.  Each trip is a dictionary, so we can see the attributes of each trip with the `keys` function."
   ]
  },
  {
   "cell_type": "code",
   "execution_count": 41,
   "metadata": {
    "scrolled": true
   },
   "outputs": [
    {
     "data": {
      "text/plain": [
       "dict_keys(['dropoff_datetime', 'dropoff_latitude', 'dropoff_longitude', 'fare_amount', 'imp_surcharge', 'mta_tax', 'passenger_count', 'payment_type', 'pickup_datetime', 'pickup_latitude', 'pickup_longitude', 'rate_code', 'tip_amount', 'tolls_amount', 'total_amount', 'trip_distance', 'vendor_id'])"
      ]
     },
     "execution_count": 41,
     "metadata": {},
     "output_type": "execute_result"
    }
   ],
   "source": [
    "trips[0].keys()"
   ]
  },
  {
   "cell_type": "markdown",
   "metadata": {},
   "source": [
    "#### Limit our data"
   ]
  },
  {
   "cell_type": "markdown",
   "metadata": {},
   "source": [
    "Ok, now that we have explored some of our data, let's begin to think through what data is relevant for our task."
   ]
  },
  {
   "cell_type": "markdown",
   "metadata": {
    "collapsed": true
   },
   "source": [
    "Remember that our task is to **use the trip location to predict the length of a trip**.  So let's select the `pickup_latitude`, `pickup_longitude`, and `trip_distance` from each trip.  That will give us the trip location and related `trip_distance` for each trip.  Then based on these **actual** trip distances we can use nearest neighbors to predict an **expected** trip distance for a trip, provided an **actual** location."
   ]
  },
  {
   "cell_type": "markdown",
   "metadata": {},
   "source": [
    "** Add in about trip distance ** "
   ]
  },
  {
   "cell_type": "markdown",
   "metadata": {},
   "source": [
    "Write a function called `parse_trips(trips)` that returns a list of the trips with only the following attributes: \n",
    "* `trip_distance`\n",
    "* `pickup_latitude`\n",
    "* `pickup_longitude`"
   ]
  },
  {
   "cell_type": "code",
   "execution_count": 42,
   "metadata": {},
   "outputs": [],
   "source": [
    "def parse_trips(trips):\n",
    "    return list(map(lambda x: {'trip_distance': x['trip_distance'],\n",
    "                              'pickup_latitude': x['pickup_latitude'],\n",
    "                              'pickup_longitude': x['pickup_longitude']}, trips))"
   ]
  },
  {
   "cell_type": "code",
   "execution_count": 43,
   "metadata": {},
   "outputs": [
    {
     "data": {
      "text/plain": [
       "{'trip_distance': '18.379999999999999',\n",
       " 'pickup_latitude': '40.64499',\n",
       " 'pickup_longitude': '-73.781149999999997'}"
      ]
     },
     "execution_count": 43,
     "metadata": {},
     "output_type": "execute_result"
    }
   ],
   "source": [
    "parsed_trips = parse_trips(trips)\n",
    "parsed_trips and parsed_trips[0]\n",
    "\n",
    "# {'pickup_latitude': '40.64499',\n",
    "#  'pickup_longitude': '-73.78115',\n",
    "#  'trip_distance': '18.38'}"
   ]
  },
  {
   "cell_type": "markdown",
   "metadata": {},
   "source": [
    "Now, there's just one change to make.  If you look at one of the trips, all of the values are strings.  Let's change them to be floats."
   ]
  },
  {
   "cell_type": "code",
   "execution_count": 44,
   "metadata": {},
   "outputs": [],
   "source": [
    "def float_values(trips):    \n",
    "    return list(map(lambda x: {'trip_distance': float(x['trip_distance']),\n",
    "                              'pickup_latitude': float(x['pickup_latitude']),\n",
    "                              'pickup_longitude': float(x['pickup_longitude'])}, trips))"
   ]
  },
  {
   "cell_type": "code",
   "execution_count": 45,
   "metadata": {},
   "outputs": [],
   "source": [
    "cleaned_trips = float_values(parsed_trips)"
   ]
  },
  {
   "cell_type": "code",
   "execution_count": 46,
   "metadata": {},
   "outputs": [
    {
     "data": {
      "text/plain": [
       "{'trip_distance': 18.38,\n",
       " 'pickup_latitude': 40.64499,\n",
       " 'pickup_longitude': -73.78115}"
      ]
     },
     "execution_count": 46,
     "metadata": {},
     "output_type": "execute_result"
    }
   ],
   "source": [
    "cleaned_trips[0]\n",
    "\n",
    "# {'pickup_latitude': 40.64499,\n",
    "#  'pickup_longitude': -73.78115,\n",
    "#  'trip_distance': 18.38}"
   ]
  },
  {
   "cell_type": "markdown",
   "metadata": {},
   "source": [
    "### Exploring the Data"
   ]
  },
  {
   "cell_type": "markdown",
   "metadata": {},
   "source": [
    "Now that we have paired down our data, let's get a sense of our trip data.  We can use the `folium` Python library to plot a map of Manhattan, and our data.  First we must import `folium`, and then use the `Map` function to pass through a `location`, and `zoom_start`.  If a map isn't showing up below, copy and paste the command `pip install -r requirements.txt` into your terminal to install `folium` then try again."
   ]
  },
  {
   "cell_type": "code",
   "execution_count": 47,
   "metadata": {},
   "outputs": [],
   "source": [
    "import folium\n",
    "manhattan_map = folium.Map(location=[40.7589, -73.9851], zoom_start=11)"
   ]
  },
  {
   "cell_type": "code",
   "execution_count": 48,
   "metadata": {
    "scrolled": true
   },
   "outputs": [
    {
     "data": {
      "text/html": [
       "<div style=\"width:100%;\"><div style=\"position:relative;width:100%;height:0;padding-bottom:60%;\"><iframe src=\"data:text/html;charset=utf-8;base64,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\" style=\"position:absolute;width:100%;height:100%;left:0;top:0;border:none !important;\" allowfullscreen webkitallowfullscreen mozallowfullscreen></iframe></div></div>"
      ],
      "text/plain": [
       "<folium.folium.Map at 0x7f8144f300b8>"
      ]
     },
     "execution_count": 48,
     "metadata": {},
     "output_type": "execute_result"
    }
   ],
   "source": [
    "manhattan_map"
   ]
  },
  {
   "cell_type": "markdown",
   "metadata": {},
   "source": [
    "Ok, now let's see how we could add a dot to mark a specific location.  We'll start with Times Square."
   ]
  },
  {
   "cell_type": "code",
   "execution_count": 49,
   "metadata": {},
   "outputs": [
    {
     "data": {
      "text/plain": [
       "<folium.vector_layers.CircleMarker at 0x7f8144e95d68>"
      ]
     },
     "execution_count": 49,
     "metadata": {},
     "output_type": "execute_result"
    }
   ],
   "source": [
    "marker = folium.CircleMarker(location = [40.7589, -73.9851], radius=10)\n",
    "marker.add_to(manhattan_map)"
   ]
  },
  {
   "cell_type": "markdown",
   "metadata": {},
   "source": [
    "Above, we first create a marker.  Then we add that circle marker to the `manhattan_map` we created earlier. "
   ]
  },
  {
   "cell_type": "code",
   "execution_count": 50,
   "metadata": {
    "scrolled": false
   },
   "outputs": [
    {
     "data": {
      "text/html": [
       "<div style=\"width:100%;\"><div style=\"position:relative;width:100%;height:0;padding-bottom:60%;\"><iframe src=\"data:text/html;charset=utf-8;base64,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\" style=\"position:absolute;width:100%;height:100%;left:0;top:0;border:none !important;\" allowfullscreen webkitallowfullscreen mozallowfullscreen></iframe></div></div>"
      ],
      "text/plain": [
       "<folium.folium.Map at 0x7f8144f300b8>"
      ]
     },
     "execution_count": 50,
     "metadata": {},
     "output_type": "execute_result"
    }
   ],
   "source": [
    "manhattan_map"
   ]
  },
  {
   "cell_type": "markdown",
   "metadata": {},
   "source": [
    "Do you see that blue dot near Time's Square?  That is our marker.  \n",
    "\n",
    "So now that we can plot one marker on a map, we should have a sense of how we can plot many markers on a map to display our taxi ride data.  We simply plot a map, and then we add a marker for each location of a taxi trip.\n",
    "\n",
    "Now let's write some functions to allow us to plot maps and add markers a little more easily.  "
   ]
  },
  {
   "cell_type": "markdown",
   "metadata": {},
   "source": [
    "#### Writing some map plotting functions"
   ]
  },
  {
   "cell_type": "markdown",
   "metadata": {},
   "source": [
    "As a first step towards this, note that the functions to create both a marker and map each take in a location as two element list, representing the latitude and longitude values.  Take another look:\n",
    "\n",
    "```python\n",
    "marker = folium.CircleMarker(location = [40.7589, -73.9851])\n",
    "manhattan_map = folium.Map(location=[40.7589, -73.9851])\n",
    "```\n",
    "\n",
    "So let's write a function called to create this two element list from a trip.  Write a function called `location` that  takes in a trip as an argument and returns a list where the first element is the latitude and the second is the longitude.  Remember that a location looks like the following:"
   ]
  },
  {
   "cell_type": "code",
   "execution_count": 51,
   "metadata": {},
   "outputs": [
    {
     "data": {
      "text/plain": [
       "{'pickup_latitude': 40.64499,\n",
       " 'pickup_longitude': -73.78115,\n",
       " 'trip_distance': 18.38}"
      ]
     },
     "execution_count": 51,
     "metadata": {},
     "output_type": "execute_result"
    }
   ],
   "source": [
    "first_trip = {'pickup_latitude': 40.64499, 'pickup_longitude': -73.78115,  'trip_distance': 18.38}\n",
    "first_trip"
   ]
  },
  {
   "cell_type": "code",
   "execution_count": 52,
   "metadata": {},
   "outputs": [],
   "source": [
    "def location(trip):\n",
    "    return [trip['pickup_latitude'], trip['pickup_longitude']]"
   ]
  },
  {
   "cell_type": "code",
   "execution_count": 53,
   "metadata": {},
   "outputs": [
    {
     "data": {
      "text/plain": [
       "[40.64499, -73.78115]"
      ]
     },
     "execution_count": 53,
     "metadata": {},
     "output_type": "execute_result"
    }
   ],
   "source": [
    "first_location = location(first_trip) # [40.64499, -73.78115]\n",
    "first_location # [40.64499, -73.78115]"
   ]
  },
  {
   "cell_type": "markdown",
   "metadata": {},
   "source": [
    "Ok, now that we can turn a trip into a location, let's turn a location into a marker.  Write a function called `to_marker` that takes in a location (in the form of a list) as an argument, and returns a folium `circleMarker` for that location.  The radius of the marker should always equal 6."
   ]
  },
  {
   "cell_type": "code",
   "execution_count": 78,
   "metadata": {},
   "outputs": [],
   "source": [
    "def to_marker(location):\n",
    "    return folium.CircleMarker(location, radius = 6)"
   ]
  },
  {
   "cell_type": "code",
   "execution_count": 79,
   "metadata": {},
   "outputs": [
    {
     "ename": "TypeError",
     "evalue": "the JSON object must be str, bytes or bytearray, not 'dict'",
     "output_type": "error",
     "traceback": [
      "\u001b[0;31m\u001b[0m",
      "\u001b[0;31mTypeError\u001b[0mTraceback (most recent call last)",
      "\u001b[0;32m<ipython-input-79-aea535683066>\u001b[0m in \u001b[0;36m<module>\u001b[0;34m\u001b[0m\n\u001b[1;32m      3\u001b[0m \u001b[0;34m\u001b[0m\u001b[0m\n\u001b[1;32m      4\u001b[0m \u001b[0mtimes_square_marker\u001b[0m \u001b[0;32mand\u001b[0m \u001b[0mtimes_square_marker\u001b[0m\u001b[0;34m.\u001b[0m\u001b[0mlocation\u001b[0m \u001b[0;31m# [40.7589, -73.9851]\u001b[0m\u001b[0;34m\u001b[0m\u001b[0;34m\u001b[0m\u001b[0m\n\u001b[0;32m----> 5\u001b[0;31m \u001b[0mtimes_square_marker\u001b[0m \u001b[0;32mand\u001b[0m \u001b[0mjson\u001b[0m\u001b[0;34m.\u001b[0m\u001b[0mloads\u001b[0m\u001b[0;34m(\u001b[0m\u001b[0mtimes_square_marker\u001b[0m\u001b[0;34m.\u001b[0m\u001b[0moptions\u001b[0m\u001b[0;34m)\u001b[0m\u001b[0;34m[\u001b[0m\u001b[0;34m'radius'\u001b[0m\u001b[0;34m]\u001b[0m \u001b[0;31m# 6\u001b[0m\u001b[0;34m\u001b[0m\u001b[0;34m\u001b[0m\u001b[0m\n\u001b[0m",
      "\u001b[0;32m/opt/conda/envs/learn-env/lib/python3.6/json/__init__.py\u001b[0m in \u001b[0;36mloads\u001b[0;34m(s, encoding, cls, object_hook, parse_float, parse_int, parse_constant, object_pairs_hook, **kw)\u001b[0m\n\u001b[1;32m    346\u001b[0m         \u001b[0;32mif\u001b[0m \u001b[0;32mnot\u001b[0m \u001b[0misinstance\u001b[0m\u001b[0;34m(\u001b[0m\u001b[0ms\u001b[0m\u001b[0;34m,\u001b[0m \u001b[0;34m(\u001b[0m\u001b[0mbytes\u001b[0m\u001b[0;34m,\u001b[0m \u001b[0mbytearray\u001b[0m\u001b[0;34m)\u001b[0m\u001b[0;34m)\u001b[0m\u001b[0;34m:\u001b[0m\u001b[0;34m\u001b[0m\u001b[0;34m\u001b[0m\u001b[0m\n\u001b[1;32m    347\u001b[0m             raise TypeError('the JSON object must be str, bytes or bytearray, '\n\u001b[0;32m--> 348\u001b[0;31m                             'not {!r}'.format(s.__class__.__name__))\n\u001b[0m\u001b[1;32m    349\u001b[0m         \u001b[0ms\u001b[0m \u001b[0;34m=\u001b[0m \u001b[0ms\u001b[0m\u001b[0;34m.\u001b[0m\u001b[0mdecode\u001b[0m\u001b[0;34m(\u001b[0m\u001b[0mdetect_encoding\u001b[0m\u001b[0;34m(\u001b[0m\u001b[0ms\u001b[0m\u001b[0;34m)\u001b[0m\u001b[0;34m,\u001b[0m \u001b[0;34m'surrogatepass'\u001b[0m\u001b[0;34m)\u001b[0m\u001b[0;34m\u001b[0m\u001b[0;34m\u001b[0m\u001b[0m\n\u001b[1;32m    350\u001b[0m \u001b[0;34m\u001b[0m\u001b[0m\n",
      "\u001b[0;31mTypeError\u001b[0m: the JSON object must be str, bytes or bytearray, not 'dict'"
     ]
    }
   ],
   "source": [
    "import json\n",
    "times_square_marker = to_marker([40.7589, -73.9851])\n",
    "\n",
    "times_square_marker and times_square_marker.location # [40.7589, -73.9851]\n",
    "times_square_marker and json.loads(times_square_marker.options)['radius'] # 6"
   ]
  },
  {
   "cell_type": "markdown",
   "metadata": {},
   "source": [
    "Ok, now that we know how to produce a single marker, let's write a function to produce lots.  We can write a function called `markers_from_trips` that takes in a list of trips, and returns a marker object for each trip.  "
   ]
  },
  {
   "cell_type": "code",
   "execution_count": 61,
   "metadata": {},
   "outputs": [],
   "source": [
    "def markers_from_trips(trips):\n",
    "    return list(map(lambda trip: to_marker(location(trip)), trips))"
   ]
  },
  {
   "cell_type": "code",
   "execution_count": 62,
   "metadata": {},
   "outputs": [
    {
     "data": {
      "text/plain": [
       "[<folium.vector_layers.CircleMarker at 0x7f8170315198>,\n",
       " <folium.vector_layers.CircleMarker at 0x7f8170315208>,\n",
       " <folium.vector_layers.CircleMarker at 0x7f81705b8080>,\n",
       " <folium.vector_layers.CircleMarker at 0x7f8144de6080>,\n",
       " <folium.vector_layers.CircleMarker at 0x7f8144de60b8>,\n",
       " <folium.vector_layers.CircleMarker at 0x7f8144de6240>,\n",
       " <folium.vector_layers.CircleMarker at 0x7f8144de6278>,\n",
       " <folium.vector_layers.CircleMarker at 0x7f8144de61d0>,\n",
       " <folium.vector_layers.CircleMarker at 0x7f8144de6208>,\n",
       " <folium.vector_layers.CircleMarker at 0x7f8144de6160>,\n",
       " <folium.vector_layers.CircleMarker at 0x7f8144de6128>,\n",
       " <folium.vector_layers.CircleMarker at 0x7f8170315438>,\n",
       " <folium.vector_layers.CircleMarker at 0x7f8144de6048>,\n",
       " <folium.vector_layers.CircleMarker at 0x7f8144de6198>,\n",
       " <folium.vector_layers.CircleMarker at 0x7f8144de6320>,\n",
       " <folium.vector_layers.CircleMarker at 0x7f8144de62b0>,\n",
       " <folium.vector_layers.CircleMarker at 0x7f8144de64a8>,\n",
       " <folium.vector_layers.CircleMarker at 0x7f8144de6390>,\n",
       " <folium.vector_layers.CircleMarker at 0x7f8144de64e0>,\n",
       " <folium.vector_layers.CircleMarker at 0x7f81703156d8>,\n",
       " <folium.vector_layers.CircleMarker at 0x7f8144de6438>,\n",
       " <folium.vector_layers.CircleMarker at 0x7f8144de6400>,\n",
       " <folium.vector_layers.CircleMarker at 0x7f8144de6470>,\n",
       " <folium.vector_layers.CircleMarker at 0x7f8144de6518>,\n",
       " <folium.vector_layers.CircleMarker at 0x7f8144de6550>,\n",
       " <folium.vector_layers.CircleMarker at 0x7f8144de6588>,\n",
       " <folium.vector_layers.CircleMarker at 0x7f8144de65c0>,\n",
       " <folium.vector_layers.CircleMarker at 0x7f8144de65f8>,\n",
       " <folium.vector_layers.CircleMarker at 0x7f8144de6630>,\n",
       " <folium.vector_layers.CircleMarker at 0x7f8144de6668>,\n",
       " <folium.vector_layers.CircleMarker at 0x7f8144de66a0>,\n",
       " <folium.vector_layers.CircleMarker at 0x7f8144de66d8>,\n",
       " <folium.vector_layers.CircleMarker at 0x7f8144de6710>,\n",
       " <folium.vector_layers.CircleMarker at 0x7f8144de6748>,\n",
       " <folium.vector_layers.CircleMarker at 0x7f8144de6780>,\n",
       " <folium.vector_layers.CircleMarker at 0x7f8144de67b8>,\n",
       " <folium.vector_layers.CircleMarker at 0x7f8144de67f0>,\n",
       " <folium.vector_layers.CircleMarker at 0x7f8144de6828>,\n",
       " <folium.vector_layers.CircleMarker at 0x7f8144de6860>,\n",
       " <folium.vector_layers.CircleMarker at 0x7f8144de6898>,\n",
       " <folium.vector_layers.CircleMarker at 0x7f8144de68d0>,\n",
       " <folium.vector_layers.CircleMarker at 0x7f8144de6908>,\n",
       " <folium.vector_layers.CircleMarker at 0x7f8144de6940>,\n",
       " <folium.vector_layers.CircleMarker at 0x7f8144de6978>,\n",
       " <folium.vector_layers.CircleMarker at 0x7f8144de69b0>,\n",
       " <folium.vector_layers.CircleMarker at 0x7f8144de69e8>,\n",
       " <folium.vector_layers.CircleMarker at 0x7f8144de6a20>,\n",
       " <folium.vector_layers.CircleMarker at 0x7f8144de6a58>,\n",
       " <folium.vector_layers.CircleMarker at 0x7f8144de6a90>,\n",
       " <folium.vector_layers.CircleMarker at 0x7f8144de6ac8>,\n",
       " <folium.vector_layers.CircleMarker at 0x7f8144de6b00>,\n",
       " <folium.vector_layers.CircleMarker at 0x7f8144de6b38>,\n",
       " <folium.vector_layers.CircleMarker at 0x7f8144de6b70>,\n",
       " <folium.vector_layers.CircleMarker at 0x7f8144de6ba8>,\n",
       " <folium.vector_layers.CircleMarker at 0x7f8144de6be0>,\n",
       " <folium.vector_layers.CircleMarker at 0x7f8144de6c18>,\n",
       " <folium.vector_layers.CircleMarker at 0x7f8144de6c50>,\n",
       " <folium.vector_layers.CircleMarker at 0x7f8144de6c88>,\n",
       " <folium.vector_layers.CircleMarker at 0x7f8144de6cc0>,\n",
       " <folium.vector_layers.CircleMarker at 0x7f8144de6cf8>,\n",
       " <folium.vector_layers.CircleMarker at 0x7f8144de6d30>,\n",
       " <folium.vector_layers.CircleMarker at 0x7f8144de6d68>,\n",
       " <folium.vector_layers.CircleMarker at 0x7f8144de6da0>,\n",
       " <folium.vector_layers.CircleMarker at 0x7f8144de6dd8>,\n",
       " <folium.vector_layers.CircleMarker at 0x7f8144de6e10>,\n",
       " <folium.vector_layers.CircleMarker at 0x7f8144de6e48>,\n",
       " <folium.vector_layers.CircleMarker at 0x7f8144de6e80>,\n",
       " <folium.vector_layers.CircleMarker at 0x7f8144de6eb8>,\n",
       " <folium.vector_layers.CircleMarker at 0x7f8144de6ef0>,\n",
       " <folium.vector_layers.CircleMarker at 0x7f8144de6f28>,\n",
       " <folium.vector_layers.CircleMarker at 0x7f8144de6f60>,\n",
       " <folium.vector_layers.CircleMarker at 0x7f8144de6f98>,\n",
       " <folium.vector_layers.CircleMarker at 0x7f8144de6fd0>,\n",
       " <folium.vector_layers.CircleMarker at 0x7f8144de6358>,\n",
       " <folium.vector_layers.CircleMarker at 0x7f8144d74080>,\n",
       " <folium.vector_layers.CircleMarker at 0x7f8144d740b8>,\n",
       " <folium.vector_layers.CircleMarker at 0x7f8144d740f0>,\n",
       " <folium.vector_layers.CircleMarker at 0x7f8144d74128>,\n",
       " <folium.vector_layers.CircleMarker at 0x7f8144d74160>,\n",
       " <folium.vector_layers.CircleMarker at 0x7f8144d74198>,\n",
       " <folium.vector_layers.CircleMarker at 0x7f8144d741d0>,\n",
       " <folium.vector_layers.CircleMarker at 0x7f8144d74208>,\n",
       " <folium.vector_layers.CircleMarker at 0x7f8144d74240>,\n",
       " <folium.vector_layers.CircleMarker at 0x7f8144d74278>,\n",
       " <folium.vector_layers.CircleMarker at 0x7f8144d742b0>,\n",
       " <folium.vector_layers.CircleMarker at 0x7f8144d742e8>,\n",
       " <folium.vector_layers.CircleMarker at 0x7f8144d74320>,\n",
       " <folium.vector_layers.CircleMarker at 0x7f8144d74358>,\n",
       " <folium.vector_layers.CircleMarker at 0x7f8144d74390>,\n",
       " <folium.vector_layers.CircleMarker at 0x7f8144d743c8>,\n",
       " <folium.vector_layers.CircleMarker at 0x7f8144d74400>,\n",
       " <folium.vector_layers.CircleMarker at 0x7f8144d74438>,\n",
       " <folium.vector_layers.CircleMarker at 0x7f8144d74470>,\n",
       " <folium.vector_layers.CircleMarker at 0x7f8144d744a8>,\n",
       " <folium.vector_layers.CircleMarker at 0x7f8144d744e0>,\n",
       " <folium.vector_layers.CircleMarker at 0x7f8144d74518>,\n",
       " <folium.vector_layers.CircleMarker at 0x7f8144d74550>,\n",
       " <folium.vector_layers.CircleMarker at 0x7f8144d74588>,\n",
       " <folium.vector_layers.CircleMarker at 0x7f8144d745c0>,\n",
       " <folium.vector_layers.CircleMarker at 0x7f8144d745f8>,\n",
       " <folium.vector_layers.CircleMarker at 0x7f8144d74630>,\n",
       " <folium.vector_layers.CircleMarker at 0x7f8144d74668>,\n",
       " <folium.vector_layers.CircleMarker at 0x7f8144d746a0>,\n",
       " <folium.vector_layers.CircleMarker at 0x7f8144d746d8>,\n",
       " <folium.vector_layers.CircleMarker at 0x7f8144d74710>,\n",
       " <folium.vector_layers.CircleMarker at 0x7f8144d74748>,\n",
       " <folium.vector_layers.CircleMarker at 0x7f8144d74780>,\n",
       " <folium.vector_layers.CircleMarker at 0x7f8144d747b8>,\n",
       " <folium.vector_layers.CircleMarker at 0x7f8144d747f0>,\n",
       " <folium.vector_layers.CircleMarker at 0x7f8144d74828>,\n",
       " <folium.vector_layers.CircleMarker at 0x7f8144d74860>,\n",
       " <folium.vector_layers.CircleMarker at 0x7f8144d74898>,\n",
       " <folium.vector_layers.CircleMarker at 0x7f8144d748d0>,\n",
       " <folium.vector_layers.CircleMarker at 0x7f8144d74908>,\n",
       " <folium.vector_layers.CircleMarker at 0x7f8144d74940>,\n",
       " <folium.vector_layers.CircleMarker at 0x7f8144d74978>,\n",
       " <folium.vector_layers.CircleMarker at 0x7f8144d749b0>,\n",
       " <folium.vector_layers.CircleMarker at 0x7f8144d749e8>,\n",
       " <folium.vector_layers.CircleMarker at 0x7f8144d74a20>,\n",
       " <folium.vector_layers.CircleMarker at 0x7f8144d74a58>,\n",
       " <folium.vector_layers.CircleMarker at 0x7f8144d74a90>,\n",
       " <folium.vector_layers.CircleMarker at 0x7f8144d74ac8>,\n",
       " <folium.vector_layers.CircleMarker at 0x7f8144d74b00>,\n",
       " <folium.vector_layers.CircleMarker at 0x7f8144d74b38>,\n",
       " <folium.vector_layers.CircleMarker at 0x7f8144d74b70>,\n",
       " <folium.vector_layers.CircleMarker at 0x7f8144d74ba8>,\n",
       " <folium.vector_layers.CircleMarker at 0x7f8144d74be0>,\n",
       " <folium.vector_layers.CircleMarker at 0x7f8144d74c18>,\n",
       " <folium.vector_layers.CircleMarker at 0x7f8144d74c50>,\n",
       " <folium.vector_layers.CircleMarker at 0x7f8144d74c88>,\n",
       " <folium.vector_layers.CircleMarker at 0x7f8144d74cc0>,\n",
       " <folium.vector_layers.CircleMarker at 0x7f8144d74cf8>,\n",
       " <folium.vector_layers.CircleMarker at 0x7f8144d74d30>,\n",
       " <folium.vector_layers.CircleMarker at 0x7f8144d74d68>,\n",
       " <folium.vector_layers.CircleMarker at 0x7f8144d74da0>,\n",
       " <folium.vector_layers.CircleMarker at 0x7f8144d74dd8>,\n",
       " <folium.vector_layers.CircleMarker at 0x7f8144d74e10>,\n",
       " <folium.vector_layers.CircleMarker at 0x7f8144d74e48>,\n",
       " <folium.vector_layers.CircleMarker at 0x7f8144d74e80>,\n",
       " <folium.vector_layers.CircleMarker at 0x7f8144d74eb8>,\n",
       " <folium.vector_layers.CircleMarker at 0x7f8144d74ef0>,\n",
       " <folium.vector_layers.CircleMarker at 0x7f8144d74f28>,\n",
       " <folium.vector_layers.CircleMarker at 0x7f8144d74f60>,\n",
       " <folium.vector_layers.CircleMarker at 0x7f8144d74f98>,\n",
       " <folium.vector_layers.CircleMarker at 0x7f8144d74fd0>,\n",
       " <folium.vector_layers.CircleMarker at 0x7f8144d74048>,\n",
       " <folium.vector_layers.CircleMarker at 0x7f8144d82080>,\n",
       " <folium.vector_layers.CircleMarker at 0x7f8144d820b8>,\n",
       " <folium.vector_layers.CircleMarker at 0x7f8144d820f0>,\n",
       " <folium.vector_layers.CircleMarker at 0x7f8144d82128>,\n",
       " <folium.vector_layers.CircleMarker at 0x7f8144d82160>,\n",
       " <folium.vector_layers.CircleMarker at 0x7f8144d82198>,\n",
       " <folium.vector_layers.CircleMarker at 0x7f8144d821d0>,\n",
       " <folium.vector_layers.CircleMarker at 0x7f8144d82208>,\n",
       " <folium.vector_layers.CircleMarker at 0x7f8144d82240>,\n",
       " <folium.vector_layers.CircleMarker at 0x7f8144d82278>,\n",
       " <folium.vector_layers.CircleMarker at 0x7f8144d822b0>,\n",
       " <folium.vector_layers.CircleMarker at 0x7f8144d822e8>,\n",
       " <folium.vector_layers.CircleMarker at 0x7f8144d82320>,\n",
       " <folium.vector_layers.CircleMarker at 0x7f8144d82358>,\n",
       " <folium.vector_layers.CircleMarker at 0x7f8144d82390>,\n",
       " <folium.vector_layers.CircleMarker at 0x7f8144d823c8>,\n",
       " <folium.vector_layers.CircleMarker at 0x7f8144d82400>,\n",
       " <folium.vector_layers.CircleMarker at 0x7f8144d82438>,\n",
       " <folium.vector_layers.CircleMarker at 0x7f8144d82470>,\n",
       " <folium.vector_layers.CircleMarker at 0x7f8144d824a8>,\n",
       " <folium.vector_layers.CircleMarker at 0x7f8144d824e0>,\n",
       " <folium.vector_layers.CircleMarker at 0x7f8144d82518>,\n",
       " <folium.vector_layers.CircleMarker at 0x7f8144d82550>,\n",
       " <folium.vector_layers.CircleMarker at 0x7f8144d82588>,\n",
       " <folium.vector_layers.CircleMarker at 0x7f8144d825c0>,\n",
       " <folium.vector_layers.CircleMarker at 0x7f8144d825f8>,\n",
       " <folium.vector_layers.CircleMarker at 0x7f8144d82630>,\n",
       " <folium.vector_layers.CircleMarker at 0x7f8144d82668>,\n",
       " <folium.vector_layers.CircleMarker at 0x7f8144d826a0>,\n",
       " <folium.vector_layers.CircleMarker at 0x7f8144d826d8>,\n",
       " <folium.vector_layers.CircleMarker at 0x7f8144d82710>,\n",
       " <folium.vector_layers.CircleMarker at 0x7f8144d82748>,\n",
       " <folium.vector_layers.CircleMarker at 0x7f8144d82780>,\n",
       " <folium.vector_layers.CircleMarker at 0x7f8144d827b8>,\n",
       " <folium.vector_layers.CircleMarker at 0x7f8144d827f0>,\n",
       " <folium.vector_layers.CircleMarker at 0x7f8144d82828>,\n",
       " <folium.vector_layers.CircleMarker at 0x7f8144d82860>,\n",
       " <folium.vector_layers.CircleMarker at 0x7f8144d82898>,\n",
       " <folium.vector_layers.CircleMarker at 0x7f8144d828d0>,\n",
       " <folium.vector_layers.CircleMarker at 0x7f8144d82908>,\n",
       " <folium.vector_layers.CircleMarker at 0x7f8144d82940>,\n",
       " <folium.vector_layers.CircleMarker at 0x7f8144d82978>,\n",
       " <folium.vector_layers.CircleMarker at 0x7f8144d829b0>,\n",
       " <folium.vector_layers.CircleMarker at 0x7f8144d829e8>,\n",
       " <folium.vector_layers.CircleMarker at 0x7f8144d82a20>,\n",
       " <folium.vector_layers.CircleMarker at 0x7f8144d82a58>,\n",
       " <folium.vector_layers.CircleMarker at 0x7f8144d82a90>,\n",
       " <folium.vector_layers.CircleMarker at 0x7f8144d82ac8>,\n",
       " <folium.vector_layers.CircleMarker at 0x7f8144d82b00>,\n",
       " <folium.vector_layers.CircleMarker at 0x7f8144d82b38>,\n",
       " <folium.vector_layers.CircleMarker at 0x7f8144d82b70>,\n",
       " <folium.vector_layers.CircleMarker at 0x7f8144d82ba8>,\n",
       " <folium.vector_layers.CircleMarker at 0x7f8144d82be0>,\n",
       " <folium.vector_layers.CircleMarker at 0x7f8144d82c18>,\n",
       " <folium.vector_layers.CircleMarker at 0x7f8144d82c50>,\n",
       " <folium.vector_layers.CircleMarker at 0x7f8144d82c88>,\n",
       " <folium.vector_layers.CircleMarker at 0x7f8144d82cc0>,\n",
       " <folium.vector_layers.CircleMarker at 0x7f8144d82cf8>,\n",
       " <folium.vector_layers.CircleMarker at 0x7f8144d82d30>,\n",
       " <folium.vector_layers.CircleMarker at 0x7f8144d82d68>,\n",
       " <folium.vector_layers.CircleMarker at 0x7f8144d82da0>,\n",
       " <folium.vector_layers.CircleMarker at 0x7f8144d82dd8>,\n",
       " <folium.vector_layers.CircleMarker at 0x7f8144d82e10>,\n",
       " <folium.vector_layers.CircleMarker at 0x7f8144d82e48>,\n",
       " <folium.vector_layers.CircleMarker at 0x7f8144d82e80>,\n",
       " <folium.vector_layers.CircleMarker at 0x7f8144d82eb8>,\n",
       " <folium.vector_layers.CircleMarker at 0x7f8144d82ef0>,\n",
       " <folium.vector_layers.CircleMarker at 0x7f8144d82f28>,\n",
       " <folium.vector_layers.CircleMarker at 0x7f8144d82f60>,\n",
       " <folium.vector_layers.CircleMarker at 0x7f8144d82f98>,\n",
       " <folium.vector_layers.CircleMarker at 0x7f8144d82fd0>,\n",
       " <folium.vector_layers.CircleMarker at 0x7f8144d82048>,\n",
       " <folium.vector_layers.CircleMarker at 0x7f8144d8f080>,\n",
       " <folium.vector_layers.CircleMarker at 0x7f8144d8f0b8>,\n",
       " <folium.vector_layers.CircleMarker at 0x7f8144d8f0f0>,\n",
       " <folium.vector_layers.CircleMarker at 0x7f8144d8f128>,\n",
       " <folium.vector_layers.CircleMarker at 0x7f8144d8f160>,\n",
       " <folium.vector_layers.CircleMarker at 0x7f8144d8f198>,\n",
       " <folium.vector_layers.CircleMarker at 0x7f8144d8f1d0>,\n",
       " <folium.vector_layers.CircleMarker at 0x7f8144d8f208>,\n",
       " <folium.vector_layers.CircleMarker at 0x7f8144d8f240>,\n",
       " <folium.vector_layers.CircleMarker at 0x7f8144d8f278>,\n",
       " <folium.vector_layers.CircleMarker at 0x7f8144d8f2b0>,\n",
       " <folium.vector_layers.CircleMarker at 0x7f8144d8f2e8>,\n",
       " <folium.vector_layers.CircleMarker at 0x7f8144d8f320>,\n",
       " <folium.vector_layers.CircleMarker at 0x7f8144d8f358>,\n",
       " <folium.vector_layers.CircleMarker at 0x7f8144d8f390>,\n",
       " <folium.vector_layers.CircleMarker at 0x7f8144d8f3c8>,\n",
       " <folium.vector_layers.CircleMarker at 0x7f8144d8f400>,\n",
       " <folium.vector_layers.CircleMarker at 0x7f8144d8f438>,\n",
       " <folium.vector_layers.CircleMarker at 0x7f8144d8f470>,\n",
       " <folium.vector_layers.CircleMarker at 0x7f8144d8f4a8>,\n",
       " <folium.vector_layers.CircleMarker at 0x7f8144d8f4e0>,\n",
       " <folium.vector_layers.CircleMarker at 0x7f8144d8f518>,\n",
       " <folium.vector_layers.CircleMarker at 0x7f8144d8f550>,\n",
       " <folium.vector_layers.CircleMarker at 0x7f8144d8f588>,\n",
       " <folium.vector_layers.CircleMarker at 0x7f8144d8f5c0>,\n",
       " <folium.vector_layers.CircleMarker at 0x7f8144d8f5f8>,\n",
       " <folium.vector_layers.CircleMarker at 0x7f8144d8f630>,\n",
       " <folium.vector_layers.CircleMarker at 0x7f8144d8f668>,\n",
       " <folium.vector_layers.CircleMarker at 0x7f8144d8f6a0>,\n",
       " <folium.vector_layers.CircleMarker at 0x7f8144d8f6d8>,\n",
       " <folium.vector_layers.CircleMarker at 0x7f8144d8f710>,\n",
       " <folium.vector_layers.CircleMarker at 0x7f8144d8f748>,\n",
       " <folium.vector_layers.CircleMarker at 0x7f8144d8f780>,\n",
       " <folium.vector_layers.CircleMarker at 0x7f8144d8f7b8>,\n",
       " <folium.vector_layers.CircleMarker at 0x7f8144d8f7f0>,\n",
       " <folium.vector_layers.CircleMarker at 0x7f8144d8f828>,\n",
       " <folium.vector_layers.CircleMarker at 0x7f8144d8f860>,\n",
       " <folium.vector_layers.CircleMarker at 0x7f8144d8f898>,\n",
       " <folium.vector_layers.CircleMarker at 0x7f8144d8f8d0>,\n",
       " <folium.vector_layers.CircleMarker at 0x7f8144d8f908>,\n",
       " <folium.vector_layers.CircleMarker at 0x7f8144d8f940>,\n",
       " <folium.vector_layers.CircleMarker at 0x7f8144d8f978>,\n",
       " <folium.vector_layers.CircleMarker at 0x7f8144d8f9b0>,\n",
       " <folium.vector_layers.CircleMarker at 0x7f8144d8f9e8>,\n",
       " <folium.vector_layers.CircleMarker at 0x7f8144d8fa20>,\n",
       " <folium.vector_layers.CircleMarker at 0x7f8144d8fa58>,\n",
       " <folium.vector_layers.CircleMarker at 0x7f8144d8fa90>,\n",
       " <folium.vector_layers.CircleMarker at 0x7f8144d8fac8>,\n",
       " <folium.vector_layers.CircleMarker at 0x7f8144d8fb00>,\n",
       " <folium.vector_layers.CircleMarker at 0x7f8144d8fb38>,\n",
       " <folium.vector_layers.CircleMarker at 0x7f8144d8fb70>,\n",
       " <folium.vector_layers.CircleMarker at 0x7f8144d8fba8>,\n",
       " <folium.vector_layers.CircleMarker at 0x7f8144d8fbe0>,\n",
       " <folium.vector_layers.CircleMarker at 0x7f8144d8fc18>,\n",
       " <folium.vector_layers.CircleMarker at 0x7f8144d8fc50>,\n",
       " <folium.vector_layers.CircleMarker at 0x7f8144d8fc88>,\n",
       " <folium.vector_layers.CircleMarker at 0x7f8144d8fcc0>,\n",
       " <folium.vector_layers.CircleMarker at 0x7f8144d8fcf8>,\n",
       " <folium.vector_layers.CircleMarker at 0x7f8144d8fd30>,\n",
       " <folium.vector_layers.CircleMarker at 0x7f8144d8fd68>,\n",
       " <folium.vector_layers.CircleMarker at 0x7f8144d8fda0>,\n",
       " <folium.vector_layers.CircleMarker at 0x7f8144d8fdd8>,\n",
       " <folium.vector_layers.CircleMarker at 0x7f8144d8fe10>,\n",
       " <folium.vector_layers.CircleMarker at 0x7f8144d8fe48>,\n",
       " <folium.vector_layers.CircleMarker at 0x7f8144d8fe80>,\n",
       " <folium.vector_layers.CircleMarker at 0x7f8144d8feb8>,\n",
       " <folium.vector_layers.CircleMarker at 0x7f8144d8fef0>,\n",
       " <folium.vector_layers.CircleMarker at 0x7f8144d8ff28>,\n",
       " <folium.vector_layers.CircleMarker at 0x7f8144d8ff60>,\n",
       " <folium.vector_layers.CircleMarker at 0x7f8144d8ff98>,\n",
       " <folium.vector_layers.CircleMarker at 0x7f8144d8ffd0>,\n",
       " <folium.vector_layers.CircleMarker at 0x7f8144d8f048>,\n",
       " <folium.vector_layers.CircleMarker at 0x7f8144d9e080>,\n",
       " <folium.vector_layers.CircleMarker at 0x7f8144d9e0b8>,\n",
       " <folium.vector_layers.CircleMarker at 0x7f8144d9e0f0>,\n",
       " <folium.vector_layers.CircleMarker at 0x7f8144d9e128>,\n",
       " <folium.vector_layers.CircleMarker at 0x7f8144d9e160>,\n",
       " <folium.vector_layers.CircleMarker at 0x7f8144d9e198>,\n",
       " <folium.vector_layers.CircleMarker at 0x7f8144d9e1d0>,\n",
       " <folium.vector_layers.CircleMarker at 0x7f8144d9e208>,\n",
       " <folium.vector_layers.CircleMarker at 0x7f8144d9e240>,\n",
       " <folium.vector_layers.CircleMarker at 0x7f8144d9e278>,\n",
       " <folium.vector_layers.CircleMarker at 0x7f8144d9e2b0>,\n",
       " <folium.vector_layers.CircleMarker at 0x7f8144d9e2e8>,\n",
       " <folium.vector_layers.CircleMarker at 0x7f8144d9e320>,\n",
       " <folium.vector_layers.CircleMarker at 0x7f8144d9e358>,\n",
       " <folium.vector_layers.CircleMarker at 0x7f8144d9e390>,\n",
       " <folium.vector_layers.CircleMarker at 0x7f8144d9e3c8>,\n",
       " <folium.vector_layers.CircleMarker at 0x7f8144d9e400>,\n",
       " <folium.vector_layers.CircleMarker at 0x7f8144d9e438>,\n",
       " <folium.vector_layers.CircleMarker at 0x7f8144d9e470>,\n",
       " <folium.vector_layers.CircleMarker at 0x7f8144d9e4a8>,\n",
       " <folium.vector_layers.CircleMarker at 0x7f8144d9e4e0>,\n",
       " <folium.vector_layers.CircleMarker at 0x7f8144d9e518>,\n",
       " <folium.vector_layers.CircleMarker at 0x7f8144d9e550>,\n",
       " <folium.vector_layers.CircleMarker at 0x7f8144d9e588>,\n",
       " <folium.vector_layers.CircleMarker at 0x7f8144d9e5c0>,\n",
       " <folium.vector_layers.CircleMarker at 0x7f8144d9e5f8>,\n",
       " <folium.vector_layers.CircleMarker at 0x7f8144d9e630>,\n",
       " <folium.vector_layers.CircleMarker at 0x7f8144d9e668>,\n",
       " <folium.vector_layers.CircleMarker at 0x7f8144d9e6a0>,\n",
       " <folium.vector_layers.CircleMarker at 0x7f8144d9e6d8>,\n",
       " <folium.vector_layers.CircleMarker at 0x7f8144d9e710>,\n",
       " <folium.vector_layers.CircleMarker at 0x7f8144d9e748>,\n",
       " <folium.vector_layers.CircleMarker at 0x7f8144d9e780>,\n",
       " <folium.vector_layers.CircleMarker at 0x7f8144d9e7b8>,\n",
       " <folium.vector_layers.CircleMarker at 0x7f8144d9e7f0>,\n",
       " <folium.vector_layers.CircleMarker at 0x7f8144d9e828>,\n",
       " <folium.vector_layers.CircleMarker at 0x7f8144d9e860>,\n",
       " <folium.vector_layers.CircleMarker at 0x7f8144d9e898>,\n",
       " <folium.vector_layers.CircleMarker at 0x7f8144d9e8d0>,\n",
       " <folium.vector_layers.CircleMarker at 0x7f8144d9e908>,\n",
       " <folium.vector_layers.CircleMarker at 0x7f8144d9e940>,\n",
       " <folium.vector_layers.CircleMarker at 0x7f8144d9e978>,\n",
       " <folium.vector_layers.CircleMarker at 0x7f8144d9e9b0>,\n",
       " <folium.vector_layers.CircleMarker at 0x7f8144d9e9e8>,\n",
       " <folium.vector_layers.CircleMarker at 0x7f8144d9ea20>,\n",
       " <folium.vector_layers.CircleMarker at 0x7f8144d9ea58>,\n",
       " <folium.vector_layers.CircleMarker at 0x7f8144d9ea90>,\n",
       " <folium.vector_layers.CircleMarker at 0x7f8144d9eac8>,\n",
       " <folium.vector_layers.CircleMarker at 0x7f8144d9eb00>,\n",
       " <folium.vector_layers.CircleMarker at 0x7f8144d9eb38>,\n",
       " <folium.vector_layers.CircleMarker at 0x7f8144d9eb70>,\n",
       " <folium.vector_layers.CircleMarker at 0x7f8144d9eba8>,\n",
       " <folium.vector_layers.CircleMarker at 0x7f8144d9ebe0>,\n",
       " <folium.vector_layers.CircleMarker at 0x7f8144d9ec18>,\n",
       " <folium.vector_layers.CircleMarker at 0x7f8144d9ec50>,\n",
       " <folium.vector_layers.CircleMarker at 0x7f8144d9ec88>,\n",
       " <folium.vector_layers.CircleMarker at 0x7f8144d9ecc0>,\n",
       " <folium.vector_layers.CircleMarker at 0x7f8144d9ecf8>,\n",
       " <folium.vector_layers.CircleMarker at 0x7f8144d9ed30>,\n",
       " <folium.vector_layers.CircleMarker at 0x7f8144d9ed68>,\n",
       " <folium.vector_layers.CircleMarker at 0x7f8144d9eda0>,\n",
       " <folium.vector_layers.CircleMarker at 0x7f8144d9edd8>,\n",
       " <folium.vector_layers.CircleMarker at 0x7f8144d9ee10>,\n",
       " <folium.vector_layers.CircleMarker at 0x7f8144d9ee48>,\n",
       " <folium.vector_layers.CircleMarker at 0x7f8144d9ee80>,\n",
       " <folium.vector_layers.CircleMarker at 0x7f8144d9eeb8>,\n",
       " <folium.vector_layers.CircleMarker at 0x7f8144d9eef0>,\n",
       " <folium.vector_layers.CircleMarker at 0x7f8144d9ef28>,\n",
       " <folium.vector_layers.CircleMarker at 0x7f8144d9ef60>,\n",
       " <folium.vector_layers.CircleMarker at 0x7f8144d9ef98>,\n",
       " <folium.vector_layers.CircleMarker at 0x7f8144d9efd0>,\n",
       " <folium.vector_layers.CircleMarker at 0x7f8144d9e048>,\n",
       " <folium.vector_layers.CircleMarker at 0x7f8144dab080>,\n",
       " <folium.vector_layers.CircleMarker at 0x7f8144dab0b8>,\n",
       " <folium.vector_layers.CircleMarker at 0x7f8144dab0f0>,\n",
       " <folium.vector_layers.CircleMarker at 0x7f8144dab128>,\n",
       " <folium.vector_layers.CircleMarker at 0x7f8144dab160>,\n",
       " <folium.vector_layers.CircleMarker at 0x7f8144dab198>,\n",
       " <folium.vector_layers.CircleMarker at 0x7f8144dab1d0>,\n",
       " <folium.vector_layers.CircleMarker at 0x7f8144dab208>,\n",
       " <folium.vector_layers.CircleMarker at 0x7f8144dab240>,\n",
       " <folium.vector_layers.CircleMarker at 0x7f8144dab278>,\n",
       " <folium.vector_layers.CircleMarker at 0x7f8144dab2b0>,\n",
       " <folium.vector_layers.CircleMarker at 0x7f8144dab2e8>,\n",
       " <folium.vector_layers.CircleMarker at 0x7f8144dab320>,\n",
       " <folium.vector_layers.CircleMarker at 0x7f8144dab358>,\n",
       " <folium.vector_layers.CircleMarker at 0x7f8144dab390>,\n",
       " <folium.vector_layers.CircleMarker at 0x7f8144dab3c8>,\n",
       " <folium.vector_layers.CircleMarker at 0x7f8144dab400>,\n",
       " <folium.vector_layers.CircleMarker at 0x7f8144dab438>,\n",
       " <folium.vector_layers.CircleMarker at 0x7f8144dab470>,\n",
       " <folium.vector_layers.CircleMarker at 0x7f8144dab4a8>,\n",
       " <folium.vector_layers.CircleMarker at 0x7f8144dab4e0>,\n",
       " <folium.vector_layers.CircleMarker at 0x7f8144dab518>,\n",
       " <folium.vector_layers.CircleMarker at 0x7f8144dab550>,\n",
       " <folium.vector_layers.CircleMarker at 0x7f8144dab588>,\n",
       " <folium.vector_layers.CircleMarker at 0x7f8144dab5c0>,\n",
       " <folium.vector_layers.CircleMarker at 0x7f8144dab5f8>,\n",
       " <folium.vector_layers.CircleMarker at 0x7f8144dab630>,\n",
       " <folium.vector_layers.CircleMarker at 0x7f8144dab668>,\n",
       " <folium.vector_layers.CircleMarker at 0x7f8144dab6a0>,\n",
       " <folium.vector_layers.CircleMarker at 0x7f8144dab6d8>,\n",
       " <folium.vector_layers.CircleMarker at 0x7f8144dab710>,\n",
       " <folium.vector_layers.CircleMarker at 0x7f8144dab748>,\n",
       " <folium.vector_layers.CircleMarker at 0x7f8144dab780>,\n",
       " <folium.vector_layers.CircleMarker at 0x7f8144dab7b8>,\n",
       " <folium.vector_layers.CircleMarker at 0x7f8144dab7f0>,\n",
       " <folium.vector_layers.CircleMarker at 0x7f8144dab828>,\n",
       " <folium.vector_layers.CircleMarker at 0x7f8144dab860>,\n",
       " <folium.vector_layers.CircleMarker at 0x7f8144dab898>,\n",
       " <folium.vector_layers.CircleMarker at 0x7f8144dab8d0>,\n",
       " <folium.vector_layers.CircleMarker at 0x7f8144dab908>,\n",
       " <folium.vector_layers.CircleMarker at 0x7f8144dab940>,\n",
       " <folium.vector_layers.CircleMarker at 0x7f8144dab978>,\n",
       " <folium.vector_layers.CircleMarker at 0x7f8144dab9b0>,\n",
       " <folium.vector_layers.CircleMarker at 0x7f8144dab9e8>,\n",
       " <folium.vector_layers.CircleMarker at 0x7f8144daba20>,\n",
       " <folium.vector_layers.CircleMarker at 0x7f8144daba58>,\n",
       " <folium.vector_layers.CircleMarker at 0x7f8144daba90>,\n",
       " <folium.vector_layers.CircleMarker at 0x7f8144dabac8>,\n",
       " <folium.vector_layers.CircleMarker at 0x7f8144dabb00>,\n",
       " <folium.vector_layers.CircleMarker at 0x7f8144dabb38>,\n",
       " <folium.vector_layers.CircleMarker at 0x7f8144dabb70>,\n",
       " <folium.vector_layers.CircleMarker at 0x7f8144dabba8>,\n",
       " <folium.vector_layers.CircleMarker at 0x7f8144dabbe0>,\n",
       " <folium.vector_layers.CircleMarker at 0x7f8144dabc18>,\n",
       " <folium.vector_layers.CircleMarker at 0x7f8144dabc50>,\n",
       " <folium.vector_layers.CircleMarker at 0x7f8144dabc88>,\n",
       " <folium.vector_layers.CircleMarker at 0x7f8144dabcc0>,\n",
       " <folium.vector_layers.CircleMarker at 0x7f8144dabcf8>,\n",
       " <folium.vector_layers.CircleMarker at 0x7f8144dabd30>,\n",
       " <folium.vector_layers.CircleMarker at 0x7f8144dabd68>,\n",
       " <folium.vector_layers.CircleMarker at 0x7f8144dabda0>,\n",
       " <folium.vector_layers.CircleMarker at 0x7f8144dabdd8>,\n",
       " <folium.vector_layers.CircleMarker at 0x7f8144dabe10>,\n",
       " <folium.vector_layers.CircleMarker at 0x7f8144dabe48>,\n",
       " <folium.vector_layers.CircleMarker at 0x7f8144dabe80>,\n",
       " <folium.vector_layers.CircleMarker at 0x7f8144dabeb8>,\n",
       " <folium.vector_layers.CircleMarker at 0x7f8144dabef0>,\n",
       " <folium.vector_layers.CircleMarker at 0x7f8144dabf28>,\n",
       " <folium.vector_layers.CircleMarker at 0x7f8144dabf60>,\n",
       " <folium.vector_layers.CircleMarker at 0x7f8144dabf98>,\n",
       " <folium.vector_layers.CircleMarker at 0x7f8144dabfd0>,\n",
       " <folium.vector_layers.CircleMarker at 0x7f8144dab048>,\n",
       " <folium.vector_layers.CircleMarker at 0x7f8144d3a080>,\n",
       " <folium.vector_layers.CircleMarker at 0x7f8144d3a0b8>,\n",
       " <folium.vector_layers.CircleMarker at 0x7f8144d3a0f0>,\n",
       " <folium.vector_layers.CircleMarker at 0x7f8144d3a128>,\n",
       " <folium.vector_layers.CircleMarker at 0x7f8144d3a160>,\n",
       " <folium.vector_layers.CircleMarker at 0x7f8144d3a198>,\n",
       " <folium.vector_layers.CircleMarker at 0x7f8144d3a1d0>,\n",
       " <folium.vector_layers.CircleMarker at 0x7f8144d3a208>,\n",
       " <folium.vector_layers.CircleMarker at 0x7f8144d3a240>,\n",
       " <folium.vector_layers.CircleMarker at 0x7f8144d3a278>,\n",
       " <folium.vector_layers.CircleMarker at 0x7f8144d3a2b0>,\n",
       " <folium.vector_layers.CircleMarker at 0x7f8144d3a2e8>,\n",
       " <folium.vector_layers.CircleMarker at 0x7f8144d3a320>,\n",
       " <folium.vector_layers.CircleMarker at 0x7f8144d3a358>,\n",
       " <folium.vector_layers.CircleMarker at 0x7f8144d3a390>,\n",
       " <folium.vector_layers.CircleMarker at 0x7f8144d3a3c8>,\n",
       " <folium.vector_layers.CircleMarker at 0x7f8144d3a400>,\n",
       " <folium.vector_layers.CircleMarker at 0x7f8144d3a438>,\n",
       " <folium.vector_layers.CircleMarker at 0x7f8144d3a470>,\n",
       " <folium.vector_layers.CircleMarker at 0x7f8144d3a4a8>,\n",
       " <folium.vector_layers.CircleMarker at 0x7f8144d3a4e0>,\n",
       " <folium.vector_layers.CircleMarker at 0x7f8144d3a518>,\n",
       " <folium.vector_layers.CircleMarker at 0x7f8144d3a550>,\n",
       " <folium.vector_layers.CircleMarker at 0x7f8144d3a588>,\n",
       " <folium.vector_layers.CircleMarker at 0x7f8144d3a5c0>,\n",
       " <folium.vector_layers.CircleMarker at 0x7f8144d3a5f8>,\n",
       " <folium.vector_layers.CircleMarker at 0x7f8144d3a630>,\n",
       " <folium.vector_layers.CircleMarker at 0x7f8144d3a668>,\n",
       " <folium.vector_layers.CircleMarker at 0x7f8144d3a6a0>,\n",
       " <folium.vector_layers.CircleMarker at 0x7f8144d3a6d8>,\n",
       " <folium.vector_layers.CircleMarker at 0x7f8144d3a710>,\n",
       " <folium.vector_layers.CircleMarker at 0x7f8144d3a748>,\n",
       " <folium.vector_layers.CircleMarker at 0x7f8144d3a780>,\n",
       " <folium.vector_layers.CircleMarker at 0x7f8144d3a7b8>,\n",
       " <folium.vector_layers.CircleMarker at 0x7f8144d3a7f0>,\n",
       " <folium.vector_layers.CircleMarker at 0x7f8144d3a828>,\n",
       " <folium.vector_layers.CircleMarker at 0x7f8144d3a860>,\n",
       " <folium.vector_layers.CircleMarker at 0x7f8144d3a898>,\n",
       " <folium.vector_layers.CircleMarker at 0x7f8144d3a8d0>,\n",
       " <folium.vector_layers.CircleMarker at 0x7f8144d3a908>,\n",
       " <folium.vector_layers.CircleMarker at 0x7f8144d3a940>,\n",
       " <folium.vector_layers.CircleMarker at 0x7f8144d3a978>,\n",
       " <folium.vector_layers.CircleMarker at 0x7f8144d3a9b0>,\n",
       " <folium.vector_layers.CircleMarker at 0x7f8144d3a9e8>,\n",
       " <folium.vector_layers.CircleMarker at 0x7f8144d3aa20>,\n",
       " <folium.vector_layers.CircleMarker at 0x7f8144d3aa58>,\n",
       " <folium.vector_layers.CircleMarker at 0x7f8144d3aa90>,\n",
       " <folium.vector_layers.CircleMarker at 0x7f8144d3aac8>,\n",
       " <folium.vector_layers.CircleMarker at 0x7f8144d3ab00>,\n",
       " <folium.vector_layers.CircleMarker at 0x7f8144d3ab38>,\n",
       " <folium.vector_layers.CircleMarker at 0x7f8144d3ab70>,\n",
       " <folium.vector_layers.CircleMarker at 0x7f8144d3aba8>,\n",
       " <folium.vector_layers.CircleMarker at 0x7f8144d3abe0>,\n",
       " <folium.vector_layers.CircleMarker at 0x7f8144d3ac18>,\n",
       " <folium.vector_layers.CircleMarker at 0x7f8144d3ac50>,\n",
       " <folium.vector_layers.CircleMarker at 0x7f8144d3ac88>,\n",
       " <folium.vector_layers.CircleMarker at 0x7f8144d3acc0>,\n",
       " <folium.vector_layers.CircleMarker at 0x7f8144d3acf8>,\n",
       " <folium.vector_layers.CircleMarker at 0x7f8144d3ad30>,\n",
       " <folium.vector_layers.CircleMarker at 0x7f8144d3ad68>,\n",
       " <folium.vector_layers.CircleMarker at 0x7f8144d3ada0>,\n",
       " <folium.vector_layers.CircleMarker at 0x7f8144d3add8>,\n",
       " <folium.vector_layers.CircleMarker at 0x7f8144e95f98>,\n",
       " <folium.vector_layers.CircleMarker at 0x7f8144e95ba8>,\n",
       " <folium.vector_layers.CircleMarker at 0x7f8144d3a048>,\n",
       " <folium.vector_layers.CircleMarker at 0x7f8144d3ae48>,\n",
       " <folium.vector_layers.CircleMarker at 0x7f8144d3ae80>,\n",
       " <folium.vector_layers.CircleMarker at 0x7f8144d3aeb8>,\n",
       " <folium.vector_layers.CircleMarker at 0x7f8144d3aef0>,\n",
       " <folium.vector_layers.CircleMarker at 0x7f8144d3af28>,\n",
       " <folium.vector_layers.CircleMarker at 0x7f8144d3af60>,\n",
       " <folium.vector_layers.CircleMarker at 0x7f8144d3af98>,\n",
       " <folium.vector_layers.CircleMarker at 0x7f8144d3afd0>,\n",
       " <folium.vector_layers.CircleMarker at 0x7f8144d3ae10>,\n",
       " <folium.vector_layers.CircleMarker at 0x7f817031a080>,\n",
       " <folium.vector_layers.CircleMarker at 0x7f817031a0b8>,\n",
       " <folium.vector_layers.CircleMarker at 0x7f817031a0f0>,\n",
       " <folium.vector_layers.CircleMarker at 0x7f817031a128>,\n",
       " <folium.vector_layers.CircleMarker at 0x7f817031a160>,\n",
       " <folium.vector_layers.CircleMarker at 0x7f817031a198>,\n",
       " <folium.vector_layers.CircleMarker at 0x7f817031a1d0>,\n",
       " <folium.vector_layers.CircleMarker at 0x7f817031a208>,\n",
       " <folium.vector_layers.CircleMarker at 0x7f817031a240>,\n",
       " <folium.vector_layers.CircleMarker at 0x7f817031a278>,\n",
       " <folium.vector_layers.CircleMarker at 0x7f817031a2b0>,\n",
       " <folium.vector_layers.CircleMarker at 0x7f817031a2e8>,\n",
       " <folium.vector_layers.CircleMarker at 0x7f817031a320>,\n",
       " <folium.vector_layers.CircleMarker at 0x7f817031a358>,\n",
       " <folium.vector_layers.CircleMarker at 0x7f817031a390>,\n",
       " <folium.vector_layers.CircleMarker at 0x7f817031a3c8>,\n",
       " <folium.vector_layers.CircleMarker at 0x7f817031a400>,\n",
       " <folium.vector_layers.CircleMarker at 0x7f817031a438>,\n",
       " <folium.vector_layers.CircleMarker at 0x7f817031a470>,\n",
       " <folium.vector_layers.CircleMarker at 0x7f817031a4a8>,\n",
       " <folium.vector_layers.CircleMarker at 0x7f817031a4e0>,\n",
       " <folium.vector_layers.CircleMarker at 0x7f817031a518>,\n",
       " <folium.vector_layers.CircleMarker at 0x7f817031a550>,\n",
       " <folium.vector_layers.CircleMarker at 0x7f817031a588>,\n",
       " <folium.vector_layers.CircleMarker at 0x7f817031a5c0>,\n",
       " <folium.vector_layers.CircleMarker at 0x7f817031a5f8>,\n",
       " <folium.vector_layers.CircleMarker at 0x7f817031a630>,\n",
       " <folium.vector_layers.CircleMarker at 0x7f817031a668>,\n",
       " <folium.vector_layers.CircleMarker at 0x7f817031a6a0>,\n",
       " <folium.vector_layers.CircleMarker at 0x7f817031a6d8>,\n",
       " <folium.vector_layers.CircleMarker at 0x7f817031a710>,\n",
       " <folium.vector_layers.CircleMarker at 0x7f817031a748>,\n",
       " <folium.vector_layers.CircleMarker at 0x7f817031a780>,\n",
       " <folium.vector_layers.CircleMarker at 0x7f817031a7b8>,\n",
       " <folium.vector_layers.CircleMarker at 0x7f817031a7f0>,\n",
       " <folium.vector_layers.CircleMarker at 0x7f817031a828>,\n",
       " <folium.vector_layers.CircleMarker at 0x7f817031a860>,\n",
       " <folium.vector_layers.CircleMarker at 0x7f817031a898>,\n",
       " <folium.vector_layers.CircleMarker at 0x7f817031a8d0>,\n",
       " <folium.vector_layers.CircleMarker at 0x7f817031a908>,\n",
       " <folium.vector_layers.CircleMarker at 0x7f817031a940>,\n",
       " <folium.vector_layers.CircleMarker at 0x7f817031a978>,\n",
       " <folium.vector_layers.CircleMarker at 0x7f817031a9b0>,\n",
       " <folium.vector_layers.CircleMarker at 0x7f817031a9e8>,\n",
       " <folium.vector_layers.CircleMarker at 0x7f817031aa20>,\n",
       " <folium.vector_layers.CircleMarker at 0x7f817031aa58>,\n",
       " <folium.vector_layers.CircleMarker at 0x7f817031aa90>,\n",
       " <folium.vector_layers.CircleMarker at 0x7f817031aac8>,\n",
       " <folium.vector_layers.CircleMarker at 0x7f817031ab00>,\n",
       " <folium.vector_layers.CircleMarker at 0x7f817031ab38>,\n",
       " <folium.vector_layers.CircleMarker at 0x7f817031ab70>,\n",
       " <folium.vector_layers.CircleMarker at 0x7f817031aba8>,\n",
       " <folium.vector_layers.CircleMarker at 0x7f817031abe0>,\n",
       " <folium.vector_layers.CircleMarker at 0x7f817031ac18>,\n",
       " <folium.vector_layers.CircleMarker at 0x7f817031ac50>,\n",
       " <folium.vector_layers.CircleMarker at 0x7f817031ac88>,\n",
       " <folium.vector_layers.CircleMarker at 0x7f817031acc0>,\n",
       " <folium.vector_layers.CircleMarker at 0x7f817031acf8>,\n",
       " <folium.vector_layers.CircleMarker at 0x7f817031ad30>,\n",
       " <folium.vector_layers.CircleMarker at 0x7f817031ad68>,\n",
       " <folium.vector_layers.CircleMarker at 0x7f817031ada0>,\n",
       " <folium.vector_layers.CircleMarker at 0x7f817031add8>,\n",
       " <folium.vector_layers.CircleMarker at 0x7f817031ae10>,\n",
       " <folium.vector_layers.CircleMarker at 0x7f817031ae48>,\n",
       " <folium.vector_layers.CircleMarker at 0x7f817031ae80>,\n",
       " <folium.vector_layers.CircleMarker at 0x7f817031aeb8>,\n",
       " <folium.vector_layers.CircleMarker at 0x7f817031aef0>,\n",
       " <folium.vector_layers.CircleMarker at 0x7f817031af28>,\n",
       " <folium.vector_layers.CircleMarker at 0x7f817031af60>,\n",
       " <folium.vector_layers.CircleMarker at 0x7f817031af98>,\n",
       " <folium.vector_layers.CircleMarker at 0x7f817031afd0>,\n",
       " <folium.vector_layers.CircleMarker at 0x7f817031a048>,\n",
       " <folium.vector_layers.CircleMarker at 0x7f8144d53080>,\n",
       " <folium.vector_layers.CircleMarker at 0x7f8144d530b8>,\n",
       " <folium.vector_layers.CircleMarker at 0x7f8144d530f0>,\n",
       " <folium.vector_layers.CircleMarker at 0x7f8144d53128>,\n",
       " <folium.vector_layers.CircleMarker at 0x7f8144d53160>,\n",
       " <folium.vector_layers.CircleMarker at 0x7f8144d53198>,\n",
       " <folium.vector_layers.CircleMarker at 0x7f8144d531d0>,\n",
       " <folium.vector_layers.CircleMarker at 0x7f8144d53208>,\n",
       " <folium.vector_layers.CircleMarker at 0x7f8144d53240>,\n",
       " <folium.vector_layers.CircleMarker at 0x7f8144d53278>,\n",
       " <folium.vector_layers.CircleMarker at 0x7f8144d532b0>,\n",
       " <folium.vector_layers.CircleMarker at 0x7f8144d532e8>,\n",
       " <folium.vector_layers.CircleMarker at 0x7f8144d53320>,\n",
       " <folium.vector_layers.CircleMarker at 0x7f8144d53358>,\n",
       " <folium.vector_layers.CircleMarker at 0x7f8144d53390>,\n",
       " <folium.vector_layers.CircleMarker at 0x7f8144d533c8>,\n",
       " <folium.vector_layers.CircleMarker at 0x7f8144d53400>,\n",
       " <folium.vector_layers.CircleMarker at 0x7f8144d53438>,\n",
       " <folium.vector_layers.CircleMarker at 0x7f8144d53470>,\n",
       " <folium.vector_layers.CircleMarker at 0x7f8144d534a8>,\n",
       " <folium.vector_layers.CircleMarker at 0x7f8144d534e0>,\n",
       " <folium.vector_layers.CircleMarker at 0x7f8144d53518>,\n",
       " <folium.vector_layers.CircleMarker at 0x7f8144d53550>,\n",
       " <folium.vector_layers.CircleMarker at 0x7f8144d53588>,\n",
       " <folium.vector_layers.CircleMarker at 0x7f8144d535c0>,\n",
       " <folium.vector_layers.CircleMarker at 0x7f8144d535f8>,\n",
       " <folium.vector_layers.CircleMarker at 0x7f8144d53630>,\n",
       " <folium.vector_layers.CircleMarker at 0x7f8144d53668>,\n",
       " <folium.vector_layers.CircleMarker at 0x7f8144d536a0>,\n",
       " <folium.vector_layers.CircleMarker at 0x7f8144d536d8>,\n",
       " <folium.vector_layers.CircleMarker at 0x7f8144d53710>,\n",
       " <folium.vector_layers.CircleMarker at 0x7f8144d53748>,\n",
       " <folium.vector_layers.CircleMarker at 0x7f8144d53780>,\n",
       " <folium.vector_layers.CircleMarker at 0x7f8144d537b8>,\n",
       " <folium.vector_layers.CircleMarker at 0x7f8144d537f0>,\n",
       " <folium.vector_layers.CircleMarker at 0x7f8144d53828>,\n",
       " <folium.vector_layers.CircleMarker at 0x7f8144d53860>,\n",
       " <folium.vector_layers.CircleMarker at 0x7f8144d53898>,\n",
       " <folium.vector_layers.CircleMarker at 0x7f8144d538d0>,\n",
       " <folium.vector_layers.CircleMarker at 0x7f8144d53908>,\n",
       " <folium.vector_layers.CircleMarker at 0x7f8144d53940>,\n",
       " <folium.vector_layers.CircleMarker at 0x7f8144d53978>,\n",
       " <folium.vector_layers.CircleMarker at 0x7f8144d539b0>,\n",
       " <folium.vector_layers.CircleMarker at 0x7f8144d539e8>,\n",
       " <folium.vector_layers.CircleMarker at 0x7f8144d53a20>,\n",
       " <folium.vector_layers.CircleMarker at 0x7f8144d53a58>,\n",
       " <folium.vector_layers.CircleMarker at 0x7f8144d53a90>,\n",
       " <folium.vector_layers.CircleMarker at 0x7f8144d53ac8>,\n",
       " <folium.vector_layers.CircleMarker at 0x7f8144d53b00>,\n",
       " <folium.vector_layers.CircleMarker at 0x7f8144d53b38>,\n",
       " <folium.vector_layers.CircleMarker at 0x7f8144d53b70>,\n",
       " <folium.vector_layers.CircleMarker at 0x7f8144d53ba8>,\n",
       " <folium.vector_layers.CircleMarker at 0x7f8144d53be0>,\n",
       " <folium.vector_layers.CircleMarker at 0x7f8144d53c18>,\n",
       " <folium.vector_layers.CircleMarker at 0x7f8144d53c50>,\n",
       " <folium.vector_layers.CircleMarker at 0x7f8144d53c88>,\n",
       " <folium.vector_layers.CircleMarker at 0x7f8144d53cc0>,\n",
       " <folium.vector_layers.CircleMarker at 0x7f8144d53cf8>,\n",
       " <folium.vector_layers.CircleMarker at 0x7f8144d53d30>,\n",
       " <folium.vector_layers.CircleMarker at 0x7f8144d53d68>,\n",
       " <folium.vector_layers.CircleMarker at 0x7f8144d53da0>,\n",
       " <folium.vector_layers.CircleMarker at 0x7f8144d53dd8>,\n",
       " <folium.vector_layers.CircleMarker at 0x7f8144d53e10>,\n",
       " <folium.vector_layers.CircleMarker at 0x7f8144d53e48>,\n",
       " <folium.vector_layers.CircleMarker at 0x7f8144d53e80>,\n",
       " <folium.vector_layers.CircleMarker at 0x7f8144d53eb8>,\n",
       " <folium.vector_layers.CircleMarker at 0x7f8144d53ef0>,\n",
       " <folium.vector_layers.CircleMarker at 0x7f8144d53f28>,\n",
       " <folium.vector_layers.CircleMarker at 0x7f8144d53f60>,\n",
       " <folium.vector_layers.CircleMarker at 0x7f8144d53f98>,\n",
       " <folium.vector_layers.CircleMarker at 0x7f8144d53fd0>,\n",
       " <folium.vector_layers.CircleMarker at 0x7f8144d53048>,\n",
       " <folium.vector_layers.CircleMarker at 0x7f8144d60080>,\n",
       " <folium.vector_layers.CircleMarker at 0x7f8144d600b8>,\n",
       " <folium.vector_layers.CircleMarker at 0x7f8144d600f0>,\n",
       " <folium.vector_layers.CircleMarker at 0x7f8144d60128>,\n",
       " <folium.vector_layers.CircleMarker at 0x7f8144d60160>,\n",
       " <folium.vector_layers.CircleMarker at 0x7f8144d60198>,\n",
       " <folium.vector_layers.CircleMarker at 0x7f8144d601d0>,\n",
       " <folium.vector_layers.CircleMarker at 0x7f8144d60208>,\n",
       " <folium.vector_layers.CircleMarker at 0x7f8144d60240>,\n",
       " <folium.vector_layers.CircleMarker at 0x7f8144d60278>,\n",
       " <folium.vector_layers.CircleMarker at 0x7f8144d602b0>,\n",
       " <folium.vector_layers.CircleMarker at 0x7f8144d602e8>,\n",
       " <folium.vector_layers.CircleMarker at 0x7f8144d60320>,\n",
       " <folium.vector_layers.CircleMarker at 0x7f8144d60358>,\n",
       " <folium.vector_layers.CircleMarker at 0x7f8144d60390>,\n",
       " <folium.vector_layers.CircleMarker at 0x7f8144d603c8>,\n",
       " <folium.vector_layers.CircleMarker at 0x7f8144d60400>,\n",
       " <folium.vector_layers.CircleMarker at 0x7f8144d60438>,\n",
       " <folium.vector_layers.CircleMarker at 0x7f8144d60470>,\n",
       " <folium.vector_layers.CircleMarker at 0x7f8144d604a8>,\n",
       " <folium.vector_layers.CircleMarker at 0x7f8144d604e0>,\n",
       " <folium.vector_layers.CircleMarker at 0x7f8144d60518>,\n",
       " <folium.vector_layers.CircleMarker at 0x7f8144d60550>,\n",
       " <folium.vector_layers.CircleMarker at 0x7f8144d60588>,\n",
       " <folium.vector_layers.CircleMarker at 0x7f8144d605c0>,\n",
       " <folium.vector_layers.CircleMarker at 0x7f8144d605f8>,\n",
       " <folium.vector_layers.CircleMarker at 0x7f8144d60630>,\n",
       " <folium.vector_layers.CircleMarker at 0x7f8144d60668>,\n",
       " <folium.vector_layers.CircleMarker at 0x7f8144d606a0>,\n",
       " <folium.vector_layers.CircleMarker at 0x7f8144d606d8>,\n",
       " <folium.vector_layers.CircleMarker at 0x7f8144d60710>,\n",
       " <folium.vector_layers.CircleMarker at 0x7f8144d60748>,\n",
       " <folium.vector_layers.CircleMarker at 0x7f8144d60780>,\n",
       " <folium.vector_layers.CircleMarker at 0x7f8144d607b8>,\n",
       " <folium.vector_layers.CircleMarker at 0x7f8144d607f0>,\n",
       " <folium.vector_layers.CircleMarker at 0x7f8144d60828>,\n",
       " <folium.vector_layers.CircleMarker at 0x7f8144d60860>,\n",
       " <folium.vector_layers.CircleMarker at 0x7f8144d60898>,\n",
       " <folium.vector_layers.CircleMarker at 0x7f8144d608d0>,\n",
       " <folium.vector_layers.CircleMarker at 0x7f8144d60908>,\n",
       " <folium.vector_layers.CircleMarker at 0x7f8144d60940>,\n",
       " <folium.vector_layers.CircleMarker at 0x7f8144d60978>,\n",
       " <folium.vector_layers.CircleMarker at 0x7f8144d609b0>,\n",
       " <folium.vector_layers.CircleMarker at 0x7f8144d609e8>,\n",
       " <folium.vector_layers.CircleMarker at 0x7f8144d60a20>,\n",
       " <folium.vector_layers.CircleMarker at 0x7f8144d60a58>,\n",
       " <folium.vector_layers.CircleMarker at 0x7f8144d60a90>,\n",
       " <folium.vector_layers.CircleMarker at 0x7f8144d60ac8>,\n",
       " <folium.vector_layers.CircleMarker at 0x7f8144d60b00>,\n",
       " <folium.vector_layers.CircleMarker at 0x7f8144d60b38>,\n",
       " <folium.vector_layers.CircleMarker at 0x7f8144d60b70>,\n",
       " <folium.vector_layers.CircleMarker at 0x7f8144d60ba8>,\n",
       " <folium.vector_layers.CircleMarker at 0x7f8144d60be0>,\n",
       " <folium.vector_layers.CircleMarker at 0x7f8144d60c18>,\n",
       " <folium.vector_layers.CircleMarker at 0x7f8144d60c50>,\n",
       " <folium.vector_layers.CircleMarker at 0x7f8144d60c88>,\n",
       " <folium.vector_layers.CircleMarker at 0x7f8144d60cc0>,\n",
       " <folium.vector_layers.CircleMarker at 0x7f8144d60cf8>,\n",
       " <folium.vector_layers.CircleMarker at 0x7f8144d60d30>,\n",
       " <folium.vector_layers.CircleMarker at 0x7f8144d60d68>,\n",
       " <folium.vector_layers.CircleMarker at 0x7f8144d60da0>,\n",
       " <folium.vector_layers.CircleMarker at 0x7f8144d60dd8>,\n",
       " <folium.vector_layers.CircleMarker at 0x7f8144d60e10>,\n",
       " <folium.vector_layers.CircleMarker at 0x7f8144d60e48>,\n",
       " <folium.vector_layers.CircleMarker at 0x7f8144d60e80>,\n",
       " <folium.vector_layers.CircleMarker at 0x7f8144d60eb8>,\n",
       " <folium.vector_layers.CircleMarker at 0x7f8144d60ef0>,\n",
       " <folium.vector_layers.CircleMarker at 0x7f8144d60f28>,\n",
       " <folium.vector_layers.CircleMarker at 0x7f8144d60f60>,\n",
       " <folium.vector_layers.CircleMarker at 0x7f8144d60f98>,\n",
       " <folium.vector_layers.CircleMarker at 0x7f8144d60fd0>,\n",
       " <folium.vector_layers.CircleMarker at 0x7f8144d60048>,\n",
       " <folium.vector_layers.CircleMarker at 0x7f8144d6f080>,\n",
       " <folium.vector_layers.CircleMarker at 0x7f8144d6f0b8>,\n",
       " <folium.vector_layers.CircleMarker at 0x7f8144d6f0f0>,\n",
       " <folium.vector_layers.CircleMarker at 0x7f8144d6f128>,\n",
       " <folium.vector_layers.CircleMarker at 0x7f8144d6f160>,\n",
       " <folium.vector_layers.CircleMarker at 0x7f8144d6f198>,\n",
       " <folium.vector_layers.CircleMarker at 0x7f8144d6f1d0>,\n",
       " <folium.vector_layers.CircleMarker at 0x7f8144d6f208>,\n",
       " <folium.vector_layers.CircleMarker at 0x7f8144d6f240>,\n",
       " <folium.vector_layers.CircleMarker at 0x7f8144d6f278>,\n",
       " <folium.vector_layers.CircleMarker at 0x7f8144d6f2b0>,\n",
       " <folium.vector_layers.CircleMarker at 0x7f8144d6f2e8>,\n",
       " <folium.vector_layers.CircleMarker at 0x7f8144d6f320>,\n",
       " <folium.vector_layers.CircleMarker at 0x7f8144d6f358>,\n",
       " <folium.vector_layers.CircleMarker at 0x7f8144d6f390>,\n",
       " <folium.vector_layers.CircleMarker at 0x7f8144d6f3c8>,\n",
       " <folium.vector_layers.CircleMarker at 0x7f8144d6f400>,\n",
       " <folium.vector_layers.CircleMarker at 0x7f8144d6f438>,\n",
       " <folium.vector_layers.CircleMarker at 0x7f8144d6f470>,\n",
       " <folium.vector_layers.CircleMarker at 0x7f8144d6f4a8>,\n",
       " <folium.vector_layers.CircleMarker at 0x7f8144d6f4e0>,\n",
       " <folium.vector_layers.CircleMarker at 0x7f8144d6f518>,\n",
       " <folium.vector_layers.CircleMarker at 0x7f8144d6f550>,\n",
       " <folium.vector_layers.CircleMarker at 0x7f8144d6f588>,\n",
       " <folium.vector_layers.CircleMarker at 0x7f8144d6f5c0>,\n",
       " <folium.vector_layers.CircleMarker at 0x7f8144d6f5f8>,\n",
       " <folium.vector_layers.CircleMarker at 0x7f8144d6f630>,\n",
       " <folium.vector_layers.CircleMarker at 0x7f8144d6f668>,\n",
       " <folium.vector_layers.CircleMarker at 0x7f8144d6f6a0>,\n",
       " <folium.vector_layers.CircleMarker at 0x7f8144d6f6d8>,\n",
       " <folium.vector_layers.CircleMarker at 0x7f8144d6f710>,\n",
       " <folium.vector_layers.CircleMarker at 0x7f8144d6f748>,\n",
       " <folium.vector_layers.CircleMarker at 0x7f8144d6f780>,\n",
       " <folium.vector_layers.CircleMarker at 0x7f8144d6f7b8>,\n",
       " <folium.vector_layers.CircleMarker at 0x7f8144d6f7f0>,\n",
       " <folium.vector_layers.CircleMarker at 0x7f8144d6f828>,\n",
       " <folium.vector_layers.CircleMarker at 0x7f8144d6f860>,\n",
       " <folium.vector_layers.CircleMarker at 0x7f8144d6f898>,\n",
       " <folium.vector_layers.CircleMarker at 0x7f8144d6f8d0>,\n",
       " <folium.vector_layers.CircleMarker at 0x7f8144d6f908>,\n",
       " <folium.vector_layers.CircleMarker at 0x7f8144d6f940>,\n",
       " <folium.vector_layers.CircleMarker at 0x7f8144d6f978>,\n",
       " <folium.vector_layers.CircleMarker at 0x7f8144d6f9b0>,\n",
       " <folium.vector_layers.CircleMarker at 0x7f8144d6f9e8>,\n",
       " <folium.vector_layers.CircleMarker at 0x7f8144d6fa20>,\n",
       " <folium.vector_layers.CircleMarker at 0x7f8144d6fa58>,\n",
       " <folium.vector_layers.CircleMarker at 0x7f8144d6fa90>,\n",
       " <folium.vector_layers.CircleMarker at 0x7f8144d6fac8>,\n",
       " <folium.vector_layers.CircleMarker at 0x7f8144d6fb00>,\n",
       " <folium.vector_layers.CircleMarker at 0x7f8144d6fb38>,\n",
       " <folium.vector_layers.CircleMarker at 0x7f8144d6fb70>,\n",
       " <folium.vector_layers.CircleMarker at 0x7f8144d6fba8>,\n",
       " <folium.vector_layers.CircleMarker at 0x7f8144d6fbe0>,\n",
       " <folium.vector_layers.CircleMarker at 0x7f8144d6fc18>,\n",
       " <folium.vector_layers.CircleMarker at 0x7f8144d6fc50>,\n",
       " <folium.vector_layers.CircleMarker at 0x7f8144d6fc88>,\n",
       " <folium.vector_layers.CircleMarker at 0x7f8144d6fcc0>,\n",
       " <folium.vector_layers.CircleMarker at 0x7f8144d6fcf8>,\n",
       " <folium.vector_layers.CircleMarker at 0x7f8144d6fd30>,\n",
       " <folium.vector_layers.CircleMarker at 0x7f8144d6fd68>,\n",
       " <folium.vector_layers.CircleMarker at 0x7f8144d6fda0>,\n",
       " <folium.vector_layers.CircleMarker at 0x7f8144d6fdd8>,\n",
       " <folium.vector_layers.CircleMarker at 0x7f8144d6fe10>,\n",
       " <folium.vector_layers.CircleMarker at 0x7f8144d6fe48>,\n",
       " <folium.vector_layers.CircleMarker at 0x7f8144d6fe80>,\n",
       " <folium.vector_layers.CircleMarker at 0x7f8144d6feb8>,\n",
       " <folium.vector_layers.CircleMarker at 0x7f8144d6fef0>,\n",
       " <folium.vector_layers.CircleMarker at 0x7f8144d6ff28>,\n",
       " <folium.vector_layers.CircleMarker at 0x7f8144d6ff60>,\n",
       " <folium.vector_layers.CircleMarker at 0x7f8144d6ff98>,\n",
       " <folium.vector_layers.CircleMarker at 0x7f8144d6ffd0>,\n",
       " <folium.vector_layers.CircleMarker at 0x7f8144d6f048>,\n",
       " <folium.vector_layers.CircleMarker at 0x7f8144cfc080>,\n",
       " <folium.vector_layers.CircleMarker at 0x7f8144cfc0b8>,\n",
       " <folium.vector_layers.CircleMarker at 0x7f8144cfc0f0>,\n",
       " <folium.vector_layers.CircleMarker at 0x7f8144cfc128>,\n",
       " <folium.vector_layers.CircleMarker at 0x7f8144cfc160>,\n",
       " <folium.vector_layers.CircleMarker at 0x7f8144cfc198>,\n",
       " <folium.vector_layers.CircleMarker at 0x7f8144cfc1d0>,\n",
       " <folium.vector_layers.CircleMarker at 0x7f8144cfc208>,\n",
       " <folium.vector_layers.CircleMarker at 0x7f8144cfc240>,\n",
       " <folium.vector_layers.CircleMarker at 0x7f8144cfc278>,\n",
       " <folium.vector_layers.CircleMarker at 0x7f8144cfc2b0>,\n",
       " <folium.vector_layers.CircleMarker at 0x7f8144cfc2e8>,\n",
       " <folium.vector_layers.CircleMarker at 0x7f8144cfc320>,\n",
       " <folium.vector_layers.CircleMarker at 0x7f8144cfc358>,\n",
       " <folium.vector_layers.CircleMarker at 0x7f8144cfc390>,\n",
       " <folium.vector_layers.CircleMarker at 0x7f8144cfc3c8>,\n",
       " <folium.vector_layers.CircleMarker at 0x7f8144cfc400>,\n",
       " <folium.vector_layers.CircleMarker at 0x7f8144cfc438>,\n",
       " <folium.vector_layers.CircleMarker at 0x7f8144cfc470>,\n",
       " <folium.vector_layers.CircleMarker at 0x7f8144cfc4a8>,\n",
       " <folium.vector_layers.CircleMarker at 0x7f8144cfc4e0>,\n",
       " <folium.vector_layers.CircleMarker at 0x7f8144cfc518>,\n",
       " <folium.vector_layers.CircleMarker at 0x7f8144cfc550>,\n",
       " <folium.vector_layers.CircleMarker at 0x7f8144cfc588>,\n",
       " <folium.vector_layers.CircleMarker at 0x7f8144cfc5c0>,\n",
       " <folium.vector_layers.CircleMarker at 0x7f8144cfc5f8>,\n",
       " <folium.vector_layers.CircleMarker at 0x7f8144cfc630>,\n",
       " <folium.vector_layers.CircleMarker at 0x7f8144cfc668>,\n",
       " <folium.vector_layers.CircleMarker at 0x7f8144cfc6a0>,\n",
       " <folium.vector_layers.CircleMarker at 0x7f8144cfc6d8>,\n",
       " <folium.vector_layers.CircleMarker at 0x7f8144cfc710>,\n",
       " <folium.vector_layers.CircleMarker at 0x7f8144cfc748>,\n",
       " <folium.vector_layers.CircleMarker at 0x7f8144cfc780>,\n",
       " <folium.vector_layers.CircleMarker at 0x7f8144cfc7b8>,\n",
       " <folium.vector_layers.CircleMarker at 0x7f8144cfc7f0>,\n",
       " <folium.vector_layers.CircleMarker at 0x7f8144cfc828>,\n",
       " <folium.vector_layers.CircleMarker at 0x7f8144cfc860>,\n",
       " <folium.vector_layers.CircleMarker at 0x7f8144cfc898>,\n",
       " <folium.vector_layers.CircleMarker at 0x7f8144cfc8d0>,\n",
       " <folium.vector_layers.CircleMarker at 0x7f8144cfc908>,\n",
       " <folium.vector_layers.CircleMarker at 0x7f8144cfc940>,\n",
       " <folium.vector_layers.CircleMarker at 0x7f8144cfc978>,\n",
       " <folium.vector_layers.CircleMarker at 0x7f8144cfc9b0>,\n",
       " <folium.vector_layers.CircleMarker at 0x7f8144cfc9e8>,\n",
       " <folium.vector_layers.CircleMarker at 0x7f8144cfca20>,\n",
       " <folium.vector_layers.CircleMarker at 0x7f8144cfca58>,\n",
       " <folium.vector_layers.CircleMarker at 0x7f8144cfca90>,\n",
       " <folium.vector_layers.CircleMarker at 0x7f8144cfcac8>,\n",
       " <folium.vector_layers.CircleMarker at 0x7f8144cfcb00>,\n",
       " <folium.vector_layers.CircleMarker at 0x7f8144cfcb38>,\n",
       " <folium.vector_layers.CircleMarker at 0x7f8144cfcb70>,\n",
       " <folium.vector_layers.CircleMarker at 0x7f8144cfcba8>,\n",
       " <folium.vector_layers.CircleMarker at 0x7f8144cfcbe0>,\n",
       " <folium.vector_layers.CircleMarker at 0x7f8144cfcc18>,\n",
       " <folium.vector_layers.CircleMarker at 0x7f8144cfcc50>,\n",
       " <folium.vector_layers.CircleMarker at 0x7f8144cfcc88>,\n",
       " <folium.vector_layers.CircleMarker at 0x7f8144cfccc0>,\n",
       " <folium.vector_layers.CircleMarker at 0x7f8144cfccf8>,\n",
       " <folium.vector_layers.CircleMarker at 0x7f8144cfcd30>,\n",
       " <folium.vector_layers.CircleMarker at 0x7f8144cfcd68>,\n",
       " <folium.vector_layers.CircleMarker at 0x7f8144cfcda0>,\n",
       " <folium.vector_layers.CircleMarker at 0x7f8144cfcdd8>,\n",
       " <folium.vector_layers.CircleMarker at 0x7f8144cfce10>,\n",
       " <folium.vector_layers.CircleMarker at 0x7f8144cfce48>,\n",
       " <folium.vector_layers.CircleMarker at 0x7f8144cfce80>,\n",
       " <folium.vector_layers.CircleMarker at 0x7f8144cfceb8>,\n",
       " <folium.vector_layers.CircleMarker at 0x7f8144cfcef0>,\n",
       " <folium.vector_layers.CircleMarker at 0x7f8144cfcf28>,\n",
       " <folium.vector_layers.CircleMarker at 0x7f8144cfcf60>,\n",
       " <folium.vector_layers.CircleMarker at 0x7f8144cfcf98>,\n",
       " <folium.vector_layers.CircleMarker at 0x7f8144cfcfd0>,\n",
       " <folium.vector_layers.CircleMarker at 0x7f8144cfc048>,\n",
       " <folium.vector_layers.CircleMarker at 0x7f8144d0a048>,\n",
       " <folium.vector_layers.CircleMarker at 0x7f8144d0a0b8>,\n",
       " <folium.vector_layers.CircleMarker at 0x7f8144d0a0f0>,\n",
       " <folium.vector_layers.CircleMarker at 0x7f8144d0a128>,\n",
       " <folium.vector_layers.CircleMarker at 0x7f8144d0a160>,\n",
       " <folium.vector_layers.CircleMarker at 0x7f8144d0a198>,\n",
       " <folium.vector_layers.CircleMarker at 0x7f8144d0a1d0>,\n",
       " <folium.vector_layers.CircleMarker at 0x7f8144d0a208>,\n",
       " <folium.vector_layers.CircleMarker at 0x7f8144d0a240>,\n",
       " <folium.vector_layers.CircleMarker at 0x7f8144d0a278>,\n",
       " <folium.vector_layers.CircleMarker at 0x7f8144d0a2b0>,\n",
       " <folium.vector_layers.CircleMarker at 0x7f8144d0a2e8>,\n",
       " <folium.vector_layers.CircleMarker at 0x7f8144d0a320>,\n",
       " <folium.vector_layers.CircleMarker at 0x7f8144d0a358>,\n",
       " <folium.vector_layers.CircleMarker at 0x7f8144d0a390>,\n",
       " <folium.vector_layers.CircleMarker at 0x7f8144d0a3c8>,\n",
       " <folium.vector_layers.CircleMarker at 0x7f8144d0a400>,\n",
       " <folium.vector_layers.CircleMarker at 0x7f8144d0a438>,\n",
       " <folium.vector_layers.CircleMarker at 0x7f8144d0a470>,\n",
       " <folium.vector_layers.CircleMarker at 0x7f8144d0a4a8>,\n",
       " <folium.vector_layers.CircleMarker at 0x7f8144d0a4e0>,\n",
       " <folium.vector_layers.CircleMarker at 0x7f8144d0a518>,\n",
       " <folium.vector_layers.CircleMarker at 0x7f8144d0a550>,\n",
       " <folium.vector_layers.CircleMarker at 0x7f8144d0a588>,\n",
       " <folium.vector_layers.CircleMarker at 0x7f8144d0a5c0>,\n",
       " <folium.vector_layers.CircleMarker at 0x7f8144d0a5f8>,\n",
       " <folium.vector_layers.CircleMarker at 0x7f8144d0a630>,\n",
       " <folium.vector_layers.CircleMarker at 0x7f8144d0a668>,\n",
       " <folium.vector_layers.CircleMarker at 0x7f8144d0a6a0>,\n",
       " <folium.vector_layers.CircleMarker at 0x7f8144d0a6d8>,\n",
       " <folium.vector_layers.CircleMarker at 0x7f8144d0a710>,\n",
       " <folium.vector_layers.CircleMarker at 0x7f8144d0a748>,\n",
       " <folium.vector_layers.CircleMarker at 0x7f8144d0a780>,\n",
       " <folium.vector_layers.CircleMarker at 0x7f8144d0a7b8>,\n",
       " <folium.vector_layers.CircleMarker at 0x7f8144d0a7f0>,\n",
       " <folium.vector_layers.CircleMarker at 0x7f8144d0a828>,\n",
       " <folium.vector_layers.CircleMarker at 0x7f8144d0a860>,\n",
       " <folium.vector_layers.CircleMarker at 0x7f8144d0a898>,\n",
       " <folium.vector_layers.CircleMarker at 0x7f8144d0a8d0>,\n",
       " <folium.vector_layers.CircleMarker at 0x7f8144d0a908>,\n",
       " <folium.vector_layers.CircleMarker at 0x7f8144d0a940>,\n",
       " <folium.vector_layers.CircleMarker at 0x7f8144d0a978>,\n",
       " <folium.vector_layers.CircleMarker at 0x7f8144d0a9b0>,\n",
       " <folium.vector_layers.CircleMarker at 0x7f8144d0a9e8>,\n",
       " <folium.vector_layers.CircleMarker at 0x7f8144d0aa20>,\n",
       " <folium.vector_layers.CircleMarker at 0x7f8144d0aa58>,\n",
       " <folium.vector_layers.CircleMarker at 0x7f8144d0aa90>,\n",
       " <folium.vector_layers.CircleMarker at 0x7f8144d0aac8>,\n",
       " <folium.vector_layers.CircleMarker at 0x7f8144d0ab00>,\n",
       " <folium.vector_layers.CircleMarker at 0x7f8144d0ab38>,\n",
       " <folium.vector_layers.CircleMarker at 0x7f8144d0ab70>,\n",
       " <folium.vector_layers.CircleMarker at 0x7f8144d0aba8>,\n",
       " <folium.vector_layers.CircleMarker at 0x7f8144d0abe0>,\n",
       " <folium.vector_layers.CircleMarker at 0x7f8144d0ac18>,\n",
       " <folium.vector_layers.CircleMarker at 0x7f8144d0ac50>,\n",
       " <folium.vector_layers.CircleMarker at 0x7f8144d0ac88>,\n",
       " <folium.vector_layers.CircleMarker at 0x7f8144d0acc0>,\n",
       " <folium.vector_layers.CircleMarker at 0x7f8144d0acf8>,\n",
       " <folium.vector_layers.CircleMarker at 0x7f8144d0ad30>,\n",
       " <folium.vector_layers.CircleMarker at 0x7f8144d0ad68>,\n",
       " <folium.vector_layers.CircleMarker at 0x7f8144d0ada0>,\n",
       " <folium.vector_layers.CircleMarker at 0x7f8144d0add8>,\n",
       " <folium.vector_layers.CircleMarker at 0x7f8144d0ae10>,\n",
       " <folium.vector_layers.CircleMarker at 0x7f8144d0ae48>,\n",
       " <folium.vector_layers.CircleMarker at 0x7f8144d0ae80>,\n",
       " <folium.vector_layers.CircleMarker at 0x7f8144d0aeb8>,\n",
       " <folium.vector_layers.CircleMarker at 0x7f8144d0aef0>,\n",
       " <folium.vector_layers.CircleMarker at 0x7f8144d0af28>,\n",
       " <folium.vector_layers.CircleMarker at 0x7f8144d0af60>,\n",
       " <folium.vector_layers.CircleMarker at 0x7f8144d0af98>,\n",
       " <folium.vector_layers.CircleMarker at 0x7f8144d0afd0>,\n",
       " <folium.vector_layers.CircleMarker at 0x7f8144d0a080>,\n",
       " <folium.vector_layers.CircleMarker at 0x7f8144d18080>,\n",
       " <folium.vector_layers.CircleMarker at 0x7f8144d180b8>,\n",
       " <folium.vector_layers.CircleMarker at 0x7f8144d180f0>,\n",
       " <folium.vector_layers.CircleMarker at 0x7f8144d18128>,\n",
       " <folium.vector_layers.CircleMarker at 0x7f8144d18160>,\n",
       " <folium.vector_layers.CircleMarker at 0x7f8144d18198>,\n",
       " <folium.vector_layers.CircleMarker at 0x7f8144d181d0>,\n",
       " <folium.vector_layers.CircleMarker at 0x7f8144d18208>,\n",
       " <folium.vector_layers.CircleMarker at 0x7f8144d18240>,\n",
       " <folium.vector_layers.CircleMarker at 0x7f8144d18278>,\n",
       " <folium.vector_layers.CircleMarker at 0x7f8144d182b0>,\n",
       " <folium.vector_layers.CircleMarker at 0x7f8144d182e8>,\n",
       " <folium.vector_layers.CircleMarker at 0x7f8144d18320>,\n",
       " <folium.vector_layers.CircleMarker at 0x7f8144d18358>,\n",
       " <folium.vector_layers.CircleMarker at 0x7f8144d18390>,\n",
       " <folium.vector_layers.CircleMarker at 0x7f8144d183c8>,\n",
       " <folium.vector_layers.CircleMarker at 0x7f8144d18400>,\n",
       " <folium.vector_layers.CircleMarker at 0x7f8144d18438>,\n",
       " <folium.vector_layers.CircleMarker at 0x7f8144d18470>,\n",
       " <folium.vector_layers.CircleMarker at 0x7f8144d184a8>,\n",
       " <folium.vector_layers.CircleMarker at 0x7f8144d184e0>,\n",
       " <folium.vector_layers.CircleMarker at 0x7f8144d18518>,\n",
       " <folium.vector_layers.CircleMarker at 0x7f8144d18550>,\n",
       " <folium.vector_layers.CircleMarker at 0x7f8144d18588>,\n",
       " <folium.vector_layers.CircleMarker at 0x7f8144d185c0>,\n",
       " <folium.vector_layers.CircleMarker at 0x7f8144d185f8>,\n",
       " <folium.vector_layers.CircleMarker at 0x7f8144d18630>,\n",
       " <folium.vector_layers.CircleMarker at 0x7f8144d18668>,\n",
       " <folium.vector_layers.CircleMarker at 0x7f8144d186a0>,\n",
       " <folium.vector_layers.CircleMarker at 0x7f8144d186d8>,\n",
       " <folium.vector_layers.CircleMarker at 0x7f8144d18710>,\n",
       " <folium.vector_layers.CircleMarker at 0x7f8144d18748>,\n",
       " <folium.vector_layers.CircleMarker at 0x7f8144d18780>,\n",
       " <folium.vector_layers.CircleMarker at 0x7f8144d187b8>,\n",
       " <folium.vector_layers.CircleMarker at 0x7f8144d187f0>,\n",
       " <folium.vector_layers.CircleMarker at 0x7f8144d18828>,\n",
       " <folium.vector_layers.CircleMarker at 0x7f8144d18860>,\n",
       " <folium.vector_layers.CircleMarker at 0x7f8144d18898>,\n",
       " <folium.vector_layers.CircleMarker at 0x7f8144d188d0>,\n",
       " <folium.vector_layers.CircleMarker at 0x7f8144d18908>,\n",
       " <folium.vector_layers.CircleMarker at 0x7f8144d18940>,\n",
       " <folium.vector_layers.CircleMarker at 0x7f8144d18978>,\n",
       " <folium.vector_layers.CircleMarker at 0x7f8144d189b0>,\n",
       " <folium.vector_layers.CircleMarker at 0x7f8144d189e8>,\n",
       " <folium.vector_layers.CircleMarker at 0x7f8144d18a20>,\n",
       " <folium.vector_layers.CircleMarker at 0x7f8144d18a58>,\n",
       " <folium.vector_layers.CircleMarker at 0x7f8144d18a90>,\n",
       " <folium.vector_layers.CircleMarker at 0x7f8144d18ac8>,\n",
       " <folium.vector_layers.CircleMarker at 0x7f8144d18b00>,\n",
       " <folium.vector_layers.CircleMarker at 0x7f8144d18b38>,\n",
       " <folium.vector_layers.CircleMarker at 0x7f8144d18b70>,\n",
       " <folium.vector_layers.CircleMarker at 0x7f8144d18ba8>,\n",
       " <folium.vector_layers.CircleMarker at 0x7f8144d18be0>,\n",
       " <folium.vector_layers.CircleMarker at 0x7f8144d18c18>,\n",
       " <folium.vector_layers.CircleMarker at 0x7f8144d18c50>,\n",
       " <folium.vector_layers.CircleMarker at 0x7f8144d18c88>,\n",
       " <folium.vector_layers.CircleMarker at 0x7f8144d18cc0>,\n",
       " <folium.vector_layers.CircleMarker at 0x7f8144d18cf8>,\n",
       " <folium.vector_layers.CircleMarker at 0x7f8144d18d30>,\n",
       " <folium.vector_layers.CircleMarker at 0x7f8144d18d68>]"
      ]
     },
     "execution_count": 62,
     "metadata": {},
     "output_type": "execute_result"
    }
   ],
   "source": [
    "trip_markers = markers_from_trips(cleaned_trips)\n",
    "trip_markers"
   ]
  },
  {
   "cell_type": "code",
   "execution_count": 63,
   "metadata": {},
   "outputs": [
    {
     "data": {
      "text/plain": [
       "[{'trip_distance': 18.38,\n",
       "  'pickup_latitude': 40.64499,\n",
       "  'pickup_longitude': -73.78115},\n",
       " {'trip_distance': 1.3,\n",
       "  'pickup_latitude': 40.766931,\n",
       "  'pickup_longitude': -73.982098},\n",
       " {'trip_distance': 4.5,\n",
       "  'pickup_latitude': 40.77773,\n",
       "  'pickup_longitude': -73.951902},\n",
       " {'trip_distance': 2.4,\n",
       "  'pickup_latitude': 40.795678,\n",
       "  'pickup_longitude': -73.971049}]"
      ]
     },
     "execution_count": 63,
     "metadata": {},
     "output_type": "execute_result"
    }
   ],
   "source": [
    "cleaned_trips[0:4]"
   ]
  },
  {
   "cell_type": "code",
   "execution_count": 64,
   "metadata": {},
   "outputs": [
    {
     "data": {
      "text/plain": [
       "[[40.64499, -73.78115],\n",
       " [40.766931, -73.982098],\n",
       " [40.77773, -73.951902],\n",
       " [40.795678, -73.971049]]"
      ]
     },
     "execution_count": 64,
     "metadata": {},
     "output_type": "execute_result"
    }
   ],
   "source": [
    "trip_markers and len(trip_markers) # 1000\n",
    "\n",
    "list(map(lambda marker: marker.location, trip_markers[0:4]))\n",
    "# [[40.64499, -73.78115],\n",
    "#  [40.766931, -73.982098],\n",
    "#  [40.77773, -73.951902],\n",
    "#  [40.795678, -73.971049]]"
   ]
  },
  {
   "cell_type": "markdown",
   "metadata": {},
   "source": [
    "Ok, now that we have a function that creates locations, and a function that creates markers, it is time to write a function to plot a map. \n",
    "\n",
    "Write a function called `map_from` that, provided the first argument of a list location and second argument an integer representing the `zoom_start`, returns a `folium` map the corresponding location and `zoom_start` attributes.\n",
    "\n",
    "> Hint: The following is how to write a map with folium:\n",
    "> ```python \n",
    "    folium.Map(location=location, zoom_start=zoom_amount)\n",
    "> ```"
   ]
  },
  {
   "cell_type": "code",
   "execution_count": 71,
   "metadata": {},
   "outputs": [],
   "source": [
    "def map_from(location, zoom_amount):\n",
    "    return folium.Map(location=location, zoom_amount=zoom_amount)"
   ]
  },
  {
   "cell_type": "code",
   "execution_count": 80,
   "metadata": {},
   "outputs": [
    {
     "name": "stdout",
     "output_type": "stream",
     "text": [
      "Requirement already up-to-date: folium in /opt/conda/envs/learn-env/lib/python3.6/site-packages (0.11.0)\n",
      "Requirement already satisfied, skipping upgrade: jinja2>=2.9 in /opt/conda/envs/learn-env/lib/python3.6/site-packages (from folium) (2.10.3)\n",
      "Requirement already satisfied, skipping upgrade: branca>=0.3.0 in /opt/conda/envs/learn-env/lib/python3.6/site-packages (from folium) (0.3.1)\n",
      "Requirement already satisfied, skipping upgrade: numpy in /opt/conda/envs/learn-env/lib/python3.6/site-packages (from folium) (1.17.2)\n",
      "Requirement already satisfied, skipping upgrade: requests in /opt/conda/envs/learn-env/lib/python3.6/site-packages (from folium) (2.22.0)\n",
      "Requirement already satisfied, skipping upgrade: MarkupSafe>=0.23 in /opt/conda/envs/learn-env/lib/python3.6/site-packages (from jinja2>=2.9->folium) (1.1.1)\n",
      "Requirement already satisfied, skipping upgrade: six in /opt/conda/envs/learn-env/lib/python3.6/site-packages (from branca>=0.3.0->folium) (1.12.0)\n",
      "Requirement already satisfied, skipping upgrade: urllib3!=1.25.0,!=1.25.1,<1.26,>=1.21.1 in /opt/conda/envs/learn-env/lib/python3.6/site-packages (from requests->folium) (1.24.2)\n",
      "Requirement already satisfied, skipping upgrade: certifi>=2017.4.17 in /opt/conda/envs/learn-env/lib/python3.6/site-packages (from requests->folium) (2019.9.11)\n",
      "Requirement already satisfied, skipping upgrade: idna<2.9,>=2.5 in /opt/conda/envs/learn-env/lib/python3.6/site-packages (from requests->folium) (2.8)\n",
      "Requirement already satisfied, skipping upgrade: chardet<3.1.0,>=3.0.2 in /opt/conda/envs/learn-env/lib/python3.6/site-packages (from requests->folium) (3.0.4)\n"
     ]
    },
    {
     "ename": "AttributeError",
     "evalue": "'Map' object has no attribute 'zoom_start'",
     "output_type": "error",
     "traceback": [
      "\u001b[0;31m\u001b[0m",
      "\u001b[0;31mAttributeError\u001b[0mTraceback (most recent call last)",
      "\u001b[0;32m<ipython-input-80-e97501848bce>\u001b[0m in \u001b[0;36m<module>\u001b[0;34m\u001b[0m\n\u001b[1;32m      2\u001b[0m \u001b[0mtimes_square_map\u001b[0m \u001b[0;34m=\u001b[0m \u001b[0mmap_from\u001b[0m\u001b[0;34m(\u001b[0m\u001b[0;34m[\u001b[0m\u001b[0;36m40.7589\u001b[0m\u001b[0;34m,\u001b[0m \u001b[0;34m-\u001b[0m\u001b[0;36m73.9851\u001b[0m\u001b[0;34m]\u001b[0m\u001b[0;34m,\u001b[0m \u001b[0;36m15\u001b[0m\u001b[0;34m)\u001b[0m\u001b[0;34m\u001b[0m\u001b[0;34m\u001b[0m\u001b[0m\n\u001b[1;32m      3\u001b[0m \u001b[0mtimes_square_map\u001b[0m \u001b[0;32mand\u001b[0m \u001b[0mtimes_square_map\u001b[0m\u001b[0;34m.\u001b[0m\u001b[0mlocation\u001b[0m \u001b[0;31m# [40.7589, -73.9851]\u001b[0m\u001b[0;34m\u001b[0m\u001b[0;34m\u001b[0m\u001b[0m\n\u001b[0;32m----> 4\u001b[0;31m \u001b[0mtimes_square_map\u001b[0m \u001b[0;32mand\u001b[0m \u001b[0mtimes_square_map\u001b[0m\u001b[0;34m.\u001b[0m\u001b[0mzoom_start\u001b[0m \u001b[0;31m# 15\u001b[0m\u001b[0;34m\u001b[0m\u001b[0;34m\u001b[0m\u001b[0m\n\u001b[0m",
      "\u001b[0;31mAttributeError\u001b[0m: 'Map' object has no attribute 'zoom_start'"
     ]
    }
   ],
   "source": [
    "!pip install -U folium\n",
    "times_square_map = map_from([40.7589, -73.9851], 15)\n",
    "times_square_map and times_square_map.location # [40.7589, -73.9851]\n",
    "times_square_map and times_square_map.zoom_start # 15"
   ]
  },
  {
   "cell_type": "code",
   "execution_count": 81,
   "metadata": {
    "scrolled": true
   },
   "outputs": [
    {
     "data": {
      "text/html": [
       "<div style=\"width:100%;\"><div style=\"position:relative;width:100%;height:0;padding-bottom:60%;\"><iframe src=\"data:text/html;charset=utf-8;base64,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\" style=\"position:absolute;width:100%;height:100%;left:0;top:0;border:none !important;\" allowfullscreen webkitallowfullscreen mozallowfullscreen></iframe></div></div>"
      ],
      "text/plain": [
       "<folium.folium.Map at 0x7f8144cb5a20>"
      ]
     },
     "execution_count": 81,
     "metadata": {},
     "output_type": "execute_result"
    }
   ],
   "source": [
    "times_square_marker and times_square_marker.add_to(times_square_map)\n",
    "times_square_map"
   ]
  },
  {
   "cell_type": "markdown",
   "metadata": {},
   "source": [
    "Now that we have a marker and a map, now let's write a function that adds a lot of markers to a map.  This function should add each marker in the list to the map object then return the updated map object."
   ]
  },
  {
   "cell_type": "code",
   "execution_count": 83,
   "metadata": {},
   "outputs": [],
   "source": [
    "manhattan_map = map_from([40.7589, -73.9851], 13)"
   ]
  },
  {
   "cell_type": "code",
   "execution_count": 84,
   "metadata": {},
   "outputs": [],
   "source": [
    "def add_markers(markers, map_obj):\n",
    "    for marker in markers:\n",
    "        marker.add_to(map_obj)\n",
    "    return map_obj"
   ]
  },
  {
   "cell_type": "code",
   "execution_count": 85,
   "metadata": {
    "scrolled": false
   },
   "outputs": [],
   "source": [
    "map_with_markers = add_markers(trip_markers, manhattan_map)"
   ]
  },
  {
   "cell_type": "code",
   "execution_count": 86,
   "metadata": {},
   "outputs": [
    {
     "data": {
      "text/html": [
       "<div style=\"width:100%;\"><div style=\"position:relative;width:100%;height:0;padding-bottom:60%;\"><iframe src=\"data:text/html;charset=utf-8;base64,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